{
  "cells": [
    {
      "cell_type": "markdown",
      "metadata": {
        "id": "view-in-github",
        "colab_type": "text"
      },
      "source": [
        "<a href=\"https://colab.research.google.com/github/David-Huson/CAP4601_Project2/blob/main/project02_rev1.ipynb\" target=\"_parent\"><img src=\"https://colab.research.google.com/assets/colab-badge.svg\" alt=\"Open In Colab\"/></a>"
      ]
    },
    {
      "cell_type": "markdown",
      "metadata": {
        "id": "B2De5YOEiEpg"
      },
      "source": [
        "# CAP4601-Intro to AI Project 2\n",
        "## Image Classification using Convolutional Neural Networks"
      ]
    },
    {
      "cell_type": "markdown",
      "source": [
        "#### Extract model zip"
      ],
      "metadata": {
        "id": "o7QnZfPnIFXs"
      }
    },
    {
      "cell_type": "code",
      "source": [
        "!unzip models.zip"
      ],
      "metadata": {
        "id": "iYvmp998ICkz",
        "outputId": "4a7cb9c6-1409-4d8a-d0e6-003262b85932",
        "colab": {
          "base_uri": "https://localhost:8080/"
        }
      },
      "execution_count": 9,
      "outputs": [
        {
          "output_type": "stream",
          "name": "stdout",
          "text": [
            "Archive:  models.zip\n",
            "   creating: models/\n",
            "  inflating: models/ckpt.data-00000-of-00001  \n",
            "  inflating: __MACOSX/models/._ckpt.data-00000-of-00001  \n",
            "   creating: models/best_model/\n",
            "  inflating: __MACOSX/models/._best_model  \n",
            "  inflating: models/checkpoint       \n",
            "  inflating: __MACOSX/models/._checkpoint  \n",
            "  inflating: models/ckpt.index       \n",
            "  inflating: __MACOSX/models/._ckpt.index  \n",
            "  inflating: models/best_model/keras_metadata.pb  \n",
            "  inflating: __MACOSX/models/best_model/._keras_metadata.pb  \n",
            "   creating: models/best_model/variables/\n",
            "  inflating: __MACOSX/models/best_model/._variables  \n",
            "  inflating: models/best_model/saved_model.pb  \n",
            "  inflating: __MACOSX/models/best_model/._saved_model.pb  \n",
            "   creating: models/best_model/assets/\n",
            "  inflating: __MACOSX/models/best_model/._assets  \n",
            "  inflating: models/best_model/variables/variables.data-00000-of-00001  \n",
            "  inflating: __MACOSX/models/best_model/variables/._variables.data-00000-of-00001  \n",
            "  inflating: models/best_model/variables/variables.index  \n",
            "  inflating: __MACOSX/models/best_model/variables/._variables.index  \n"
          ]
        }
      ]
    },
    {
      "cell_type": "markdown",
      "metadata": {
        "id": "IHt0s_tE6B5-"
      },
      "source": [
        "### Install and Import Project Dependencies"
      ]
    },
    {
      "cell_type": "code",
      "execution_count": 10,
      "metadata": {
        "id": "CAJhTiNU_Z5q",
        "outputId": "c08de0a8-0ad0-4560-df6e-1126df3f6e49",
        "colab": {
          "base_uri": "https://localhost:8080/"
        }
      },
      "outputs": [
        {
          "output_type": "stream",
          "name": "stdout",
          "text": [
            "Looking in indexes: https://pypi.org/simple, https://us-python.pkg.dev/colab-wheels/public/simple/\n",
            "Requirement already satisfied: keras-tuner in /usr/local/lib/python3.9/dist-packages (1.3.5)\n",
            "Requirement already satisfied: requests in /usr/local/lib/python3.9/dist-packages (from keras-tuner) (2.27.1)\n",
            "Requirement already satisfied: packaging in /usr/local/lib/python3.9/dist-packages (from keras-tuner) (23.1)\n",
            "Requirement already satisfied: kt-legacy in /usr/local/lib/python3.9/dist-packages (from keras-tuner) (1.0.5)\n",
            "Requirement already satisfied: idna<4,>=2.5 in /usr/local/lib/python3.9/dist-packages (from requests->keras-tuner) (3.4)\n",
            "Requirement already satisfied: certifi>=2017.4.17 in /usr/local/lib/python3.9/dist-packages (from requests->keras-tuner) (2022.12.7)\n",
            "Requirement already satisfied: urllib3<1.27,>=1.21.1 in /usr/local/lib/python3.9/dist-packages (from requests->keras-tuner) (1.26.15)\n",
            "Requirement already satisfied: charset-normalizer~=2.0.0 in /usr/local/lib/python3.9/dist-packages (from requests->keras-tuner) (2.0.12)\n"
          ]
        }
      ],
      "source": [
        "%pip install -q tensorflow-datasets\n",
        "%pip install -U keras-tuner"
      ]
    },
    {
      "cell_type": "code",
      "execution_count": 11,
      "metadata": {
        "id": "BntUGBr-kTeq"
      },
      "outputs": [],
      "source": [
        "import matplotlib.pyplot as plt           # used to plot the graphs for the experiments\n",
        "import numpy as np                        # used to format data into a matrix\n",
        "\n",
        "import tensorflow as tf                   # used to evaluate and work with models\n",
        "import tensorflow_datasets as tfds        # used to import datasets from tf\n",
        "\n",
        "from tensorflow import keras              # used to build the network layers\n",
        "\n",
        "from keras_tuner import RandomSearch      # used for hyper tuning\n",
        "\n",
        "import matplotlib.pyplot as plt\n",
        "import matplotlib.ticker as ticker\n",
        "import ipywidgets as widgets \n",
        "import json"
      ]
    },
    {
      "cell_type": "code",
      "execution_count": 12,
      "metadata": {
        "id": "8wNxbes9lucx"
      },
      "outputs": [],
      "source": [
        "tfds.disable_progress_bar()             #keep the noteboook clean"
      ]
    },
    {
      "cell_type": "markdown",
      "metadata": {
        "id": "S7fee9ik6GTB"
      },
      "source": [
        "### Prepare Data for the network"
      ]
    },
    {
      "cell_type": "code",
      "execution_count": 13,
      "metadata": {
        "id": "6z-TIcwplmDq"
      },
      "outputs": [],
      "source": [
        "# tfds.list_builders()\n",
        "dataset = 'horses_or_humans'\n",
        "builder = tfds.builder(dataset)\n",
        "info = builder.info\n",
        "\n",
        "ds_train = tfds.load(\n",
        "    name=dataset,\n",
        "    split='train',\n",
        "    batch_size=-1,\n",
        "    as_supervised=True)\n",
        "\n",
        "ds_test = tfds.load(\n",
        "    name=dataset,\n",
        "    split='test',\n",
        "    batch_size=-1,\n",
        "    as_supervised=True)\n",
        "\n",
        "classes = info.features['label'].num_classes\n",
        "\n",
        "train_images, train_labels = tfds.as_numpy(ds_train)\n",
        "\n",
        "num_training_samples = len(train_images)\n",
        "\n",
        "test_images, test_labels = tfds.as_numpy(ds_test)\n",
        "\n",
        "num_test_samples = len(test_images)\n"
      ]
    },
    {
      "cell_type": "code",
      "execution_count": 14,
      "metadata": {
        "id": "6bhVu8pTQ2BV"
      },
      "outputs": [],
      "source": [
        "train_images = train_images.astype('float32')\n",
        "train_images /= 255\n",
        "\n",
        "test_images = test_images.astype('float32')\n",
        "test_images /= 255"
      ]
    },
    {
      "cell_type": "markdown",
      "metadata": {
        "id": "Nv7iqdkY_Z5v"
      },
      "source": [
        "## Load the best model we found"
      ]
    },
    {
      "cell_type": "code",
      "execution_count": 15,
      "metadata": {
        "id": "fNYgAgUb_Z5v"
      },
      "outputs": [],
      "source": [
        "model = keras.models.load_model('./models/best_model')\n",
        "load_status = model.load_weights(\"./models/ckpt\")"
      ]
    },
    {
      "cell_type": "markdown",
      "metadata": {
        "id": "l7aQnoBY_Z5w"
      },
      "source": [
        "### Evaluate the model with the test data"
      ]
    },
    {
      "cell_type": "code",
      "execution_count": 16,
      "metadata": {
        "id": "SJ-RSOM5_Z5x",
        "outputId": "eb79c73d-47a0-4055-f272-9f5c8afbc1d4",
        "colab": {
          "base_uri": "https://localhost:8080/"
        }
      },
      "outputs": [
        {
          "output_type": "stream",
          "name": "stdout",
          "text": [
            "8/8 [==============================] - 10s 54ms/step - loss: 0.5421 - accuracy: 0.9180\n",
            "Accuracy: 91.80% \n"
          ]
        }
      ],
      "source": [
        "loss, accuracy = model.evaluate(test_images, test_labels)\n",
        "print(f\"Accuracy: {accuracy*100:.2f}% \")"
      ]
    },
    {
      "cell_type": "markdown",
      "metadata": {
        "id": "JgQ5g6gv_Z5x"
      },
      "source": [
        "### See if it can make a correct prediction"
      ]
    },
    {
      "cell_type": "markdown",
      "metadata": {
        "id": "OcS8wGQu_Z5y"
      },
      "source": [
        "#### Choose a random image from the test dataset"
      ]
    },
    {
      "cell_type": "code",
      "execution_count": 17,
      "metadata": {
        "id": "oFBPxpb-_Z5y",
        "outputId": "31cb78f2-2219-4ab2-952f-33834b464520",
        "colab": {
          "base_uri": "https://localhost:8080/",
          "height": 453
        }
      },
      "outputs": [
        {
          "output_type": "execute_result",
          "data": {
            "text/plain": [
              "<matplotlib.image.AxesImage at 0x7f93e9ec5100>"
            ]
          },
          "metadata": {},
          "execution_count": 17
        },
        {
          "output_type": "display_data",
          "data": {
            "text/plain": [
              "<Figure size 640x480 with 1 Axes>"
            ],
            "image/png": "[encoded data removed]"
          },
          "metadata": {}
        }
      ],
      "source": [
        "test_image = np.array([test_images[np.random.randint(0, 100+1)]])\n",
        "rgb_images = np.array(test_image)\n",
        "rgb_image = rgb_images[0]\n",
        "plt.imshow(rgb_image)"
      ]
    },
    {
      "cell_type": "code",
      "execution_count": 18,
      "metadata": {
        "id": "hpbckII5_Z5z",
        "outputId": "e092db78-b94b-4422-c945-a66ddf2b30df",
        "colab": {
          "base_uri": "https://localhost:8080/"
        }
      },
      "outputs": [
        {
          "output_type": "stream",
          "name": "stdout",
          "text": [
            "1/1 [==============================] - 1s 520ms/step\n",
            "human - Confidence: 55.77%\n"
          ]
        }
      ],
      "source": [
        "result = model.predict(test_image)\n",
        "predicted_value = np.argmax(result)\n",
        "\n",
        "print((\"horse\" if predicted_value == 0 else \"human\") + f\" - Confidence:{result[0][predicted_value]*100: .2f}%\")"
      ]
    },
    {
      "cell_type": "markdown",
      "source": [
        "#### User uploaded file"
      ],
      "metadata": {
        "id": "qH5Ih0V1IZaM"
      }
    },
    {
      "cell_type": "code",
      "execution_count": 19,
      "metadata": {
        "id": "Tmsf8KmX_Z5z",
        "outputId": "d729191d-8886-448a-81d9-236d9b5cdf03",
        "colab": {
          "base_uri": "https://localhost:8080/",
          "height": 49,
          "referenced_widgets": [
            "f12661eb21654a69a5730ff4ee6a8b1d",
            "20b2a1669e6445b0b4305dee0c382d4a",
            "5dda34aa0a7b48048fda35015d1fe6d1"
          ]
        }
      },
      "outputs": [
        {
          "output_type": "display_data",
          "data": {
            "text/plain": [
              "FileUpload(value={}, accept='image/*', description='Upload')"
            ],
            "application/vnd.jupyter.widget-view+json": {
              "version_major": 2,
              "version_minor": 0,
              "model_id": "f12661eb21654a69a5730ff4ee6a8b1d"
            }
          },
          "metadata": {}
        }
      ],
      "source": [
        "\n",
        "uploader = widgets.FileUpload(\n",
        "    accept= 'image/*',  # Accepted file extension e.g. '.txt', '.pdf', 'image/*', 'image/*,.pdf'\n",
        "    multiple=False  # True to accept multiple files upload else False\n",
        ")\n",
        "display(uploader)"
      ]
    },
    {
      "cell_type": "code",
      "execution_count": null,
      "metadata": {
        "id": "hrlen_c3_Z50"
      },
      "outputs": [],
      "source": [
        "image_bytes = uploader.value[0].content.tobytes()"
      ]
    },
    {
      "cell_type": "code",
      "execution_count": null,
      "metadata": {
        "id": "w9LI4dAe_Z51",
        "outputId": "9759fc4f-9344-42cc-ea2b-9ae27efabb2a",
        "colab": {
          "referenced_widgets": [
            "b25f0970e30c46b1b6b9c58f8d3f06d7"
          ]
        }
      },
      "outputs": [
        {
          "data": {
            "application/vnd.jupyter.widget-view+json": {
              "model_id": "b25f0970e30c46b1b6b9c58f8d3f06d7",
              "version_major": 2,
              "version_minor": 0
            },
            "text/plain": [
              "Image(value=b'\\xff\\xd8\\xff\\xe0\\x00\\x10JFIF\\x00\\x01\\x01\\x01\\x00\\x01\\x00\\x01\\x00\\x00\\xff\\xe1\\x14\\x17Exif\\x00\\x00…"
            ]
          },
          "execution_count": 77,
          "metadata": {},
          "output_type": "execute_result"
        }
      ],
      "source": [
        "widgets.Image(value=image_bytes)\n"
      ]
    },
    {
      "cell_type": "code",
      "execution_count": null,
      "metadata": {
        "id": "Xy-Ee3Xq_Z52",
        "outputId": "c100b924-4daf-45ed-c07c-f55518c18d8a"
      },
      "outputs": [
        {
          "name": "stdout",
          "output_type": "stream",
          "text": [
            "\n",
            "1/1 [==============================] - 0s 13ms/step\n",
            "horse - Confidence: 53.65%\n"
          ]
        }
      ],
      "source": [
        "import io\n",
        "from PIL import Image\n",
        "im = Image.open(io.BytesIO(image_bytes))\n",
        "image = np.array(im)\n",
        "image = image.astype('float32')\n",
        "image /= 255\n",
        "# print(image.shape)\n",
        "print()\n",
        "# image.resize(1, 976, 976, 3)\n",
        "\n",
        "image_shape = (1,) + image.shape\n",
        "image = image.reshape(image_shape)\n",
        "result = model.predict(image)\n",
        "predicted_value = np.argmax(result)\n",
        "\n",
        "print((\"horse\" if predicted_value == 0 else \"human\") + f\" - Confidence:{result[0][predicted_value]*100: .2f}%\")"
      ]
    },
    {
      "cell_type": "markdown",
      "metadata": {
        "id": "0vV2Zk5J6L_x"
      },
      "source": [
        "### Build a [very] Basic Convolutional Neural Network"
      ]
    },
    {
      "cell_type": "code",
      "execution_count": null,
      "metadata": {
        "id": "iQl1ucktJq9W"
      },
      "outputs": [],
      "source": [
        "model = keras.Sequential([\n",
        "  keras.layers.Conv2D(64, 3, activation='relu'),\n",
        "  keras.layers.Conv2D(32, 3, activation='relu'),\n",
        "  keras.layers.Flatten(),\n",
        "  keras.layers.Dense(2, activation='softmax')\n",
        "])\n",
        "\n",
        "model.compile(loss=\"sparse_categorical_crossentropy\", optimizer=\"adam\", metrics=[\"accuracy\"])\n",
        "\n",
        "model.fit(train_images, train_labels, batch_size=32, epochs=10)"
      ]
    },
    {
      "cell_type": "markdown",
      "metadata": {
        "id": "XCg8u0_t6fYm"
      },
      "source": [
        "#### Evaulate the Model using test data"
      ]
    },
    {
      "cell_type": "code",
      "execution_count": null,
      "metadata": {
        "id": "SxWXejqjVQZ8"
      },
      "outputs": [],
      "source": [
        "loss, accuracy = model.evaluate(test_images, test_labels)\n",
        "print(f\"Accuracy: {accuracy*100:.2f}% \")"
      ]
    },
    {
      "cell_type": "code",
      "execution_count": null,
      "metadata": {
        "id": "eY-_qF8nYQsh"
      },
      "outputs": [],
      "source": [
        "test_image = np.array([test_images[np.random.randint(0, 100+1)]])\n",
        "rgb_images = np.array(test_image)\n",
        "rgb_image = rgb_images[0]\n",
        "plt.imshow(rgb_image)"
      ]
    },
    {
      "cell_type": "code",
      "execution_count": null,
      "metadata": {
        "id": "cH_5Y3wlZcBM"
      },
      "outputs": [],
      "source": [
        "result = model.predict(test_image)\n",
        "predicted_value = np.argmax(result)\n",
        "\n",
        "print(\"horse\" if predicted_value == 0 else \"human\")\n"
      ]
    },
    {
      "cell_type": "markdown",
      "metadata": {
        "id": "HFzYVMYrCM_a"
      },
      "source": [
        "### A more comprehensive CNN"
      ]
    },
    {
      "cell_type": "markdown",
      "metadata": {
        "id": "4TV86QQYCwt3"
      },
      "source": [
        "#### Adding Pooling Layers after each convolution"
      ]
    },
    {
      "cell_type": "code",
      "execution_count": null,
      "metadata": {
        "id": "kZYp0Qw9CMf5"
      },
      "outputs": [],
      "source": [
        "model = keras.Sequential([\n",
        "  keras.layers.Conv2D(64, 3, activation='relu'),\n",
        "  keras.layers.MaxPool2D(2,2),\n",
        "  keras.layers.Conv2D(32, 3, activation='relu'),\n",
        "  keras.layers.MaxPool2D(2,2),\n",
        "  keras.layers.Flatten(),\n",
        "  keras.layers.Dense(2, activation='softmax')\n",
        "])\n",
        "\n",
        "model.compile(loss=\"sparse_categorical_crossentropy\", optimizer=\"adam\", metrics=[\"accuracy\"])\n",
        "model.fit(train_images, train_labels, batch_size=32, epochs=10)"
      ]
    },
    {
      "cell_type": "code",
      "execution_count": null,
      "metadata": {
        "id": "AeNFf7aMCrXy"
      },
      "outputs": [],
      "source": [
        "loss, accuracy = model.evaluate(test_images, test_labels)\n",
        "print(f\"Accuracy: {accuracy*100:.2f}% \")"
      ]
    },
    {
      "cell_type": "markdown",
      "metadata": {
        "id": "hUf43YbgC1nP"
      },
      "source": [
        "#### Adding Dropout"
      ]
    },
    {
      "cell_type": "code",
      "execution_count": null,
      "metadata": {
        "id": "-VCezN8zC1WQ"
      },
      "outputs": [],
      "source": [
        "model = keras.Sequential([\n",
        "  keras.layers.Conv2D(64, 3, activation='relu'),\n",
        "  keras.layers.MaxPool2D(2,2),\n",
        "  keras.layers.Conv2D(32, 3, activation='relu'),\n",
        "  keras.layers.MaxPool2D(2,2),\n",
        "  keras.layers.Dropout(0.5),\n",
        "  keras.layers.Flatten(),\n",
        "  keras.layers.Dense(2, activation='softmax')\n",
        "])\n",
        "\n",
        "model.compile(loss=\"sparse_categorical_crossentropy\", optimizer=\"adam\", metrics=[\"accuracy\"])\n",
        "model.fit(train_images, train_labels, batch_size=32, epochs=10)"
      ]
    },
    {
      "cell_type": "code",
      "execution_count": null,
      "metadata": {
        "id": "6QGXannwC65p"
      },
      "outputs": [],
      "source": [
        "loss, accuracy = model.evaluate(test_images, test_labels)\n",
        "print(f\"Accuracy: {accuracy*100:.2f}% \")"
      ]
    },
    {
      "cell_type": "markdown",
      "metadata": {
        "id": "cUuNzwBgDsT8"
      },
      "source": [
        "#### Adding an intermediate Dense layer after the flattening"
      ]
    },
    {
      "cell_type": "code",
      "execution_count": null,
      "metadata": {
        "id": "flEGxg17DdDe"
      },
      "outputs": [],
      "source": [
        "model = keras.Sequential([\n",
        "  keras.layers.Conv2D(32, 3, activation='relu'),\n",
        "  keras.layers.MaxPool2D(2,2),\n",
        "  keras.layers.Conv2D(32, 3, activation='relu'),\n",
        "  keras.layers.MaxPool2D(2,2),\n",
        "  keras.layers.Dropout(0.5),\n",
        "  keras.layers.Flatten(),\n",
        "  keras.layers.Dense(64, activation='relu'),\n",
        "  keras.layers.Dense(2, activation='softmax')\n",
        "])\n",
        "\n",
        "model.compile(loss=\"sparse_categorical_crossentropy\", optimizer=\"adam\", metrics=[\"accuracy\"])\n",
        "model.fit(train_images, train_labels, batch_size=32, epochs=10)"
      ]
    },
    {
      "cell_type": "code",
      "execution_count": null,
      "metadata": {
        "id": "SWYsMjClDfEq"
      },
      "outputs": [],
      "source": [
        "loss, accuracy = model.evaluate(test_images, test_labels)\n",
        "print(f\"Accuracy: {accuracy*100:.2f}% \")"
      ]
    },
    {
      "cell_type": "markdown",
      "metadata": {
        "id": "qo_3dt78EakF"
      },
      "source": [
        "### Hyperparameter Tuning using the Keras Tuner"
      ]
    },
    {
      "cell_type": "markdown",
      "metadata": {
        "id": "TqyyDt0MFDWh"
      },
      "source": [
        "#### Experimentation With The Number of Convolutional Layers And Their Size"
      ]
    },
    {
      "cell_type": "code",
      "execution_count": null,
      "metadata": {
        "id": "v9uN1z3OJxUp"
      },
      "outputs": [],
      "source": [
        "def build_model(hp):\n",
        "\n",
        "  model = keras.Sequential()\n",
        "\n",
        "  for i in range(hp.Int(\"Conv2D layers\", min_value=1, max_value=4)):\n",
        "    model.add(keras.layers.Conv2D(hp.Choice(f\"layer {i} filters\", [16, 32, 64]), 3, activation=\"relu\"))\n",
        "\n",
        "  model.add(keras.layers.Flatten())\n",
        "  model.add(keras.layers.Dense(2, activation=\"softmax\"))\n",
        "\n",
        "  model.compile(loss=\"sparse_categorical_crossentropy\", optimizer=\"adam\", metrics=[\"accuracy\"])\n",
        "\n",
        "  return model\n",
        "\n",
        "stop_early = tf.keras.callbacks.EarlyStopping(monitor='val_accuracy', patience=3)\n",
        "\n",
        "tuner = RandomSearch(\n",
        "                    build_model, \n",
        "                    objective=\"val_accuracy\",\n",
        "                    max_trials=32, \n",
        "                     \n",
        "                    directory='./convLayers',\n",
        "                    project_name='convLayerTests')\n",
        "tuner.search(train_images, train_labels, validation_data=(test_images, test_labels), epochs=10, batch_size=32, callbacks=[stop_early])\n"
      ]
    },
    {
      "cell_type": "code",
      "execution_count": null,
      "metadata": {
        "id": "V7625IxRHXig"
      },
      "outputs": [],
      "source": [
        "tuner.results_summary()\n",
        "best_model = tuner.get_best_models()[0]"
      ]
    },
    {
      "cell_type": "code",
      "execution_count": null,
      "metadata": {
        "id": "Znoc_t1AHnRU"
      },
      "outputs": [],
      "source": [
        "loss, accuracy = best_model.evaluate(test_images, test_labels)\n",
        "print(f\"Accuracy: {accuracy*100:.2f}%, Loss: {loss:.2f}\")"
      ]
    },
    {
      "cell_type": "markdown",
      "metadata": {
        "id": "GthGkUKD_Z58"
      },
      "source": [
        "### Experimenting with the kernel size"
      ]
    },
    {
      "cell_type": "code",
      "execution_count": null,
      "metadata": {
        "id": "2JXf-6nv_Z59"
      },
      "outputs": [],
      "source": [
        "def build_model(hp):\n",
        "  model = keras.Sequential()\n",
        "\n",
        "  model.add(keras.layers.Conv2D(32, hp.Int(\"Kernel size\", min_value=2, max_value=6), activation=\"relu\"))\n",
        "\n",
        "  model.add(keras.layers.Flatten())\n",
        "  model.add(keras.layers.Dense(2, activation=\"softmax\"))\n",
        "\n",
        "  model.compile(loss=\"sparse_categorical_crossentropy\", optimizer=\"adam\", metrics=[\"accuracy\"])\n",
        "\n",
        "  return model\n",
        "\n",
        "stop_early = tf.keras.callbacks.EarlyStopping(monitor='val_accuracy', patience=3)\n"
      ]
    },
    {
      "cell_type": "code",
      "execution_count": null,
      "metadata": {
        "id": "0HZ207cO_Z59"
      },
      "outputs": [],
      "source": [
        "kernel_size_tuner = RandomSearch(\n",
        "                    build_model, \n",
        "                    objective=\"val_accuracy\",\n",
        "                    max_trials=6, \n",
        "                    directory='./convLayers',\n",
        "                    project_name='kernelSizeTests')"
      ]
    },
    {
      "cell_type": "code",
      "execution_count": null,
      "metadata": {
        "id": "sy2vf4sc_Z59"
      },
      "outputs": [],
      "source": [
        "kernel_size_tuner.search(train_images, train_labels, validation_data=(test_images, test_labels), epochs=10, batch_size=32, callbacks=[stop_early])"
      ]
    },
    {
      "cell_type": "code",
      "execution_count": null,
      "metadata": {
        "id": "ainiUWEe_Z59",
        "outputId": "20660b23-fb04-4ddb-efa1-0f6825d1e574"
      },
      "outputs": [
        {
          "name": "stdout",
          "output_type": "stream",
          "text": [
            "Results summary\n",
            "Results in ./convLayers/kernelSizeTests\n",
            "Showing 10 best trials\n",
            "<keras_tuner.engine.objective.Objective object at 0x4b4bfe950>\n",
            "Trial summary\n",
            "Hyperparameters:\n",
            "Kernel size: 3\n",
            "Score: 0.9140625\n",
            "Trial summary\n",
            "Hyperparameters:\n",
            "Kernel size: 2\n",
            "Score: 0.8515625\n",
            "Trial summary\n",
            "Hyperparameters:\n",
            "Kernel size: 6\n",
            "Score: 0.8359375\n",
            "Trial summary\n",
            "Hyperparameters:\n",
            "Kernel size: 5\n",
            "Score: 0.79296875\n",
            "Trial summary\n",
            "Hyperparameters:\n",
            "Kernel size: 4\n",
            "Score: 0.71484375\n"
          ]
        }
      ],
      "source": [
        "kernel_size_tuner.results_summary()"
      ]
    },
    {
      "cell_type": "markdown",
      "metadata": {
        "id": "1EKKdt8A_Z59"
      },
      "source": [
        "#### Results graph"
      ]
    },
    {
      "cell_type": "code",
      "execution_count": null,
      "metadata": {
        "id": "dGQzee0L_Z59",
        "outputId": "80dbab6a-9b42-49fc-f14a-205ca793381d"
      },
      "outputs": [
        {
          "name": "stdout",
          "output_type": "stream",
          "text": [
            "[(0.71484375, 4), (0.79296875, 5), (0.8359375, 6), (0.8515625, 2), (0.9140625, 3)]\n"
          ]
        }
      ],
      "source": [
        "params = kernel_size_tuner.get_best_hyperparameters(num_trials=6) #get hyper params best to worst\n",
        "\n",
        "scores = []\n",
        "kernel_size = []\n",
        "for i in range (5):\n",
        "    with open(f\"./convLayers/kernelSizeTests/trial_{i}/trial.json\", 'r') as json_file:\n",
        "        data = json.load(json_file)\n",
        "        scores.append(data[\"score\"])\n",
        "    kernel_size.append(params[i]['Kernel size'])\n",
        "\n",
        "\n",
        "scores = sorted(scores)\n",
        "kernel_size = kernel_size[::-1] # reverse the order of the hyperparameters without sorting the list\n",
        "\n",
        "sortedPairs = sorted(list(zip(scores, kernel_size)), key=lambda x: x[0])\n",
        "print(sortedPairs)"
      ]
    },
    {
      "cell_type": "code",
      "execution_count": null,
      "metadata": {
        "id": "xSDaeAD9_Z5-",
        "outputId": "de67117a-0c1d-4ac7-a810-5fa0e627214e"
      },
      "outputs": [
        {
          "data": {
            "image/png": "[encoded data removed]",
            "text/plain": [
              "<Figure size 750x350 with 1 Axes>"
            ]
          },
          "metadata": {},
          "output_type": "display_data"
        }
      ],
      "source": [
        "accuracies = [x[0] for x in sortedPairs]\n",
        "kernel_sizes = [x[1] for x in sortedPairs]\n",
        "\n",
        "for i in range(len(kernel_sizes)):\n",
        "    plt.annotate(f\"{accuracies[i]*100: .2f}%\", xy=(kernel_sizes[i], accuracies[i]), xytext=(kernel_sizes[i], accuracies[i]), ha='center')\n",
        "\n",
        "plt.yscale(\"log\")\n",
        "ax = plt.subplot()\n",
        "ax.yaxis.set_minor_formatter(ticker.PercentFormatter(xmax=1))\n",
        "plt.title(\"Kernel Size vs. Accuracy\")\n",
        "plt.xlabel('Kernel Size')\n",
        "plt.ylabel('Accuracy')\n",
        "plt.bar(kernel_sizes, accuracies, width=0.4)\n",
        "plt.savefig('graphs/kernelSize.png')\n",
        "plt.show()"
      ]
    },
    {
      "cell_type": "markdown",
      "metadata": {
        "id": "KBp8J8vH_Z5_"
      },
      "source": [
        "### Max Pooling Experiments\n",
        "Experiment to find the best cofiguration of pooling kernel size and stride"
      ]
    },
    {
      "cell_type": "code",
      "execution_count": null,
      "metadata": {
        "id": "yWTqStvK_Z6A"
      },
      "outputs": [],
      "source": [
        "def build_model(hp):\n",
        "  \n",
        "  model = keras.Sequential()\n",
        "\n",
        "  model.add(keras.layers.Conv2D(32, 4))\n",
        "  model.add(keras.layers.MaxPool2D(hp.Int(\"Kernel Size\", min_value=2, max_value=6), hp.Int(\"Kernel Stride\", min_value=1, max_value=3)))\n",
        "\n",
        "  model.add(keras.layers.Flatten())\n",
        "  model.add(keras.layers.Dense(2, activation=\"softmax\"))\n",
        "\n",
        "  model.compile(loss=\"sparse_categorical_crossentropy\", optimizer=\"adam\", metrics=[\"accuracy\"])\n",
        "\n",
        "  return model\n",
        "\n",
        "stop_early = tf.keras.callbacks.EarlyStopping(monitor='val_accuracy', patience=3)\n",
        "\n",
        "tuner = RandomSearch(\n",
        "                    build_model, \n",
        "                    objective=\"val_accuracy\",\n",
        "                    max_trials=10, \n",
        "                     \n",
        "                    directory='./convLayers',\n",
        "                    project_name='maxPoolKernelTests')\n",
        "tuner.search(train_images, train_labels, validation_data=(test_images, test_labels), epochs=10, batch_size=32, callbacks=[stop_early])"
      ]
    },
    {
      "cell_type": "code",
      "execution_count": null,
      "metadata": {
        "id": "ptDiquKh_Z6A"
      },
      "outputs": [],
      "source": [
        "tuner.results_summary()\n",
        "best_model = tuner.get_best_models()[0]\n"
      ]
    },
    {
      "cell_type": "markdown",
      "metadata": {
        "id": "DDq9sEhS_Z6A"
      },
      "source": [
        "### Experimenting with the configuration of convolutions and pooling"
      ]
    },
    {
      "cell_type": "code",
      "execution_count": null,
      "metadata": {
        "id": "Zg7dFaja_Z6B"
      },
      "outputs": [],
      "source": [
        "def build_model(hp):\n",
        "  model = keras.Sequential()\n",
        "\n",
        "  for i in range(hp.Int(\"Convolution Layers\", min_value=1, max_value=4)):\n",
        "    model.add(keras.layers.Conv2D(hp.Choice(f\"layer {i} filters\", [16, 32, 64]), 3, activation=\"relu\"))\n",
        "    kernelSize = hp.Int(\"Kernel Size\", min_value=0, max_value=6)\n",
        "    if(kernelSize > 1):\n",
        "      model.add(keras.layers.MaxPool2D(kernelSize, hp.Int(\"Kernel Stride\", min_value=1, max_value=3)))\n",
        "\n",
        "  model.add(keras.layers.Flatten())\n",
        "  model.add(keras.layers.Dense(2, activation=\"softmax\"))\n",
        "\n",
        "  model.compile(loss=\"sparse_categorical_crossentropy\", optimizer=\"adam\", metrics=[\"accuracy\"])\n",
        "\n",
        "  return model\n",
        "\n",
        "stop_early = tf.keras.callbacks.EarlyStopping(monitor='val_accuracy', patience=3)\n",
        "\n",
        "tuner = RandomSearch(\n",
        "                    build_model, \n",
        "                    objective=\"val_accuracy\",\n",
        "                    max_trials=10, \n",
        "                     \n",
        "                    directory='./convLayers',\n",
        "                    project_name='convolutionModuleTests')\n",
        "tuner.search(train_images, train_labels, validation_data=(test_images, test_labels), epochs=10, batch_size=32, callbacks=[stop_early])"
      ]
    },
    {
      "cell_type": "markdown",
      "metadata": {
        "id": "0-FKMI5U_Z6B"
      },
      "source": [
        "### Experimenting with the number of layers, number of filters per layer, number of max pooling layers, kernel size, and kernel stride"
      ]
    },
    {
      "cell_type": "code",
      "execution_count": null,
      "metadata": {
        "id": "QEp0nL4R_Z6B"
      },
      "outputs": [],
      "source": [
        "def build_model(hp):\n",
        "  model = keras.Sequential()\n",
        "\n",
        "  for i in range(hp.Int(\"Convolution Layers\", min_value=1, max_value=4)):\n",
        "    model.add(keras.layers.Conv2D(hp.Choice(f\"layer {i} filters\", [16, 32, 64]), 3, activation=hp.Choice(f\"layer {i} activation\", [\"relu\", \"tanh\", \"softmax\"])))\n",
        "    kernelSize = hp.Int(\"Kernel Size\", min_value=0, max_value=6)\n",
        "    if(kernelSize > 1):\n",
        "      model.add(keras.layers.MaxPool2D(kernelSize, hp.Int(\"Kernel Stride\", min_value=1, max_value=3)))\n",
        "\n",
        "  model.add(keras.layers.Flatten())\n",
        "  model.add(keras.layers.Dense(2, activation=\"softmax\"))\n",
        "\n",
        "  model.compile(loss=\"sparse_categorical_crossentropy\", optimizer=\"adam\", metrics=[\"accuracy\"])\n",
        "\n",
        "  return model"
      ]
    },
    {
      "cell_type": "code",
      "execution_count": null,
      "metadata": {
        "id": "rPHEopxh_Z6B"
      },
      "outputs": [],
      "source": [
        "tuner = RandomSearch(\n",
        "                    build_model, \n",
        "                    objective=\"val_accuracy\",\n",
        "                    max_trials=100, \n",
        "                    directory='./convLayers',\n",
        "                    project_name='convolutionModuleTestsWithActivation')"
      ]
    },
    {
      "cell_type": "code",
      "execution_count": null,
      "metadata": {
        "id": "TBb3oTJl_Z6C"
      },
      "outputs": [],
      "source": [
        "stop_early = tf.keras.callbacks.EarlyStopping(monitor='val_accuracy', patience=3)\n",
        "\n",
        "tuner.search(train_images, train_labels, validation_data=(test_images, test_labels), epochs=10, batch_size=32, callbacks=[stop_early])"
      ]
    },
    {
      "cell_type": "code",
      "execution_count": null,
      "metadata": {
        "id": "kZYrByDh_Z6C",
        "outputId": "d43337c3-357b-450a-bcb7-1bbdd77ffc6f"
      },
      "outputs": [
        {
          "name": "stdout",
          "output_type": "stream",
          "text": [
            "Results summary\n",
            "Results in ./convLayers/convolutionModuleTestsWithActivation\n",
            "Showing 10 best trials\n",
            "<keras_tuner.engine.objective.Objective object at 0x3ad391000>\n",
            "Trial summary\n",
            "Hyperparameters:\n",
            "Convolution Layers: 4\n",
            "layer 0 filters: 64\n",
            "layer 0 activation: softmax\n",
            "Kernel Size: 4\n",
            "layer 1 filters: 16\n",
            "layer 1 activation: softmax\n",
            "layer 2 filters: 32\n",
            "layer 2 activation: tanh\n",
            "layer 3 filters: 16\n",
            "layer 3 activation: tanh\n",
            "Kernel Stride: 3\n",
            "Score: 0.91796875\n",
            "Trial summary\n",
            "Hyperparameters:\n",
            "Convolution Layers: 3\n",
            "layer 0 filters: 64\n",
            "layer 0 activation: softmax\n",
            "Kernel Size: 2\n",
            "layer 1 filters: 32\n",
            "layer 1 activation: relu\n",
            "layer 2 filters: 32\n",
            "layer 2 activation: tanh\n",
            "layer 3 filters: 16\n",
            "layer 3 activation: tanh\n",
            "Kernel Stride: 3\n",
            "Score: 0.9140625\n",
            "Trial summary\n",
            "Hyperparameters:\n",
            "Convolution Layers: 3\n",
            "layer 0 filters: 32\n",
            "layer 0 activation: tanh\n",
            "Kernel Size: 2\n",
            "layer 1 filters: 16\n",
            "layer 1 activation: tanh\n",
            "layer 2 filters: 64\n",
            "layer 2 activation: softmax\n",
            "layer 3 filters: 64\n",
            "layer 3 activation: softmax\n",
            "Kernel Stride: 2\n",
            "Score: 0.90625\n",
            "Trial summary\n",
            "Hyperparameters:\n",
            "Convolution Layers: 3\n",
            "layer 0 filters: 64\n",
            "layer 0 activation: softmax\n",
            "Kernel Size: 5\n",
            "layer 1 filters: 64\n",
            "layer 1 activation: relu\n",
            "layer 2 filters: 16\n",
            "layer 2 activation: tanh\n",
            "layer 3 filters: 64\n",
            "layer 3 activation: tanh\n",
            "Kernel Stride: 3\n",
            "Score: 0.90625\n",
            "Trial summary\n",
            "Hyperparameters:\n",
            "Convolution Layers: 2\n",
            "layer 0 filters: 16\n",
            "layer 0 activation: softmax\n",
            "Kernel Size: 4\n",
            "layer 1 filters: 64\n",
            "layer 1 activation: relu\n",
            "layer 2 filters: 64\n",
            "layer 2 activation: softmax\n",
            "layer 3 filters: 16\n",
            "layer 3 activation: relu\n",
            "Kernel Stride: 3\n",
            "Score: 0.90625\n",
            "Trial summary\n",
            "Hyperparameters:\n",
            "Convolution Layers: 3\n",
            "layer 0 filters: 16\n",
            "layer 0 activation: softmax\n",
            "Kernel Size: 4\n",
            "layer 1 filters: 64\n",
            "layer 1 activation: tanh\n",
            "layer 2 filters: 16\n",
            "layer 2 activation: relu\n",
            "layer 3 filters: 64\n",
            "layer 3 activation: relu\n",
            "Kernel Stride: 2\n",
            "Score: 0.90625\n",
            "Trial summary\n",
            "Hyperparameters:\n",
            "Convolution Layers: 4\n",
            "layer 0 filters: 64\n",
            "layer 0 activation: relu\n",
            "Kernel Size: 5\n",
            "layer 1 filters: 32\n",
            "layer 1 activation: softmax\n",
            "layer 2 filters: 32\n",
            "layer 2 activation: tanh\n",
            "layer 3 filters: 32\n",
            "layer 3 activation: relu\n",
            "Kernel Stride: 2\n",
            "Score: 0.90234375\n",
            "Trial summary\n",
            "Hyperparameters:\n",
            "Convolution Layers: 3\n",
            "layer 0 filters: 16\n",
            "layer 0 activation: tanh\n",
            "Kernel Size: 3\n",
            "layer 1 filters: 16\n",
            "layer 1 activation: softmax\n",
            "layer 2 filters: 64\n",
            "layer 2 activation: relu\n",
            "layer 3 filters: 64\n",
            "layer 3 activation: relu\n",
            "Kernel Stride: 2\n",
            "Score: 0.90234375\n",
            "Trial summary\n",
            "Hyperparameters:\n",
            "Convolution Layers: 3\n",
            "layer 0 filters: 32\n",
            "layer 0 activation: softmax\n",
            "Kernel Size: 3\n",
            "layer 1 filters: 32\n",
            "layer 1 activation: tanh\n",
            "layer 2 filters: 16\n",
            "layer 2 activation: relu\n",
            "layer 3 filters: 32\n",
            "layer 3 activation: softmax\n",
            "Kernel Stride: 2\n",
            "Score: 0.8984375\n",
            "Trial summary\n",
            "Hyperparameters:\n",
            "Convolution Layers: 2\n",
            "layer 0 filters: 64\n",
            "layer 0 activation: tanh\n",
            "Kernel Size: 1\n",
            "layer 1 filters: 16\n",
            "layer 1 activation: softmax\n",
            "layer 2 filters: 32\n",
            "layer 2 activation: softmax\n",
            "layer 3 filters: 32\n",
            "layer 3 activation: softmax\n",
            "Kernel Stride: 2\n",
            "Score: 0.89453125\n",
            "None\n"
          ]
        }
      ],
      "source": [
        "tuner = RandomSearch(\n",
        "                    build_model, \n",
        "                    objective=\"val_accuracy\",\n",
        "                    max_trials=100, \n",
        "                    directory='./convLayers',\n",
        "                    overwrite=False,\n",
        "                    project_name='convolutionModuleTestsWithActivation')\n",
        "print(tuner.results_summary())\n",
        "best_model = tuner.get_best_models()[0]"
      ]
    },
    {
      "cell_type": "markdown",
      "metadata": {
        "id": "1KPpDuSn_Z6C"
      },
      "source": [
        "### Experimenting with the number of Conv2D layers with the same number of filters"
      ]
    },
    {
      "cell_type": "code",
      "execution_count": null,
      "metadata": {
        "id": "g-K-fPIU_Z6D"
      },
      "outputs": [],
      "source": [
        "def build_model(hp):\n",
        "  model = keras.Sequential()\n",
        "\n",
        "  for i in range(hp.Int(\"Conv2D layers\", min_value=1, max_value=6)):\n",
        "    model.add(keras.layers.Conv2D(32, 3, activation=\"relu\"))\n",
        "\n",
        "  model.add(keras.layers.Flatten())\n",
        "  model.add(keras.layers.Dense(2, activation=\"softmax\"))\n",
        "\n",
        "  model.compile(loss=\"sparse_categorical_crossentropy\", optimizer=\"adam\", metrics=[\"accuracy\"])\n",
        "\n",
        "  return model\n",
        "\n",
        "stop_early = tf.keras.callbacks.EarlyStopping(monitor='val_accuracy', patience=3)"
      ]
    },
    {
      "cell_type": "code",
      "execution_count": null,
      "metadata": {
        "id": "4lBMFtjV_Z6D"
      },
      "outputs": [],
      "source": [
        "num_trials = 32\n",
        "conv2d_layers_tuner = RandomSearch(\n",
        "                    build_model, \n",
        "                    objective=\"val_accuracy\",\n",
        "                    max_trials=num_trials, \n",
        "                    directory='./convLayers',\n",
        "                    project_name='convLayerTests-number-of-layers')\n"
      ]
    },
    {
      "cell_type": "code",
      "execution_count": null,
      "metadata": {
        "id": "kXmmpHtI_Z6D",
        "outputId": "844f42ca-46ef-45c6-c2c4-a32801f7fc16"
      },
      "outputs": [
        {
          "name": "stdout",
          "output_type": "stream",
          "text": [
            "Trial 6 Complete [00h 00m 14s]\n",
            "val_accuracy: 0.87109375\n",
            "\n",
            "Best val_accuracy So Far: 0.8828125\n",
            "Total elapsed time: 00h 07m 32s\n"
          ]
        }
      ],
      "source": [
        "conv2d_layers_tuner.search(train_images, train_labels, validation_data=(test_images, test_labels), epochs=10, batch_size=32, callbacks=[stop_early])"
      ]
    },
    {
      "cell_type": "code",
      "execution_count": null,
      "metadata": {
        "id": "WMt5zXJG_Z6E",
        "outputId": "6273e072-f75a-4dce-8183-d0f2a642578f"
      },
      "outputs": [
        {
          "name": "stdout",
          "output_type": "stream",
          "text": [
            "Results summary\n",
            "Results in ./convLayers/convLayerTests-number-of-layers\n",
            "Showing 10 best trials\n",
            "<keras_tuner.engine.objective.Objective object at 0x4b6f7b6d0>\n",
            "Trial summary\n",
            "Hyperparameters:\n",
            "Conv2D layers: 6\n",
            "Score: 0.8828125\n",
            "Trial summary\n",
            "Hyperparameters:\n",
            "Conv2D layers: 4\n",
            "Score: 0.875\n",
            "Trial summary\n",
            "Hyperparameters:\n",
            "Conv2D layers: 1\n",
            "Score: 0.87109375\n",
            "Trial summary\n",
            "Hyperparameters:\n",
            "Conv2D layers: 5\n",
            "Score: 0.83984375\n",
            "Trial summary\n",
            "Hyperparameters:\n",
            "Conv2D layers: 2\n",
            "Score: 0.83203125\n",
            "Trial summary\n",
            "Hyperparameters:\n",
            "Conv2D layers: 3\n",
            "Score: 0.78515625\n",
            "None\n"
          ]
        }
      ],
      "source": [
        "print(conv2d_layers_tuner.results_summary())"
      ]
    },
    {
      "cell_type": "markdown",
      "metadata": {
        "id": "1d4Hxb8N_Z6E"
      },
      "source": [
        "#### Results graph"
      ]
    },
    {
      "cell_type": "code",
      "execution_count": null,
      "metadata": {
        "id": "W085Y1Fj_Z6E",
        "outputId": "7eb83c4d-72ca-4d7d-8d88-c2dc687c827b"
      },
      "outputs": [
        {
          "name": "stdout",
          "output_type": "stream",
          "text": [
            "[(0.78515625, 3), (0.83203125, 2), (0.83984375, 5), (0.87109375, 1), (0.875, 4), (0.8828125, 6)]\n"
          ]
        }
      ],
      "source": [
        "num_completed_trials = 6\n",
        "params = conv2d_layers_tuner.get_best_hyperparameters(num_trials=num_completed_trials) #get hyper params best to worst\n",
        "\n",
        "scores = []\n",
        "layers_count = []\n",
        "for i in range (num_completed_trials):\n",
        "    with open(f\"./convLayers/convLayerTests-number-of-layers/trial_{i:02d}/trial.json\", 'r') as json_file:\n",
        "        data = json.load(json_file)\n",
        "        scores.append(data[\"score\"])\n",
        "    layers_count.append(params[i]['Conv2D layers'])\n",
        "\n",
        "scores = sorted(scores)\n",
        "layers_count = layers_count[::-1] # reverse the order of the hyperparameters without sorting the list\n",
        "\n",
        "sortedPairs = sorted(list(zip(scores, layers_count)), key=lambda x: x[0])\n",
        "print(sortedPairs)"
      ]
    },
    {
      "cell_type": "code",
      "execution_count": null,
      "metadata": {
        "id": "zlxjHHJx_Z6F",
        "outputId": "c67c6e55-460d-45bd-b3a2-499d7a016259"
      },
      "outputs": [
        {
          "data": {
            "image/png": "[encoded data removed]",
            "text/plain": [
              "<Figure size 750x350 with 1 Axes>"
            ]
          },
          "metadata": {},
          "output_type": "display_data"
        }
      ],
      "source": [
        "accuracies = [x[0] for x in sortedPairs]\n",
        "layers_count = [x[1] for x in sortedPairs]\n",
        "\n",
        "for i in range(len(layers_count)):\n",
        "    plt.annotate(f\"{accuracies[i]*100: .2f}%\", xy=(layers_count[i], accuracies[i]), xytext=(layers_count[i], accuracies[i]), ha='center')\n",
        "\n",
        "plt.yscale(\"log\")\n",
        "ax = plt.subplot()\n",
        "ax.yaxis.set_minor_formatter(ticker.PercentFormatter(xmax=1))\n",
        "plt.title(\"Number of Convolutional Layers vs. Accuracy\")\n",
        "plt.xlabel('Convolutional Layers')\n",
        "plt.ylabel('Accuracy')\n",
        "plt.bar(layers_count, accuracies, width=0.4)\n",
        "plt.savefig('graphs/numFilters.png')\n",
        "plt.show()"
      ]
    },
    {
      "cell_type": "markdown",
      "metadata": {
        "id": "pc6jZtoM_Z6F"
      },
      "source": [
        "### Experimenting with only the number of filters in each Convolution"
      ]
    },
    {
      "cell_type": "code",
      "execution_count": null,
      "metadata": {
        "id": "Zd_sGaqg_Z6F"
      },
      "outputs": [],
      "source": [
        "def build_model(hp):\n",
        "  model = keras.Sequential()\n",
        "\n",
        "  filterNum = hp.Choice(\"NumFilters\", [16, 32, 64, 128])\n",
        "  model.add(keras.layers.Conv2D(filterNum, 3, activation=\"relu\"))\n",
        "  model.add(keras.layers.Conv2D(filterNum, 3, activation=\"relu\"))\n",
        "  model.add(keras.layers.Conv2D(filterNum, 3, activation=\"relu\"))\n",
        "  model.add(keras.layers.Conv2D(filterNum, 3, activation=\"relu\"))\n",
        "  model.add(keras.layers.Conv2D(filterNum, 3, activation=\"relu\"))\n",
        "  model.add(keras.layers.Conv2D(filterNum, 3, activation=\"relu\"))\n",
        "\n",
        "  model.add(keras.layers.Flatten())\n",
        "  model.add(keras.layers.Dense(2, activation=\"softmax\"))\n",
        "\n",
        "  model.compile(loss=\"sparse_categorical_crossentropy\", optimizer=\"adam\", metrics=[\"accuracy\"])\n",
        "\n",
        "  return model\n",
        "\n",
        "stop_early = tf.keras.callbacks.EarlyStopping(monitor='val_accuracy', patience=3)"
      ]
    },
    {
      "cell_type": "code",
      "execution_count": null,
      "metadata": {
        "id": "fQR1UPrE_Z6G"
      },
      "outputs": [],
      "source": [
        "num_filters_tuner = RandomSearch(\n",
        "                    build_model, \n",
        "                    objective=\"val_accuracy\",\n",
        "                    max_trials=32, \n",
        "                    directory='./convLayers',\n",
        "                    project_name='convLayerTests-FilterSize')"
      ]
    },
    {
      "cell_type": "code",
      "execution_count": null,
      "metadata": {
        "id": "-dxabSQN_Z6G",
        "outputId": "84be54a9-c8cf-4792-860f-9a24ecb318e3"
      },
      "outputs": [
        {
          "name": "stdout",
          "output_type": "stream",
          "text": [
            "Trial 4 Complete [00h 01m 34s]\n",
            "val_accuracy: 0.91015625\n",
            "\n",
            "Best val_accuracy So Far: 0.91015625\n",
            "Total elapsed time: 00h 29m 01s\n"
          ]
        }
      ],
      "source": [
        "num_filters_tuner.search(train_images, train_labels, validation_data=(test_images, test_labels), epochs=10, batch_size=32, callbacks=[stop_early])"
      ]
    },
    {
      "cell_type": "code",
      "execution_count": null,
      "metadata": {
        "id": "2echmGLH_Z6G",
        "outputId": "444532eb-58dc-4146-baac-626d9d6c4f68"
      },
      "outputs": [
        {
          "name": "stdout",
          "output_type": "stream",
          "text": [
            "Results summary\n",
            "Results in ./convLayers/convLayerTests-FilterSize\n",
            "Showing 10 best trials\n",
            "<keras_tuner.engine.objective.Objective object at 0x4b3594ac0>\n",
            "Trial summary\n",
            "Hyperparameters:\n",
            "NumFilters: 32\n",
            "Score: 0.91015625\n",
            "Trial summary\n",
            "Hyperparameters:\n",
            "NumFilters: 128\n",
            "Score: 0.8671875\n",
            "Trial summary\n",
            "Hyperparameters:\n",
            "NumFilters: 16\n",
            "Score: 0.85546875\n",
            "Trial summary\n",
            "Hyperparameters:\n",
            "NumFilters: 64\n",
            "Score: 0.8046875\n",
            "None\n"
          ]
        }
      ],
      "source": [
        "print(num_filters_tuner.results_summary())"
      ]
    },
    {
      "cell_type": "markdown",
      "metadata": {
        "id": "a0OBzpMF_Z6H"
      },
      "source": [
        "#### Results graph"
      ]
    },
    {
      "cell_type": "code",
      "execution_count": null,
      "metadata": {
        "id": "hC9kI7a4_Z6H",
        "outputId": "db581c8e-7edd-47bd-a5dd-403b6b2556ee"
      },
      "outputs": [
        {
          "name": "stdout",
          "output_type": "stream",
          "text": [
            "[(0.8046875, 64), (0.85546875, 16), (0.8671875, 128), (0.91015625, 32)]\n"
          ]
        }
      ],
      "source": [
        "params = num_filters_tuner.get_best_hyperparameters(num_trials=4) #get hyper params best to worst\n",
        "\n",
        "scores = []\n",
        "filter_count = []\n",
        "for i in range(4):\n",
        "    with open(f\"./convLayers/convLayerTests-FilterSize/trial_{i:02d}/trial.json\", 'r') as json_file:\n",
        "        data = json.load(json_file)\n",
        "        scores.append(data[\"score\"])\n",
        "    filter_count.append(params[i]['NumFilters'])\n",
        "\n",
        "\n",
        "scores = sorted(scores)\n",
        "filter_count = filter_count[::-1] # reverse the order of the hyperparameters without sorting the list\n",
        "\n",
        "sortedPairs = sorted(list(zip(scores, filter_count)), key=lambda x: x[0])\n",
        "print(sortedPairs)"
      ]
    },
    {
      "cell_type": "code",
      "execution_count": null,
      "metadata": {
        "id": "VtG1iOKF_Z6I",
        "outputId": "b1d35fc6-a0ab-44e7-93ad-597be114008b"
      },
      "outputs": [
        {
          "data": {
            "image/png": "[encoded data removed]",
            "text/plain": [
              "<Figure size 750x350 with 1 Axes>"
            ]
          },
          "metadata": {},
          "output_type": "display_data"
        }
      ],
      "source": [
        "accuracies = [x[0] for x in sortedPairs]\n",
        "filter_count = [x[1] for x in sortedPairs]\n",
        "\n",
        "for i in range(len(filter_count)):\n",
        "    plt.annotate(f\"{accuracies[i]*100: .2f}%\", xy=(filter_count[i], accuracies[i]), xytext=(filter_count[i], accuracies[i]), ha='center')\n",
        "plt.yscale(\"log\")\n",
        "ax = plt.subplot()\n",
        "ax.yaxis.set_minor_formatter(ticker.PercentFormatter(xmax=1))\n",
        "plt.xticks(filter_count)\n",
        "plt.title(\"Number of Convolutional Layer Filters vs. Accuracy\")\n",
        "plt.xlabel('Convolutional Layer Filters')\n",
        "plt.ylabel('Accuracy')\n",
        "plt.bar(filter_count, accuracies, width=10)\n",
        "plt.show()"
      ]
    },
    {
      "cell_type": "markdown",
      "metadata": {
        "id": "Zpbmyt2a_Z6I"
      },
      "source": [
        "### Experimenting with the pool kernel size"
      ]
    },
    {
      "cell_type": "code",
      "execution_count": null,
      "metadata": {
        "id": "aVhD3G5X_Z6I"
      },
      "outputs": [],
      "source": [
        "def build_model(hp):\n",
        "  model = keras.Sequential()\n",
        "\n",
        "  stride = 2\n",
        "  poolSize = hp.Int(\"Pooling Kernel Size\", min_value=2, max_value=8) \n",
        "\n",
        "  model.add(keras.layers.Conv2D(32, 3, activation=\"relu\"))\n",
        "  model.add(keras.layers.MaxPool2D(poolSize,stride))\n",
        "  model.add(keras.layers.Conv2D(32, 3, activation=\"relu\"))\n",
        "  model.add(keras.layers.MaxPool2D(poolSize,stride))\n",
        "  model.add(keras.layers.Conv2D(32, 3, activation=\"relu\"))\n",
        "  model.add(keras.layers.MaxPool2D(poolSize,stride))\n",
        "\n",
        "  model.add(keras.layers.Flatten())\n",
        "  model.add(keras.layers.Dense(2, activation=\"softmax\"))\n",
        "\n",
        "  model.compile(loss=\"sparse_categorical_crossentropy\", optimizer=\"adam\", metrics=[\"accuracy\"])\n",
        "\n",
        "  return model\n",
        "\n",
        "stop_early = tf.keras.callbacks.EarlyStopping(monitor='val_accuracy', patience=3)"
      ]
    },
    {
      "cell_type": "code",
      "execution_count": null,
      "metadata": {
        "id": "1_c_88Wr_Z6I"
      },
      "outputs": [],
      "source": [
        "pooling_kernel_size_tuner = RandomSearch(\n",
        "                    build_model, \n",
        "                    objective=\"val_accuracy\",\n",
        "                    max_trials=20, \n",
        "                    directory='./convLayers',\n",
        "                    project_name='poolingLayerTests_kernelSize')"
      ]
    },
    {
      "cell_type": "code",
      "execution_count": null,
      "metadata": {
        "id": "HyR515gA_Z6J",
        "outputId": "a1e565a9-84dc-42f0-be95-82ed709b8112"
      },
      "outputs": [
        {
          "name": "stdout",
          "output_type": "stream",
          "text": [
            "Trial 7 Complete [00h 01m 24s]\n",
            "val_accuracy: 0.85546875\n",
            "\n",
            "Best val_accuracy So Far: 0.85546875\n",
            "Total elapsed time: 00h 05m 44s\n"
          ]
        }
      ],
      "source": [
        "pooling_kernel_size_tuner.search(train_images, train_labels, validation_data=(test_images, test_labels), epochs=10, batch_size=32, callbacks=[stop_early])"
      ]
    },
    {
      "cell_type": "code",
      "execution_count": null,
      "metadata": {
        "id": "F24Cjh_7_Z6J",
        "outputId": "416ac195-729d-40b3-c332-fded94aed67d"
      },
      "outputs": [
        {
          "name": "stdout",
          "output_type": "stream",
          "text": [
            "Results summary\n",
            "Results in ./convLayers/poolingLayerTests_kernelSize\n",
            "Showing 10 best trials\n",
            "<keras_tuner.engine.objective.Objective object at 0x4b39863b0>\n",
            "Trial summary\n",
            "Hyperparameters:\n",
            "Pooling Kernel Size: 6\n",
            "Score: 0.85546875\n",
            "Trial summary\n",
            "Hyperparameters:\n",
            "Pooling Kernel Size: 8\n",
            "Score: 0.8515625\n",
            "Trial summary\n",
            "Hyperparameters:\n",
            "Pooling Kernel Size: 2\n",
            "Score: 0.84765625\n",
            "Trial summary\n",
            "Hyperparameters:\n",
            "Pooling Kernel Size: 3\n",
            "Score: 0.8359375\n",
            "Trial summary\n",
            "Hyperparameters:\n",
            "Pooling Kernel Size: 7\n",
            "Score: 0.83203125\n",
            "Trial summary\n",
            "Hyperparameters:\n",
            "Pooling Kernel Size: 4\n",
            "Score: 0.81640625\n",
            "Trial summary\n",
            "Hyperparameters:\n",
            "Pooling Kernel Size: 5\n",
            "Score: 0.79296875\n",
            "None\n"
          ]
        }
      ],
      "source": [
        "print(pooling_kernel_size_tuner.results_summary())"
      ]
    },
    {
      "cell_type": "markdown",
      "metadata": {
        "id": "ortaQF1g_Z6J"
      },
      "source": [
        "#### Results Graph"
      ]
    },
    {
      "cell_type": "code",
      "execution_count": null,
      "metadata": {
        "id": "Yf0fZ3Ru_Z6K",
        "outputId": "aa2afc08-586d-43a8-cf14-c2a4a28f20c8"
      },
      "outputs": [
        {
          "name": "stdout",
          "output_type": "stream",
          "text": [
            "[(0.79296875, 5), (0.81640625, 4), (0.83203125, 7), (0.8359375, 3), (0.84765625, 2), (0.8515625, 8), (0.85546875, 6)]\n"
          ]
        }
      ],
      "source": [
        "numTrials = 7\n",
        "params = pooling_kernel_size_tuner.get_best_hyperparameters(num_trials=numTrials) #get hyper params best to worst\n",
        "\n",
        "scores = []\n",
        "pool_size = []\n",
        "for i in range(numTrials):\n",
        "    with open(f\"./convLayers/poolingLayerTests_kernelSize/trial_{i:02d}/trial.json\", 'r') as json_file:\n",
        "        data = json.load(json_file)\n",
        "        scores.append(data[\"score\"])\n",
        "    pool_size.append(params[i]['Pooling Kernel Size'])\n",
        "\n",
        "\n",
        "scores = sorted(scores)\n",
        "pool_size = pool_size[::-1] # reverse the order of the hyperparameters without sorting the list\n",
        "\n",
        "sortedPairs = sorted(list(zip(scores, pool_size)), key=lambda x: x[0])\n",
        "print(sortedPairs)"
      ]
    },
    {
      "cell_type": "code",
      "execution_count": null,
      "metadata": {
        "id": "m0z9WQCA_Z6K",
        "outputId": "719edb78-d95e-4c76-cde1-9fce0534dcc1"
      },
      "outputs": [
        {
          "data": {
            "image/png": "[encoded data removed]",
            "text/plain": [
              "<Figure size 750x350 with 1 Axes>"
            ]
          },
          "metadata": {},
          "output_type": "display_data"
        }
      ],
      "source": [
        "accuracies = [x[0] for x in sortedPairs]\n",
        "pool_sizes = [x[1] for x in sortedPairs]\n",
        "\n",
        "for i in range(numTrials):\n",
        "    plt.annotate(f\"{accuracies[i]*100: .2f}%\", xy=(pool_sizes[i], accuracies[i]), xytext=(pool_sizes[i], accuracies[i]), ha='center')\n",
        "\n",
        "plt.yscale(\"log\")\n",
        "ax = plt.subplot()\n",
        "ax.yaxis.set_minor_formatter(ticker.PercentFormatter(xmax=1))\n",
        "\n",
        "plt.title(\"Max Pooling Layer Kernel Size vs. Accuracy\")\n",
        "plt.xlabel('Max Pool Kernel Size')\n",
        "plt.ylabel('Accuracy')\n",
        "plt.bar(pool_size, accuracies, width=0.4)\n",
        "plt.savefig('graphs/poolingSize.png')\n",
        "plt.show()"
      ]
    },
    {
      "cell_type": "markdown",
      "metadata": {
        "id": "ajmdhKEg_Z6L"
      },
      "source": [
        "### Experimenting with the pool stride"
      ]
    },
    {
      "cell_type": "code",
      "execution_count": null,
      "metadata": {
        "id": "1dMVHYjw_Z6L"
      },
      "outputs": [],
      "source": [
        "def build_model(hp):\n",
        "  \n",
        "  model = keras.Sequential()\n",
        "\n",
        "  model.add(keras.layers.Conv2D(32, 3, activation=\"relu\"))\n",
        "  stride = hp.Int(\"Kernel Stride\", min_value=1, max_value=5)\n",
        "  poolSize = 6\n",
        "  model.add(keras.layers.Conv2D(32, 3, activation=\"relu\"))\n",
        "  model.add(keras.layers.MaxPool2D(poolSize,stride))\n",
        "  model.add(keras.layers.Conv2D(32, 3, activation=\"relu\"))\n",
        "  model.add(keras.layers.MaxPool2D(poolSize,stride))\n",
        "  model.add(keras.layers.Conv2D(32, 3, activation=\"relu\"))\n",
        "  model.add(keras.layers.MaxPool2D(poolSize,stride))\n",
        "\n",
        "  model.add(keras.layers.Flatten())\n",
        "  model.add(keras.layers.Dense(2, activation=\"softmax\"))\n",
        "\n",
        "  model.compile(loss=\"sparse_categorical_crossentropy\", optimizer=\"adam\", metrics=[\"accuracy\"])\n",
        "\n",
        "  return model\n",
        "\n",
        "stop_early = tf.keras.callbacks.EarlyStopping(monitor='val_accuracy', patience=3)"
      ]
    },
    {
      "cell_type": "code",
      "execution_count": null,
      "metadata": {
        "id": "2EnbzBPH_Z6L"
      },
      "outputs": [],
      "source": [
        "\n",
        "pool_stride_tuner = RandomSearch(\n",
        "                    build_model, \n",
        "                    objective=\"val_accuracy\",\n",
        "                    max_trials=10,\n",
        "                    directory='./convLayers',\n",
        "                    project_name='poolingLayerTests-stride-tests')"
      ]
    },
    {
      "cell_type": "code",
      "execution_count": null,
      "metadata": {
        "id": "kz9AdoMF_Z6L",
        "outputId": "118ab181-a57a-4254-f137-687762556b1c"
      },
      "outputs": [
        {
          "name": "stdout",
          "output_type": "stream",
          "text": [
            "Trial 5 Complete [00h 00m 33s]\n",
            "val_accuracy: 0.875\n",
            "\n",
            "Best val_accuracy So Far: 0.8984375\n",
            "Total elapsed time: 08h 28m 43s\n"
          ]
        }
      ],
      "source": [
        "pool_stride_tuner.search(train_images, train_labels, validation_data=(test_images, test_labels), epochs=10, batch_size=32, callbacks=[stop_early])"
      ]
    },
    {
      "cell_type": "code",
      "execution_count": null,
      "metadata": {
        "id": "WxMj4nlc_Z6M",
        "outputId": "13ede194-cd2a-4319-9155-5c0346ae6a6d"
      },
      "outputs": [
        {
          "name": "stdout",
          "output_type": "stream",
          "text": [
            "Results summary\n",
            "Results in ./convLayers/poolingLayerTests-stride-tests\n",
            "Showing 10 best trials\n",
            "<keras_tuner.engine.objective.Objective object at 0x4b4841a50>\n",
            "Trial summary\n",
            "Hyperparameters:\n",
            "Kernel Stride: 5\n",
            "Score: 0.8984375\n",
            "Trial summary\n",
            "Hyperparameters:\n",
            "Kernel Stride: 4\n",
            "Score: 0.890625\n",
            "Trial summary\n",
            "Hyperparameters:\n",
            "Kernel Stride: 3\n",
            "Score: 0.875\n",
            "Trial summary\n",
            "Hyperparameters:\n",
            "Kernel Stride: 2\n",
            "Score: 0.85546875\n",
            "Trial summary\n",
            "Hyperparameters:\n",
            "Kernel Stride: 1\n",
            "Score: 0.8125\n",
            "None\n"
          ]
        }
      ],
      "source": [
        "print(pool_stride_tuner.results_summary())"
      ]
    },
    {
      "cell_type": "markdown",
      "metadata": {
        "id": "R4EaQN8N_Z6M"
      },
      "source": [
        "#### Results Graph"
      ]
    },
    {
      "cell_type": "code",
      "execution_count": null,
      "metadata": {
        "id": "lMH-zO9y_Z6M",
        "outputId": "5e42b13a-4a2c-4f0c-8505-4f66a0bacda5"
      },
      "outputs": [
        {
          "name": "stdout",
          "output_type": "stream",
          "text": [
            "[(0.8125, 1), (0.85546875, 2), (0.875, 3), (0.890625, 4), (0.8984375, 5)]\n"
          ]
        }
      ],
      "source": [
        "numTrials = 5\n",
        "params = pool_stride_tuner.get_best_hyperparameters(num_trials=numTrials) #get hyper params best to worst\n",
        "\n",
        "scores = []\n",
        "pool_stride = []\n",
        "for i in range(numTrials):\n",
        "    with open(f\"./convLayers/poolingLayerTests-stride-tests/trial_{i:02d}/trial.json\", 'r') as json_file:\n",
        "        data = json.load(json_file)\n",
        "        scores.append(data[\"score\"])\n",
        "    pool_stride.append(params[i]['Kernel Stride'])\n",
        "\n",
        "\n",
        "scores = sorted(scores)\n",
        "pool_stride = pool_stride[::-1] # reverse the order of the hyperparameters without sorting the list\n",
        "\n",
        "sortedPairs = sorted(list(zip(scores, pool_stride)), key=lambda x: x[0])\n",
        "print(sortedPairs)"
      ]
    },
    {
      "cell_type": "code",
      "execution_count": null,
      "metadata": {
        "id": "JXfogxKq_Z6N",
        "outputId": "b9a1f448-97db-47f5-9602-5ef69c708b03"
      },
      "outputs": [
        {
          "data": {
            "image/png": "[encoded data removed]",
            "text/plain": [
              "<Figure size 750x350 with 1 Axes>"
            ]
          },
          "metadata": {},
          "output_type": "display_data"
        }
      ],
      "source": [
        "accuracies = [x[0] for x in sortedPairs]\n",
        "pool_stride = [x[1] for x in sortedPairs]\n",
        "\n",
        "for i in range(numTrials):\n",
        "    plt.annotate(f\"{accuracies[i]*100: .2f}%\", xy=(pool_stride[i], accuracies[i]), xytext=(pool_stride[i], accuracies[i]), ha='center')\n",
        "\n",
        "plt.yscale(\"log\")\n",
        "ax = plt.subplot()\n",
        "ax.yaxis.set_minor_formatter(ticker.PercentFormatter(xmax=1))\n",
        "\n",
        "plt.title(\"Max Pooling Layer Kernel Stride vs. Accuracy\")\n",
        "plt.xlabel('Max Pool Kernel Stride')\n",
        "plt.ylabel('Accuracy')\n",
        "plt.bar(pool_stride, accuracies, width=0.4)\n",
        "plt.savefig('graphs/poolStride.png')\n",
        "plt.show()\n"
      ]
    },
    {
      "cell_type": "markdown",
      "metadata": {
        "id": "-CdzCwPQ_Z6N"
      },
      "source": [
        "### Experimenting with additional Dense layers prior to the output layer"
      ]
    },
    {
      "cell_type": "code",
      "execution_count": null,
      "metadata": {
        "id": "tnAYmVRt_Z6O"
      },
      "outputs": [],
      "source": [
        "def build_model(hp):\n",
        "  model = keras.Sequential()\n",
        "  poolSize = 5\n",
        "  stride = 4\n",
        "  model.add(keras.layers.Conv2D(32, 3, activation=\"relu\"))\n",
        "  model.add(keras.layers.Conv2D(32, 3, activation=\"relu\"))\n",
        "  model.add(keras.layers.MaxPool2D(poolSize,stride))\n",
        "  model.add(keras.layers.Conv2D(32, 3, activation=\"relu\"))\n",
        "  model.add(keras.layers.MaxPool2D(poolSize,stride))\n",
        "  model.add(keras.layers.Conv2D(32, 3, activation=\"relu\"))\n",
        "  model.add(keras.layers.MaxPool2D(poolSize,stride))\n",
        "\n",
        "  model.add(keras.layers.Flatten())\n",
        "  model.add(keras.layers.Dense(hp.Choice(\"Dense Layer Size\", [2, 4, 8, 16, 32,64, 128, 256, 512, 1028]), activation=\"softmax\"))\n",
        "  model.add(keras.layers.Dense(2, activation=\"sigmoid\"))\n",
        "\n",
        "  model.compile(loss=\"sparse_categorical_crossentropy\", optimizer=\"adam\", metrics=[\"accuracy\"])\n",
        "  \n",
        "  return model\n",
        "\n",
        "stop_early = tf.keras.callbacks.EarlyStopping(monitor='val_accuracy', patience=3)"
      ]
    },
    {
      "cell_type": "code",
      "execution_count": null,
      "metadata": {
        "id": "KBdYbSqM_Z6O",
        "outputId": "8aac3b5f-e4dd-4b5c-89b7-5bf81539cf78"
      },
      "outputs": [
        {
          "name": "stdout",
          "output_type": "stream",
          "text": [
            "INFO:tensorflow:Reloading Oracle from existing project ./convLayers/dense_layer_tests/oracle.json\n",
            "INFO:tensorflow:Reloading Tuner from ./convLayers/dense_layer_tests/chief.json\n"
          ]
        }
      ],
      "source": [
        "dense_layer_tuner = RandomSearch(\n",
        "                    build_model, \n",
        "                    objective=\"val_accuracy\",\n",
        "                    max_trials=10, \n",
        "                    directory='./convLayers',\n",
        "                    project_name='dense_layer_tests')"
      ]
    },
    {
      "cell_type": "code",
      "execution_count": null,
      "metadata": {
        "id": "YSYDibGJ_Z6P",
        "outputId": "36311f15-c5b4-404b-e6d1-bc8566ac6c7e"
      },
      "outputs": [
        {
          "name": "stdout",
          "output_type": "stream",
          "text": [
            "Trial 10 Complete [00h 01m 13s]\n",
            "val_accuracy: 0.87890625\n",
            "\n",
            "Best val_accuracy So Far: 0.91796875\n",
            "Total elapsed time: 00h 09m 43s\n"
          ]
        }
      ],
      "source": [
        "dense_layer_tuner.search(train_images, train_labels, validation_data=(test_images, test_labels), epochs=10, batch_size=32, callbacks=[stop_early])"
      ]
    },
    {
      "cell_type": "code",
      "execution_count": null,
      "metadata": {
        "id": "zK_wRVPO_Z6Q",
        "outputId": "7c8fbed6-0ef3-4893-e199-d01fec93779d"
      },
      "outputs": [
        {
          "name": "stdout",
          "output_type": "stream",
          "text": [
            "Results summary\n",
            "Results in ./convLayers/dense_layer_tests\n",
            "Showing 10 best trials\n",
            "<keras_tuner.engine.objective.Objective object at 0x28d63f400>\n",
            "Trial summary\n",
            "Hyperparameters:\n",
            "Dense Layer Size: 512\n",
            "Score: 0.91796875\n",
            "Trial summary\n",
            "Hyperparameters:\n",
            "Dense Layer Size: 4\n",
            "Score: 0.91015625\n",
            "Trial summary\n",
            "Hyperparameters:\n",
            "Dense Layer Size: 1028\n",
            "Score: 0.89453125\n",
            "Trial summary\n",
            "Hyperparameters:\n",
            "Dense Layer Size: 8\n",
            "Score: 0.89453125\n",
            "Trial summary\n",
            "Hyperparameters:\n",
            "Dense Layer Size: 2\n",
            "Score: 0.890625\n",
            "Trial summary\n",
            "Hyperparameters:\n",
            "Dense Layer Size: 64\n",
            "Score: 0.890625\n",
            "Trial summary\n",
            "Hyperparameters:\n",
            "Dense Layer Size: 16\n",
            "Score: 0.88671875\n",
            "Trial summary\n",
            "Hyperparameters:\n",
            "Dense Layer Size: 256\n",
            "Score: 0.87890625\n",
            "Trial summary\n",
            "Hyperparameters:\n",
            "Dense Layer Size: 32\n",
            "Score: 0.875\n",
            "Trial summary\n",
            "Hyperparameters:\n",
            "Dense Layer Size: 128\n",
            "Score: 0.8671875\n"
          ]
        }
      ],
      "source": [
        "dense_layer_tuner.results_summary()"
      ]
    },
    {
      "cell_type": "markdown",
      "metadata": {
        "id": "bIPcfpCP_Z6R"
      },
      "source": [
        "#### Results Graph"
      ]
    },
    {
      "cell_type": "code",
      "execution_count": null,
      "metadata": {
        "id": "m7airx31_Z6R",
        "outputId": "e2969610-c84c-4152-81fe-de5bfa8932da"
      },
      "outputs": [
        {
          "name": "stdout",
          "output_type": "stream",
          "text": [
            "[(0.890625, 2), (0.91015625, 4), (0.89453125, 8), (0.88671875, 16), (0.875, 32), (0.890625, 64), (0.8671875, 128), (0.87890625, 256), (0.91796875, 512), (0.89453125, 1028)]\n"
          ]
        }
      ],
      "source": [
        "numTrials = 10\n",
        "params = dense_layer_tuner.get_best_hyperparameters(num_trials=numTrials) #get hyper params best to worst\n",
        "\n",
        "scores = []\n",
        "dense_layer_size = []\n",
        "for i in range(numTrials):\n",
        "    with open(f\"./convLayers/dense_layer_tests/trial_{i:02d}/trial.json\", 'r') as json_file:\n",
        "        data = json.load(json_file)\n",
        "        scores.append(data[\"score\"])\n",
        "    dense_layer_size.append(params[i]['Dense Layer Size'])\n",
        "\n",
        "\n",
        "scores = sorted(scores)\n",
        "dense_layer_size = dense_layer_size[::-1] # reverse the order of the hyperparameters without sorting the list\n",
        "\n",
        "\n",
        "sortedPairs = sorted(list(zip(scores, dense_layer_size)), key=lambda x: x[1])\n",
        "print(sortedPairs)"
      ]
    },
    {
      "cell_type": "code",
      "execution_count": null,
      "metadata": {
        "id": "7uSMBKSb_Z6S",
        "outputId": "dd2fe526-b2fe-4d21-c2fc-4380d0012f42"
      },
      "outputs": [
        {
          "data": {
            "image/png": "[encoded data removed]",
            "text/plain": [
              "<Figure size 700x700 with 1 Axes>"
            ]
          },
          "metadata": {},
          "output_type": "display_data"
        }
      ],
      "source": [
        "n = 10\n",
        "a = np.arange(n)\n",
        "# tuples = sorted(list(zip(accuracies, dense_layer_size, a)), key=lambda x: x[1])\n",
        "accuracies = [x[0] for x in sortedPairs]\n",
        "dense_layer_sizes = [x[1] for x in sortedPairs]\n",
        "\n",
        "x = dense_layer_sizes\n",
        "y = accuracies\n",
        "# z  = [x[2] for x in tuples]\n",
        "\n",
        "fig = plt.figure(1, figsize=(7,7))\n",
        "ax  = fig.add_subplot(212)\n",
        "\n",
        "for i in range(numTrials):\n",
        "    ax.annotate(f\"{accuracies[i]*100: .2f}%\", xy=(a[i], accuracies[i]), xytext=(a[i], accuracies[i]), ha='center')\n",
        "\n",
        "ax.bar(a, y, width=0.4) #we plot y as a function of a, which parametrizes x\n",
        "plt.yscale(\"log\")\n",
        "ax.yaxis.set_minor_formatter(ticker.PercentFormatter(xmax=1))\n",
        "ax.xaxis.set_ticks(a) #set the ticks to be a\n",
        "\n",
        "ax.xaxis.set_ticklabels(x) # change the ticks' names to x\n",
        "plt.title(\"Dense Layer Size vs. Accuracy\")\n",
        "plt.xlabel('Dense Layer Size (number of nodes)')\n",
        "plt.ylabel('Accuracy')\n",
        "plt.savefig('graphs/denseLayerSizes.png')\n",
        "plt.show()"
      ]
    },
    {
      "cell_type": "markdown",
      "metadata": {
        "id": "DU6_nw4-_Z6T"
      },
      "source": [
        "### Save the best Model"
      ]
    },
    {
      "cell_type": "code",
      "execution_count": null,
      "metadata": {
        "id": "kSo_xIx9_Z6U",
        "outputId": "2f10bbdb-2aba-4424-e90e-42cfaa92b00c"
      },
      "outputs": [
        {
          "name": "stdout",
          "output_type": "stream",
          "text": [
            "8/8 [==============================] - 1s 70ms/step - loss: 0.5421 - accuracy: 0.9180\n",
            "Accuracy: 91.80% \n"
          ]
        }
      ],
      "source": [
        "best_model = dense_layer_tuner.get_best_models()[0]\n",
        "loss, accuracy = best_model.evaluate(test_images, test_labels)\n",
        "print(f\"Accuracy: {accuracy*100:.2f}% \")\n",
        "# best_model.summary()"
      ]
    },
    {
      "cell_type": "code",
      "execution_count": null,
      "metadata": {
        "id": "g4t-7UcU_Z6U",
        "outputId": "b04310bb-d114-4660-dee5-a87fb87d6e7d"
      },
      "outputs": [
        {
          "name": "stdout",
          "output_type": "stream",
          "text": [
            "Model: \"sequential\"\n",
            "_________________________________________________________________\n",
            " Layer (type)                Output Shape              Param #   \n",
            "=================================================================\n",
            " conv2d (Conv2D)             (32, 298, 298, 32)        896       \n",
            "                                                                 \n",
            " conv2d_1 (Conv2D)           (32, 296, 296, 32)        9248      \n",
            "                                                                 \n",
            " max_pooling2d (MaxPooling2D  (32, 73, 73, 32)         0         \n",
            " )                                                               \n",
            "                                                                 \n",
            " conv2d_2 (Conv2D)           (32, 71, 71, 32)          9248      \n",
            "                                                                 \n",
            " max_pooling2d_1 (MaxPooling  (32, 17, 17, 32)         0         \n",
            " 2D)                                                             \n",
            "                                                                 \n",
            " conv2d_3 (Conv2D)           (32, 15, 15, 32)          9248      \n",
            "                                                                 \n",
            " max_pooling2d_2 (MaxPooling  (32, 3, 3, 32)           0         \n",
            " 2D)                                                             \n",
            "                                                                 \n",
            " flatten (Flatten)           (32, 288)                 0         \n",
            "                                                                 \n",
            " dense (Dense)               (32, 512)                 147968    \n",
            "                                                                 \n",
            " dense_1 (Dense)             (32, 2)                   1026      \n",
            "                                                                 \n",
            "=================================================================\n",
            "Total params: 177,634\n",
            "Trainable params: 177,634\n",
            "Non-trainable params: 0\n",
            "_________________________________________________________________\n"
          ]
        }
      ],
      "source": [
        "best_model.summary()"
      ]
    },
    {
      "cell_type": "code",
      "execution_count": null,
      "metadata": {
        "id": "9NY9dPfX_Z6U",
        "outputId": "f6e6238b-f081-40a4-daeb-a8db406a57cb"
      },
      "outputs": [
        {
          "name": "stderr",
          "output_type": "stream",
          "text": [
            "WARNING:absl:Found untraced functions such as _jit_compiled_convolution_op, _jit_compiled_convolution_op, _jit_compiled_convolution_op, _jit_compiled_convolution_op while saving (showing 4 of 4). These functions will not be directly callable after loading.\n"
          ]
        },
        {
          "name": "stdout",
          "output_type": "stream",
          "text": [
            "INFO:tensorflow:Assets written to: ./models/best_model/assets\n"
          ]
        },
        {
          "name": "stderr",
          "output_type": "stream",
          "text": [
            "INFO:tensorflow:Assets written to: ./models/best_model/assets\n"
          ]
        }
      ],
      "source": [
        "best_model.save_weights(\"./models/ckpt\")\n",
        "best_model.save(\"./models/best_model\")"
      ]
    },
    {
      "cell_type": "code",
      "execution_count": null,
      "metadata": {
        "id": "w0RmBUxu_Z6U"
      },
      "outputs": [],
      "source": []
    }
  ],
  "metadata": {
    "accelerator": "GPU",
    "colab": {
      "provenance": [],
      "toc_visible": true,
      "include_colab_link": true
    },
    "gpuClass": "standard",
    "kernelspec": {
      "display_name": "Python 3 (ipykernel)",
      "language": "python",
      "name": "python3"
    },
    "language_info": {
      "codemirror_mode": {
        "name": "ipython",
        "version": 3
      },
      "file_extension": ".py",
      "mimetype": "text/x-python",
      "name": "python",
      "nbconvert_exporter": "python",
      "pygments_lexer": "ipython3",
      "version": "3.10.10"
    },
    "widgets": {
      "application/vnd.jupyter.widget-state+json": {
        "f12661eb21654a69a5730ff4ee6a8b1d": {
          "model_module": "@jupyter-widgets/controls",
          "model_name": "FileUploadModel",
          "model_module_version": "1.5.0",
          "state": {
            "_counter": 0,
            "_dom_classes": [],
            "_model_module": "@jupyter-widgets/controls",
            "_model_module_version": "1.5.0",
            "_model_name": "FileUploadModel",
            "_view_count": null,
            "_view_module": "@jupyter-widgets/controls",
            "_view_module_version": "1.5.0",
            "_view_name": "FileUploadView",
            "accept": "image/*",
            "button_style": "",
            "data": [],
            "description": "Upload",
            "description_tooltip": null,
            "disabled": false,
            "error": "",
            "icon": "upload",
            "layout": "IPY_MODEL_20b2a1669e6445b0b4305dee0c382d4a",
            "metadata": [],
            "multiple": false,
            "style": "IPY_MODEL_5dda34aa0a7b48048fda35015d1fe6d1"
          }
        },
        "20b2a1669e6445b0b4305dee0c382d4a": {
          "model_module": "@jupyter-widgets/base",
          "model_name": "LayoutModel",
          "model_module_version": "1.2.0",
          "state": {
            "_model_module": "@jupyter-widgets/base",
            "_model_module_version": "1.2.0",
            "_model_name": "LayoutModel",
            "_view_count": null,
            "_view_module": "@jupyter-widgets/base",
            "_view_module_version": "1.2.0",
            "_view_name": "LayoutView",
            "align_content": null,
            "align_items": null,
            "align_self": null,
            "border": null,
            "bottom": null,
            "display": null,
            "flex": null,
            "flex_flow": null,
            "grid_area": null,
            "grid_auto_columns": null,
            "grid_auto_flow": null,
            "grid_auto_rows": null,
            "grid_column": null,
            "grid_gap": null,
            "grid_row": null,
            "grid_template_areas": null,
            "grid_template_columns": null,
            "grid_template_rows": null,
            "height": null,
            "justify_content": null,
            "justify_items": null,
            "left": null,
            "margin": null,
            "max_height": null,
            "max_width": null,
            "min_height": null,
            "min_width": null,
            "object_fit": null,
            "object_position": null,
            "order": null,
            "overflow": null,
            "overflow_x": null,
            "overflow_y": null,
            "padding": null,
            "right": null,
            "top": null,
            "visibility": null,
            "width": null
          }
        },
        "5dda34aa0a7b48048fda35015d1fe6d1": {
          "model_module": "@jupyter-widgets/controls",
          "model_name": "ButtonStyleModel",
          "model_module_version": "1.5.0",
          "state": {
            "_model_module": "@jupyter-widgets/controls",
            "_model_module_version": "1.5.0",
            "_model_name": "ButtonStyleModel",
            "_view_count": null,
            "_view_module": "@jupyter-widgets/base",
            "_view_module_version": "1.2.0",
            "_view_name": "StyleView",
            "button_color": null,
            "font_weight": ""
          }
        }
      }
    }
  },
  "nbformat": 4,
  "nbformat_minor": 0
}