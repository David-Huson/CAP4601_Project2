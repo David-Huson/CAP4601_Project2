{
  "nbformat": 4,
  "nbformat_minor": 0,
  "metadata": {
    "colab": {
      "provenance": [],
      "collapsed_sections": [
        "sCDCuuXxtqJN",
        "n6OZ7HEC3RYv"
      ],
      "include_colab_link": true
    },
    "kernelspec": {
      "name": "python3",
      "display_name": "Python 3"
    },
    "accelerator": "GPU"
  },
  "cells": [
    {
      "cell_type": "markdown",
      "metadata": {
        "id": "view-in-github",
        "colab_type": "text"
      },
      "source": [
        "<a href=\"https://colab.research.google.com/github/David-Huson/CAP4601_Project2/blob/main/project02Colab.ipynb\" target=\"_parent\"><img src=\"https://colab.research.google.com/assets/colab-badge.svg\" alt=\"Open In Colab\"/></a>"
      ]
    },
    {
      "cell_type": "markdown",
      "source": [
        "# CAP4601-Intro to AI Project 2\n",
        "## Image Classification using Convolutional Neural Networks"
      ],
      "metadata": {
        "id": "Kp1HDtH_oRbj"
      }
    },
    {
      "cell_type": "markdown",
      "source": [
        "### Install and Import Dependencies"
      ],
      "metadata": {
        "id": "y3LOpR2Cp_ia"
      }
    },
    {
      "cell_type": "code",
      "source": [
        "!pip install -q tensorflow tensorflow-datasets"
      ],
      "metadata": {
        "id": "8ZI6eKm8oRIw"
      },
      "execution_count": null,
      "outputs": []
    },
    {
      "cell_type": "code",
      "source": [
        "!pip install -U keras-tuner"
      ],
      "metadata": {
        "id": "jnP2C-KNppfA"
      },
      "execution_count": null,
      "outputs": []
    },
    {
      "cell_type": "code",
      "source": [
        "import matplotlib.pyplot as plt         # used to plot the graphs for the experiments\n",
        "import numpy as np                      # used to format data into a matrix\n",
        "\n",
        "import tensorflow as tf                 # used to evaluate and work with models\n",
        "import tensorflow_datasets as tfds      # used to import datasets from tf\n",
        "\n",
        "from tensorflow import keras            # used to build the network layers"
      ],
      "metadata": {
        "id": "ptIrIOa5p9n6"
      },
      "execution_count": null,
      "outputs": []
    },
    {
      "cell_type": "code",
      "source": [
        "tfds.disable_progress_bar()             #keep the noteboook clean"
      ],
      "metadata": {
        "id": "2azOozm2s6Th"
      },
      "execution_count": null,
      "outputs": []
    },
    {
      "cell_type": "markdown",
      "source": [
        "### Prepare Data"
      ],
      "metadata": {
        "id": "sCDCuuXxtqJN"
      }
    },
    {
      "cell_type": "code",
      "source": [
        "# Load the MNIST dataset.\n",
        "builder = tfds.builder('mnist')\n",
        "info = builder.info\n",
        "\n",
        "ds_train = tfds.load(name=\"mnist\", split=\"train\")\n",
        "ds_test = tfds.load(name=\"mnist\", split=\"test\")"
      ],
      "metadata": {
        "id": "JXTHnoBLtdLQ"
      },
      "execution_count": null,
      "outputs": []
    },
    {
      "cell_type": "markdown",
      "source": [
        "### Show Examples"
      ],
      "metadata": {
        "id": "p0Ts6clZuUge"
      }
    },
    {
      "cell_type": "code",
      "source": [
        "fig = tfds.show_examples(ds_train, info)"
      ],
      "metadata": {
        "id": "TYJR3h3yuTd-"
      },
      "execution_count": null,
      "outputs": []
    },
    {
      "cell_type": "markdown",
      "source": [
        "### Data Formatting"
      ],
      "metadata": {
        "id": "IVtG_VXWu1g0"
      }
    },
    {
      "cell_type": "code",
      "source": [
        "# Change sets to numpy arrays\n",
        "(train_images, train_labels), (test_images, test_labels) = keras.datasets.mnist.load_data()"
      ],
      "metadata": {
        "id": "mSMbJAfZu_Sq"
      },
      "execution_count": null,
      "outputs": []
    },
    {
      "cell_type": "code",
      "source": [
        "# Change element types to floats for keras\n",
        "train_images = train_images.astype('float32')\n",
        "test_images = test_images.astype('float32')\n",
        "\n",
        "train_images /= 255\n",
        "test_images /= 255\n",
        "\n",
        "train_images = np.expand_dims(train_images, -1)\n",
        "test_images = np.expand_dims(test_images, -1)\n",
        "\n",
        "# Convert class vectors to binary class matrices\n",
        "train_labels = keras.utils.to_categorical(train_labels, 10)\n",
        "test_labels = keras.utils.to_categorical(test_labels, 10)\n",
        "train_labels"
      ],
      "metadata": {
        "id": "QGButeEdvjcX"
      },
      "execution_count": null,
      "outputs": []
    },
    {
      "cell_type": "markdown",
      "source": [
        "### Train a Basic Convolutional Network"
      ],
      "metadata": {
        "id": "0wp7lG8yw9-X"
      }
    },
    {
      "cell_type": "code",
      "source": [
        "# Setup our CNN topology\n",
        "model = keras.Sequential([\n",
        "  keras.layers.Conv2D(64, 3, activation='relu', input_shape=(28,28,1)),\n",
        "  keras.layers.Conv2D(32, 3, activation='relu'),\n",
        "  keras.layers.Flatten(),\n",
        "  keras.layers.Dense(10, activation='softmax')\n",
        "])\n",
        "\n",
        "# Train our CNN\n",
        "model.compile(loss=\"categorical_crossentropy\", optimizer=\"adam\", metrics=[\"accuracy\"])\n",
        "model.fit(train_images, train_labels, batch_size=128, epochs=15)"
      ],
      "metadata": {
        "id": "lRvw4nWjxCHb"
      },
      "execution_count": null,
      "outputs": []
    },
    {
      "cell_type": "code",
      "source": [
        "# Run our CNN over our test data.\n",
        "loss, accuracy = model.evaluate(test_images, test_labels)\n",
        "print(f\"Accuracy: {accuracy*100:.2f}% \")"
      ],
      "metadata": {
        "id": "Dc7p8nFt6CD9"
      },
      "execution_count": null,
      "outputs": []
    },
    {
      "cell_type": "markdown",
      "source": [
        "### A More Elaborate CNN"
      ],
      "metadata": {
        "id": "36xTtCuj7Zfs"
      }
    },
    {
      "cell_type": "code",
      "source": [
        "# Setup the new CNN topology using 2 pooling layers\n",
        "model = keras.Sequential([\n",
        "  keras.layers.Conv2D(64, 3, activation='relu', input_shape=(28,28,1)),\n",
        "  keras.layers.MaxPool2D(2,2),\n",
        "  keras.layers.Conv2D(32, 3, activation='relu'),\n",
        "  keras.layers.MaxPool2D(2,2),\n",
        "  keras.layers.Flatten(),\n",
        "  keras.layers.Dense(10, activation='softmax')\n",
        "])\n",
        "\n",
        "# Train our CNN\n",
        "model.compile(loss=\"categorical_crossentropy\", optimizer=\"adam\", metrics=[\"accuracy\"])\n",
        "model.fit(train_images, train_labels, batch_size=128, epochs=15)"
      ],
      "metadata": {
        "id": "bv8Q6RZv7eO-"
      },
      "execution_count": null,
      "outputs": []
    },
    {
      "cell_type": "code",
      "source": [
        "loss, accuracy = model.evaluate(test_images, test_labels)\n",
        "print(f\"Accuracy: {accuracy*100:.2f}% \")"
      ],
      "metadata": {
        "id": "GiY_RRAY8Zut"
      },
      "execution_count": null,
      "outputs": []
    },
    {
      "cell_type": "markdown",
      "source": [
        "### Addressing overfitting with dropout"
      ],
      "metadata": {
        "id": "XUMh1yxy97MV"
      }
    },
    {
      "cell_type": "code",
      "source": [
        "# Setup the new CNN topology using 2 pooling layers\n",
        "model = keras.Sequential([\n",
        "  keras.layers.Conv2D(64, 3, activation='relu'),\n",
        "  keras.layers.MaxPool2D(2,2),\n",
        "  keras.layers.Conv2D(32, 3, activation='relu'),\n",
        "  keras.layers.MaxPool2D(2,2),\n",
        "  keras.layers.Flatten(),\n",
        "  keras.layers.Dropout(0.5),\n",
        "  keras.layers.Dense(1028, activation=\"relu\"),\n",
        "  keras.layers.Dense(10, activation='softmax')\n",
        "])\n",
        "\n",
        "# Train our CNN\n",
        "model.compile(loss=\"categorical_crossentropy\", optimizer=\"adam\", metrics=[\"accuracy\"])\n",
        "model.fit(train_images, train_labels, batch_size=128, epochs=15)"
      ],
      "metadata": {
        "id": "DXev6ku--DBW"
      },
      "execution_count": null,
      "outputs": []
    },
    {
      "cell_type": "code",
      "source": [
        "loss, accuracy = model.evaluate(test_images, test_labels)\n",
        "print(f\"Accuracy: {accuracy*100:.2f}% \")"
      ],
      "metadata": {
        "id": "pCXZeAgB-NBV"
      },
      "execution_count": null,
      "outputs": []
    },
    {
      "cell_type": "markdown",
      "source": [
        "### Hyperparameter tuning using Karas tuner"
      ],
      "metadata": {
        "id": "0FRdw_TrArM_"
      }
    },
    {
      "cell_type": "markdown",
      "source": [
        "#### Experimening with the number of convolution layers and their size"
      ],
      "metadata": {
        "id": "kDNCHC6FB1tP"
      }
    },
    {
      "cell_type": "code",
      "source": [
        "import keras_tuner\n",
        "\n",
        "def build_model(hp):\n",
        "  model = keras.Sequential()\n",
        "\n",
        "  for i in range(hp.Int(\"Conv2D layers\", min_value=0, max_value=3)):\n",
        "    model.add(keras.layers.Conv2D(hp.Choice(f\"layer {i} filters\", [16, 32, 64, 128]), 3, activation=\"relu\"))\n",
        "    \n",
        "  model.add(keras.layers.MaxPool2D(2,2))\n",
        "  model.add(keras.layers.Flatten())\n",
        "  model.add(keras.layers.Dropout(0.5))\n",
        "  model.add(keras.layers.Dense(1028, activation=\"relu\"))\n",
        "  model.add(keras.layers.Dense(10, activation='softmax'))\n",
        "\n",
        "  model.compile(loss=\"categorical_crossentropy\", optimizer=\"adam\", metrics=[\"accuracy\"])\n",
        "\n",
        "  return model\n",
        "\n",
        "tuner = keras_tuner.RandomSearch(build_model, objective='val_accuracy', max_trials=32)\n",
        "\n",
        "tuner.search(train_images, train_labels, validation_data=(test_images, test_labels), epochs=15, batch_size=128)\n"
      ],
      "metadata": {
        "id": "q8_PLYhyAvY5"
      },
      "execution_count": null,
      "outputs": []
    },
    {
      "cell_type": "code",
      "source": [
        "# tuner.results_summary()\n",
        "best_model = tuner.get_best_models()[0]\n",
        "best_model.evaluate(test_images, test_labels)\n",
        "best_model.summary()"
      ],
      "metadata": {
        "id": "TW6kyi_PMs55"
      },
      "execution_count": null,
      "outputs": []
    },
    {
      "cell_type": "code",
      "source": [
        "class LineBuilder:\n",
        "    def __init__(self, line):\n",
        "        self.line = line\n",
        "        self.xs = list(line.get_xdata())\n",
        "        self.ys = list(line.get_ydata())\n",
        "        self.cid = line.figure.canvas.mpl_connect('button_press_event', self)\n",
        "\n",
        "    def __call__(self, event):\n",
        "        print('click', event)\n",
        "        if event.inaxes!=self.line.axes: return\n",
        "        self.xs.append(event.xdata)\n",
        "        self.ys.append(event.ydata)\n",
        "        self.line.set_data(self.xs, self.ys)\n",
        "        self.line.figure.canvas.draw()\n",
        "\n",
        "fig = plt.figure(figsize=(28,28))\n",
        "ax = fig.add_subplot(111)\n",
        "ax.set_title('click to add points')\n",
        "line, = ax.plot([], [], linestyle=\"none\", marker=\"o\", color=\"r\")\n",
        "linebuilder = LineBuilder(line)\n",
        "\n",
        "plt.show()\n",
        "plt.savefig('./test.jpg')\n",
        "\n",
        "# import imagio\n",
        "\n",
        "# im = imageio.imread('./test.jpg')\n",
        "# im_np = np.asarray(im)\n",
        "\n",
        "# print(im_np.shape)\n",
        "\n",
        "# best_model = tuner.get_best_models()[0]\n",
        "# result = best_model.predict(im)"
      ],
      "metadata": {
        "id": "8mTNQl-rJ9l4"
      },
      "execution_count": null,
      "outputs": []
    }
  ]
}