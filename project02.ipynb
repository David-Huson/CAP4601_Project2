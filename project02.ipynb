{
  "cells": [
    {
      "cell_type": "markdown",
      "metadata": {
        "colab_type": "text",
        "id": "view-in-github"
      },
      "source": [
        "<a href=\"https://colab.research.google.com/github/David-Huson/CAP4601_Project2/blob/main/project02.ipynb\" target=\"_parent\"><img src=\"https://colab.research.google.com/assets/colab-badge.svg\" alt=\"Open In Colab\"/></a>"
      ]
    },
    {
      "cell_type": "markdown",
      "metadata": {
        "id": "B2De5YOEiEpg"
      },
      "source": [
        "# CAP4601-Intro to AI Project 2\n",
        "## Image Classification using Convolutional Neural Networks"
      ]
    },
    {
      "cell_type": "markdown",
      "metadata": {
        "id": "IHt0s_tE6B5-"
      },
      "source": [
        "### Install and Import Project Dependencies"
      ]
    },
    {
      "cell_type": "code",
      "execution_count": 3,
      "metadata": {},
      "outputs": [
        {
          "name": "stdout",
          "output_type": "stream",
          "text": [
            "\u001b[31mERROR: Could not find a version that satisfies the requirement tensorflow (from versions: none)\u001b[0m\u001b[31m\n",
            "\u001b[0m\u001b[31mERROR: No matching distribution found for tensorflow\u001b[0m\u001b[31m\n",
            "\u001b[0mNote: you may need to restart the kernel to use updated packages.\n",
            "Collecting keras-tuner\n",
            "  Downloading keras_tuner-1.3.3-py3-none-any.whl (172 kB)\n",
            "\u001b[2K     \u001b[38;2;114;156;31m━━━━━━━━━━━━━━━━━━━━━━━━━━━━━━━━━━━━━━━\u001b[0m \u001b[32m172.1/172.1 kB\u001b[0m \u001b[31m1.3 MB/s\u001b[0m eta \u001b[36m0:00:00\u001b[0m[31m1.3 MB/s\u001b[0m eta \u001b[36m0:00:01\u001b[0m\n",
            "\u001b[?25hRequirement already satisfied: packaging in /Users/david/miniconda/envs/tensorflow/lib/python3.10/site-packages (from keras-tuner) (23.0)\n",
            "  Downloading keras_tuner-1.3.2-py3-none-any.whl (172 kB)\n",
            "\u001b[2K     \u001b[38;2;114;156;31m━━━━━━━━━━━━━━━━━━━━━━━━━━━━━━━━━━━━━\u001b[0m \u001b[32m172.1/172.1 kB\u001b[0m \u001b[31m442.1 kB/s\u001b[0m eta \u001b[36m0:00:00\u001b[0m kB/s\u001b[0m eta \u001b[36m0:00:01\u001b[0m\n",
            "\u001b[?25h  Downloading keras_tuner-1.3.1-py3-none-any.whl (172 kB)\n",
            "\u001b[2K     \u001b[38;2;114;156;31m━━━━━━━━━━━━━━━━━━━━━━━━━━━━━━━━━━━━━\u001b[0m \u001b[32m172.1/172.1 kB\u001b[0m \u001b[31m520.8 kB/s\u001b[0m eta \u001b[36m0:00:00\u001b[0m kB/s\u001b[0m eta \u001b[36m0:00:01\u001b[0m:01\u001b[0m\n",
            "\u001b[?25hRequirement already satisfied: requests in /Users/david/miniconda/envs/tensorflow/lib/python3.10/site-packages (from keras-tuner) (2.28.2)\n",
            "  Downloading keras_tuner-1.3.0-py3-none-any.whl (167 kB)\n",
            "\u001b[2K     \u001b[38;2;114;156;31m━━━━━━━━━━━━━━━━━━━━━━━━━━━━━━━━━━━━━━━\u001b[0m \u001b[32m167.3/167.3 kB\u001b[0m \u001b[31m2.1 MB/s\u001b[0m eta \u001b[36m0:00:00\u001b[0m MB/s\u001b[0m eta \u001b[36m0:00:01\u001b[0m:01\u001b[0m\n",
            "\u001b[?25h  Downloading keras_tuner-1.2.1-py3-none-any.whl (169 kB)\n",
            "\u001b[2K     \u001b[38;2;114;156;31m━━━━━━━━━━━━━━━━━━━━━━━━━━━━━━━━━━━━━━━\u001b[0m \u001b[32m169.6/169.6 kB\u001b[0m \u001b[31m2.0 MB/s\u001b[0m eta \u001b[36m0:00:00\u001b[0m MB/s\u001b[0m eta \u001b[36m0:00:01\u001b[0m:01\u001b[0m\n",
            "\u001b[?25h  Downloading keras_tuner-1.2.0-py3-none-any.whl (168 kB)\n",
            "\u001b[2K     \u001b[38;2;114;156;31m━━━━━━━━━━━━━━━━━━━━━━━━━━━━━━━━━━━━━━━\u001b[0m \u001b[32m168.1/168.1 kB\u001b[0m \u001b[31m2.7 MB/s\u001b[0m eta \u001b[36m0:00:00\u001b[0m[31m3.2 MB/s\u001b[0m eta \u001b[36m0:00:01\u001b[0m\n",
            "\u001b[?25h  Downloading keras_tuner-1.1.3-py3-none-any.whl (135 kB)\n",
            "\u001b[2K     \u001b[38;2;114;156;31m━━━━━━━━━━━━━━━━━━━━━━━━━━━━━━━━━━━━━━━\u001b[0m \u001b[32m135.7/135.7 kB\u001b[0m \u001b[31m2.0 MB/s\u001b[0m eta \u001b[36m0:00:00\u001b[0m MB/s\u001b[0m eta \u001b[36m0:00:01\u001b[0m\n",
            "\u001b[?25hRequirement already satisfied: numpy in /Users/david/miniconda/envs/tensorflow/lib/python3.10/site-packages (from keras-tuner) (1.23.5)\n",
            "Requirement already satisfied: ipython in /Users/david/miniconda/envs/tensorflow/lib/python3.10/site-packages (from keras-tuner) (8.12.0)\n",
            "Requirement already satisfied: tensorboard in /Users/david/miniconda/envs/tensorflow/lib/python3.10/site-packages (from keras-tuner) (2.9.1)\n",
            "Collecting kt-legacy\n",
            "  Downloading kt_legacy-1.0.4-py3-none-any.whl (9.6 kB)\n",
            "Requirement already satisfied: matplotlib-inline in /Users/david/miniconda/envs/tensorflow/lib/python3.10/site-packages (from ipython->keras-tuner) (0.1.6)\n",
            "Requirement already satisfied: prompt-toolkit!=3.0.37,<3.1.0,>=3.0.30 in /Users/david/miniconda/envs/tensorflow/lib/python3.10/site-packages (from ipython->keras-tuner) (3.0.38)\n",
            "Requirement already satisfied: pexpect>4.3 in /Users/david/miniconda/envs/tensorflow/lib/python3.10/site-packages (from ipython->keras-tuner) (4.8.0)\n",
            "Requirement already satisfied: pickleshare in /Users/david/miniconda/envs/tensorflow/lib/python3.10/site-packages (from ipython->keras-tuner) (0.7.5)\n",
            "Requirement already satisfied: jedi>=0.16 in /Users/david/miniconda/envs/tensorflow/lib/python3.10/site-packages (from ipython->keras-tuner) (0.18.2)\n",
            "Requirement already satisfied: appnope in /Users/david/miniconda/envs/tensorflow/lib/python3.10/site-packages (from ipython->keras-tuner) (0.1.3)\n",
            "Requirement already satisfied: traitlets>=5 in /Users/david/miniconda/envs/tensorflow/lib/python3.10/site-packages (from ipython->keras-tuner) (5.9.0)\n",
            "Requirement already satisfied: decorator in /Users/david/miniconda/envs/tensorflow/lib/python3.10/site-packages (from ipython->keras-tuner) (5.1.1)\n",
            "Requirement already satisfied: stack-data in /Users/david/miniconda/envs/tensorflow/lib/python3.10/site-packages (from ipython->keras-tuner) (0.6.2)\n",
            "Requirement already satisfied: backcall in /Users/david/miniconda/envs/tensorflow/lib/python3.10/site-packages (from ipython->keras-tuner) (0.2.0)\n",
            "Requirement already satisfied: pygments>=2.4.0 in /Users/david/miniconda/envs/tensorflow/lib/python3.10/site-packages (from ipython->keras-tuner) (2.14.0)\n",
            "Requirement already satisfied: idna<4,>=2.5 in /Users/david/miniconda/envs/tensorflow/lib/python3.10/site-packages (from requests->keras-tuner) (3.4)\n",
            "Requirement already satisfied: charset-normalizer<4,>=2 in /Users/david/miniconda/envs/tensorflow/lib/python3.10/site-packages (from requests->keras-tuner) (3.1.0)\n",
            "Requirement already satisfied: certifi>=2017.4.17 in /Users/david/miniconda/envs/tensorflow/lib/python3.10/site-packages (from requests->keras-tuner) (2022.12.7)\n",
            "Requirement already satisfied: urllib3<1.27,>=1.21.1 in /Users/david/miniconda/envs/tensorflow/lib/python3.10/site-packages (from requests->keras-tuner) (1.26.15)\n",
            "Requirement already satisfied: absl-py>=0.4 in /Users/david/miniconda/envs/tensorflow/lib/python3.10/site-packages (from tensorboard->keras-tuner) (1.4.0)\n",
            "Requirement already satisfied: protobuf<3.20,>=3.9.2 in /Users/david/miniconda/envs/tensorflow/lib/python3.10/site-packages (from tensorboard->keras-tuner) (3.19.6)\n",
            "Requirement already satisfied: werkzeug>=1.0.1 in /Users/david/miniconda/envs/tensorflow/lib/python3.10/site-packages (from tensorboard->keras-tuner) (2.2.3)\n",
            "Requirement already satisfied: google-auth<3,>=1.6.3 in /Users/david/miniconda/envs/tensorflow/lib/python3.10/site-packages (from tensorboard->keras-tuner) (2.17.1)\n",
            "Requirement already satisfied: google-auth-oauthlib<0.5,>=0.4.1 in /Users/david/miniconda/envs/tensorflow/lib/python3.10/site-packages (from tensorboard->keras-tuner) (0.4.6)\n",
            "Requirement already satisfied: setuptools>=41.0.0 in /Users/david/miniconda/envs/tensorflow/lib/python3.10/site-packages (from tensorboard->keras-tuner) (67.6.1)\n",
            "Requirement already satisfied: tensorboard-plugin-wit>=1.6.0 in /Users/david/miniconda/envs/tensorflow/lib/python3.10/site-packages (from tensorboard->keras-tuner) (1.8.1)\n",
            "Requirement already satisfied: tensorboard-data-server<0.7.0,>=0.6.0 in /Users/david/miniconda/envs/tensorflow/lib/python3.10/site-packages (from tensorboard->keras-tuner) (0.6.1)\n",
            "Requirement already satisfied: markdown>=2.6.8 in /Users/david/miniconda/envs/tensorflow/lib/python3.10/site-packages (from tensorboard->keras-tuner) (3.4.3)\n",
            "Requirement already satisfied: grpcio>=1.24.3 in /Users/david/miniconda/envs/tensorflow/lib/python3.10/site-packages (from tensorboard->keras-tuner) (1.53.0)\n",
            "Requirement already satisfied: wheel>=0.26 in /Users/david/miniconda/envs/tensorflow/lib/python3.10/site-packages (from tensorboard->keras-tuner) (0.40.0)\n",
            "Requirement already satisfied: pyasn1-modules>=0.2.1 in /Users/david/miniconda/envs/tensorflow/lib/python3.10/site-packages (from google-auth<3,>=1.6.3->tensorboard->keras-tuner) (0.2.8)\n",
            "Requirement already satisfied: six>=1.9.0 in /Users/david/miniconda/envs/tensorflow/lib/python3.10/site-packages (from google-auth<3,>=1.6.3->tensorboard->keras-tuner) (1.15.0)\n",
            "Requirement already satisfied: rsa<5,>=3.1.4 in /Users/david/miniconda/envs/tensorflow/lib/python3.10/site-packages (from google-auth<3,>=1.6.3->tensorboard->keras-tuner) (4.9)\n",
            "Requirement already satisfied: cachetools<6.0,>=2.0.0 in /Users/david/miniconda/envs/tensorflow/lib/python3.10/site-packages (from google-auth<3,>=1.6.3->tensorboard->keras-tuner) (5.3.0)\n",
            "Requirement already satisfied: requests-oauthlib>=0.7.0 in /Users/david/miniconda/envs/tensorflow/lib/python3.10/site-packages (from google-auth-oauthlib<0.5,>=0.4.1->tensorboard->keras-tuner) (1.3.1)\n",
            "Requirement already satisfied: parso<0.9.0,>=0.8.0 in /Users/david/miniconda/envs/tensorflow/lib/python3.10/site-packages (from jedi>=0.16->ipython->keras-tuner) (0.8.3)\n",
            "Requirement already satisfied: ptyprocess>=0.5 in /Users/david/miniconda/envs/tensorflow/lib/python3.10/site-packages (from pexpect>4.3->ipython->keras-tuner) (0.7.0)\n",
            "Requirement already satisfied: wcwidth in /Users/david/miniconda/envs/tensorflow/lib/python3.10/site-packages (from prompt-toolkit!=3.0.37,<3.1.0,>=3.0.30->ipython->keras-tuner) (0.2.6)\n",
            "Requirement already satisfied: MarkupSafe>=2.1.1 in /Users/david/miniconda/envs/tensorflow/lib/python3.10/site-packages (from werkzeug>=1.0.1->tensorboard->keras-tuner) (2.1.2)\n",
            "Requirement already satisfied: asttokens>=2.1.0 in /Users/david/miniconda/envs/tensorflow/lib/python3.10/site-packages (from stack-data->ipython->keras-tuner) (2.2.1)\n",
            "Requirement already satisfied: executing>=1.2.0 in /Users/david/miniconda/envs/tensorflow/lib/python3.10/site-packages (from stack-data->ipython->keras-tuner) (1.2.0)\n",
            "Requirement already satisfied: pure-eval in /Users/david/miniconda/envs/tensorflow/lib/python3.10/site-packages (from stack-data->ipython->keras-tuner) (0.2.2)\n",
            "Requirement already satisfied: pyasn1<0.5.0,>=0.4.6 in /Users/david/miniconda/envs/tensorflow/lib/python3.10/site-packages (from pyasn1-modules>=0.2.1->google-auth<3,>=1.6.3->tensorboard->keras-tuner) (0.4.8)\n",
            "Requirement already satisfied: oauthlib>=3.0.0 in /Users/david/miniconda/envs/tensorflow/lib/python3.10/site-packages (from requests-oauthlib>=0.7.0->google-auth-oauthlib<0.5,>=0.4.1->tensorboard->keras-tuner) (3.2.2)\n",
            "Installing collected packages: kt-legacy, keras-tuner\n",
            "Successfully installed keras-tuner-1.1.3 kt-legacy-1.0.4\n",
            "Note: you may need to restart the kernel to use updated packages.\n"
          ]
        }
      ],
      "source": [
        "%pip install -q tensorflow-datasets\n",
        "%pip install -U keras-tuner"
      ]
    },
    {
      "cell_type": "code",
      "execution_count": 2,
      "metadata": {
        "id": "BntUGBr-kTeq"
      },
      "outputs": [
        {
          "name": "stderr",
          "output_type": "stream",
          "text": [
            "scikit-learn version 1.2.2 is not supported. Minimum required version: 0.17. Maximum required version: 1.1.2. Disabling scikit-learn conversion API.\n"
          ]
        }
      ],
      "source": [
        "import matplotlib.pyplot as plt           # used to plot the graphs for the experiments\n",
        "import numpy as np                        # used to format data into a matrix\n",
        "\n",
        "import tensorflow as tf                   # used to evaluate and work with models\n",
        "import tensorflow_datasets as tfds        # used to import datasets from tf\n",
        "\n",
        "from tensorflow import keras              # used to build the network layers\n",
        "\n",
        "from keras_tuner import RandomSearch      # used for hyper tuning\n",
        "\n",
        "import coremltools as ct"
      ]
    },
    {
      "cell_type": "code",
      "execution_count": 3,
      "metadata": {
        "id": "8wNxbes9lucx"
      },
      "outputs": [],
      "source": [
        "tfds.disable_progress_bar()             #keep the noteboook clean"
      ]
    },
    {
      "cell_type": "markdown",
      "metadata": {
        "id": "S7fee9ik6GTB"
      },
      "source": [
        "### Prepare Data for the network"
      ]
    },
    {
      "cell_type": "code",
      "execution_count": 5,
      "metadata": {
        "id": "6z-TIcwplmDq"
      },
      "outputs": [],
      "source": [
        "# tfds.list_builders()\n",
        "dataset = 'horses_or_humans'\n",
        "builder = tfds.builder(dataset)\n",
        "info = builder.info\n",
        "\n",
        "ds_train = tfds.load(\n",
        "    name=dataset,\n",
        "    split='train',\n",
        "    batch_size=-1,\n",
        "    as_supervised=True)\n",
        "\n",
        "ds_test = tfds.load(\n",
        "    name=dataset,\n",
        "    split='test',\n",
        "    batch_size=-1,\n",
        "    as_supervised=True)\n",
        "\n",
        "classes = info.features['label'].num_classes\n",
        "\n",
        "train_images, train_labels = tfds.as_numpy(ds_train)\n",
        "\n",
        "num_training_samples = len(train_images)\n",
        "\n",
        "test_images, test_labels = tfds.as_numpy(ds_test)\n",
        "\n",
        "num_test_samples = len(test_images)\n"
      ]
    },
    {
      "cell_type": "code",
      "execution_count": 6,
      "metadata": {
        "id": "6bhVu8pTQ2BV"
      },
      "outputs": [],
      "source": [
        "train_images = train_images.astype('float32')\n",
        "train_images /= 255\n",
        "\n",
        "test_images = test_images.astype('float32')\n",
        "test_images /= 255"
      ]
    },
    {
      "cell_type": "markdown",
      "metadata": {
        "id": "0vV2Zk5J6L_x"
      },
      "source": [
        "### Build a [very] Basic Convolutional Neural Network"
      ]
    },
    {
      "cell_type": "code",
      "execution_count": 9,
      "metadata": {
        "colab": {
          "base_uri": "https://localhost:8080/"
        },
        "id": "iQl1ucktJq9W",
        "outputId": "44363a9c-2b43-48ec-e55d-197eecf12664"
      },
      "outputs": [
        {
          "name": "stdout",
          "output_type": "stream",
          "text": [
            "Epoch 1/10\n",
            "33/33 [==============================] - 14s 375ms/step - loss: 12.6804 - accuracy: 0.7176\n",
            "Epoch 2/10\n",
            "33/33 [==============================] - 12s 355ms/step - loss: 0.1051 - accuracy: 0.9591\n",
            "Epoch 3/10\n",
            "33/33 [==============================] - 12s 360ms/step - loss: 0.0350 - accuracy: 0.9932\n",
            "Epoch 4/10\n",
            "33/33 [==============================] - 12s 364ms/step - loss: 0.0070 - accuracy: 1.0000\n",
            "Epoch 5/10\n",
            "33/33 [==============================] - 12s 360ms/step - loss: 0.0012 - accuracy: 1.0000\n",
            "Epoch 6/10\n",
            "33/33 [==============================] - 12s 355ms/step - loss: 4.6757e-04 - accuracy: 1.0000\n",
            "Epoch 7/10\n",
            "33/33 [==============================] - 12s 363ms/step - loss: 0.0012 - accuracy: 1.0000\n",
            "Epoch 8/10\n",
            "33/33 [==============================] - 12s 360ms/step - loss: 6.3221e-04 - accuracy: 1.0000\n",
            "Epoch 9/10\n",
            "33/33 [==============================] - 12s 366ms/step - loss: 2.3021e-04 - accuracy: 1.0000\n",
            "Epoch 10/10\n",
            "33/33 [==============================] - 12s 360ms/step - loss: 1.2908e-04 - accuracy: 1.0000\n"
          ]
        },
        {
          "data": {
            "text/plain": [
              "<keras.callbacks.History at 0x293e71f60>"
            ]
          },
          "execution_count": 9,
          "metadata": {},
          "output_type": "execute_result"
        }
      ],
      "source": [
        "model = keras.Sequential([\n",
        "  keras.layers.Conv2D(64, 3, activation='relu'),\n",
        "  keras.layers.Conv2D(32, 3, activation='relu'),\n",
        "  keras.layers.Flatten(),\n",
        "  keras.layers.Dense(2, activation='softmax')\n",
        "])\n",
        "\n",
        "model.compile(loss=\"sparse_categorical_crossentropy\", optimizer=\"adam\", metrics=[\"accuracy\"])\n",
        "\n",
        "model.fit(train_images, train_labels, batch_size=32, epochs=10)"
      ]
    },
    {
      "cell_type": "markdown",
      "metadata": {
        "id": "XCg8u0_t6fYm"
      },
      "source": [
        "#### Evaulate the Model using test data"
      ]
    },
    {
      "cell_type": "code",
      "execution_count": 10,
      "metadata": {
        "colab": {
          "base_uri": "https://localhost:8080/"
        },
        "id": "SxWXejqjVQZ8",
        "outputId": "85a85719-426a-4f7e-bedd-39cb9eb5e20c"
      },
      "outputs": [
        {
          "name": "stdout",
          "output_type": "stream",
          "text": [
            "8/8 [==============================] - 1s 107ms/step - loss: 3.3575 - accuracy: 0.6875\n",
            "Accuracy: 68.75% \n"
          ]
        }
      ],
      "source": [
        "loss, accuracy = model.evaluate(test_images, test_labels)\n",
        "print(f\"Accuracy: {accuracy*100:.2f}% \")"
      ]
    },
    {
      "cell_type": "code",
      "execution_count": null,
      "metadata": {
        "colab": {
          "base_uri": "https://localhost:8080/",
          "height": 453
        },
        "id": "eY-_qF8nYQsh",
        "outputId": "f14d75f5-5b57-4e9d-fbf4-a36f996702d9"
      },
      "outputs": [
        {
          "data": {
            "text/plain": [
              "<matplotlib.image.AxesImage at 0x7f22ac062880>"
            ]
          },
          "execution_count": 8,
          "metadata": {},
          "output_type": "execute_result"
        },
        {
          "data": {
            "image/png": "[encoded data removed]",
            "text/plain": [
              "<Figure size 640x480 with 1 Axes>"
            ]
          },
          "metadata": {},
          "output_type": "display_data"
        }
      ],
      "source": [
        "test_image = np.array([test_images[np.random.randint(0, 100+1)]])\n",
        "rgb_images = np.array(test_image)\n",
        "rgb_image = rgb_images[0]\n",
        "plt.imshow(rgb_image)"
      ]
    },
    {
      "cell_type": "code",
      "execution_count": null,
      "metadata": {
        "colab": {
          "base_uri": "https://localhost:8080/"
        },
        "id": "cH_5Y3wlZcBM",
        "outputId": "0bece8da-f888-4889-9018-c8e1826355ea"
      },
      "outputs": [
        {
          "name": "stdout",
          "output_type": "stream",
          "text": [
            "1/1 [==============================] - 0s 274ms/step\n",
            "human\n"
          ]
        }
      ],
      "source": [
        "result = model.predict(test_image)\n",
        "predicted_value = np.argmax(result)\n",
        "\n",
        "print(\"horse\" if predicted_value == 0 else \"human\")\n"
      ]
    },
    {
      "cell_type": "markdown",
      "metadata": {
        "id": "HFzYVMYrCM_a"
      },
      "source": [
        "### A more comprehensive CNN"
      ]
    },
    {
      "cell_type": "markdown",
      "metadata": {
        "id": "4TV86QQYCwt3"
      },
      "source": [
        "#### Adding Pooling Layers after each convolution"
      ]
    },
    {
      "cell_type": "code",
      "execution_count": 7,
      "metadata": {
        "colab": {
          "base_uri": "https://localhost:8080/"
        },
        "id": "kZYp0Qw9CMf5",
        "outputId": "1967d334-8e36-413e-fab7-077bf1569397"
      },
      "outputs": [
        {
          "name": "stdout",
          "output_type": "stream",
          "text": [
            "Epoch 1/10\n",
            "33/33 [==============================] - 8s 218ms/step - loss: 0.9131 - accuracy: 0.7468\n",
            "Epoch 2/10\n",
            "33/33 [==============================] - 7s 227ms/step - loss: 0.1383 - accuracy: 0.9494\n",
            "Epoch 3/10\n",
            "33/33 [==============================] - 7s 220ms/step - loss: 0.0515 - accuracy: 0.9893\n",
            "Epoch 4/10\n",
            "33/33 [==============================] - 7s 218ms/step - loss: 0.0226 - accuracy: 0.9951\n",
            "Epoch 5/10\n",
            "33/33 [==============================] - 7s 216ms/step - loss: 0.0064 - accuracy: 0.9990\n",
            "Epoch 6/10\n",
            "33/33 [==============================] - 7s 215ms/step - loss: 0.0031 - accuracy: 1.0000\n",
            "Epoch 7/10\n",
            "33/33 [==============================] - 7s 217ms/step - loss: 0.0019 - accuracy: 1.0000\n",
            "Epoch 8/10\n",
            "33/33 [==============================] - 7s 213ms/step - loss: 7.8497e-04 - accuracy: 1.0000\n",
            "Epoch 9/10\n",
            "33/33 [==============================] - 7s 215ms/step - loss: 5.6157e-04 - accuracy: 1.0000\n",
            "Epoch 10/10\n",
            "33/33 [==============================] - 7s 216ms/step - loss: 4.6412e-04 - accuracy: 1.0000\n"
          ]
        },
        {
          "data": {
            "text/plain": [
              "<keras.callbacks.History at 0x1075e1b10>"
            ]
          },
          "execution_count": 7,
          "metadata": {},
          "output_type": "execute_result"
        }
      ],
      "source": [
        "model = keras.Sequential([\n",
        "  keras.layers.Conv2D(64, 3, activation='relu'),\n",
        "  keras.layers.MaxPool2D(2,2),\n",
        "  keras.layers.Conv2D(32, 3, activation='relu'),\n",
        "  keras.layers.MaxPool2D(2,2),\n",
        "  keras.layers.Flatten(),\n",
        "  keras.layers.Dense(2, activation='softmax')\n",
        "])\n",
        "\n",
        "model.compile(loss=\"sparse_categorical_crossentropy\", optimizer=\"adam\", metrics=[\"accuracy\"])\n",
        "model.fit(train_images, train_labels, batch_size=32, epochs=10)"
      ]
    },
    {
      "cell_type": "code",
      "execution_count": 8,
      "metadata": {
        "colab": {
          "base_uri": "https://localhost:8080/"
        },
        "id": "AeNFf7aMCrXy",
        "outputId": "abccbb16-52e6-4879-f9f8-0f0a3805af11"
      },
      "outputs": [
        {
          "name": "stdout",
          "output_type": "stream",
          "text": [
            "8/8 [==============================] - 1s 74ms/step - loss: 2.1643 - accuracy: 0.7500\n",
            "Accuracy: 75.00% \n"
          ]
        }
      ],
      "source": [
        "loss, accuracy = model.evaluate(test_images, test_labels)\n",
        "print(f\"Accuracy: {accuracy*100:.2f}% \")"
      ]
    },
    {
      "cell_type": "markdown",
      "metadata": {
        "id": "hUf43YbgC1nP"
      },
      "source": [
        "#### Adding Dropout"
      ]
    },
    {
      "cell_type": "code",
      "execution_count": null,
      "metadata": {
        "colab": {
          "base_uri": "https://localhost:8080/"
        },
        "id": "-VCezN8zC1WQ",
        "outputId": "2458e09e-df29-4b4b-eba4-80e27aa150f8"
      },
      "outputs": [
        {
          "name": "stdout",
          "output_type": "stream",
          "text": [
            "Epoch 1/10\n",
            "33/33 [==============================] - 8s 212ms/step - loss: 0.7802 - accuracy: 0.7585\n",
            "Epoch 2/10\n",
            "33/33 [==============================] - 7s 214ms/step - loss: 0.1015 - accuracy: 0.9679\n",
            "Epoch 3/10\n",
            "33/33 [==============================] - 7s 221ms/step - loss: 0.0535 - accuracy: 0.9786\n",
            "Epoch 4/10\n",
            "33/33 [==============================] - 7s 215ms/step - loss: 0.0237 - accuracy: 0.9922\n",
            "Epoch 5/10\n",
            "33/33 [==============================] - 7s 223ms/step - loss: 0.0033 - accuracy: 1.0000\n",
            "Epoch 6/10\n",
            "33/33 [==============================] - 7s 220ms/step - loss: 0.0021 - accuracy: 1.0000\n",
            "Epoch 7/10\n",
            "33/33 [==============================] - 7s 218ms/step - loss: 0.0013 - accuracy: 1.0000\n",
            "Epoch 8/10\n",
            "33/33 [==============================] - 7s 221ms/step - loss: 6.5286e-04 - accuracy: 1.0000\n",
            "Epoch 9/10\n",
            "33/33 [==============================] - 7s 218ms/step - loss: 6.2117e-04 - accuracy: 1.0000\n",
            "Epoch 10/10\n",
            "33/33 [==============================] - 7s 220ms/step - loss: 4.5782e-04 - accuracy: 1.0000\n"
          ]
        },
        {
          "data": {
            "text/plain": [
              "<keras.callbacks.History at 0x7f221d7b9dc0>"
            ]
          },
          "execution_count": 16,
          "metadata": {},
          "output_type": "execute_result"
        }
      ],
      "source": [
        "model = keras.Sequential([\n",
        "  keras.layers.Conv2D(64, 3, activation='relu'),\n",
        "  keras.layers.MaxPool2D(2,2),\n",
        "  keras.layers.Conv2D(32, 3, activation='relu'),\n",
        "  keras.layers.MaxPool2D(2,2),\n",
        "  keras.layers.Dropout(0.5),\n",
        "  keras.layers.Flatten(),\n",
        "  keras.layers.Dense(2, activation='softmax')\n",
        "])\n",
        "\n",
        "model.compile(loss=\"sparse_categorical_crossentropy\", optimizer=\"adam\", metrics=[\"accuracy\"])\n",
        "model.fit(train_images, train_labels, batch_size=32, epochs=10)"
      ]
    },
    {
      "cell_type": "code",
      "execution_count": null,
      "metadata": {
        "colab": {
          "base_uri": "https://localhost:8080/"
        },
        "id": "6QGXannwC65p",
        "outputId": "a4e36772-98a5-4ce5-9295-8ffbddd674df"
      },
      "outputs": [
        {
          "name": "stdout",
          "output_type": "stream",
          "text": [
            "8/8 [==============================] - 0s 27ms/step - loss: 316.9579 - accuracy: 0.8320\n",
            "Accuracy: 83.20% \n"
          ]
        }
      ],
      "source": [
        "loss, accuracy = model.evaluate(test_images, test_labels)\n",
        "print(f\"Accuracy: {accuracy*100:.2f}% \")"
      ]
    },
    {
      "cell_type": "markdown",
      "metadata": {
        "id": "cUuNzwBgDsT8"
      },
      "source": [
        "#### Adding an intermediate Dense layer after the flattening"
      ]
    },
    {
      "cell_type": "code",
      "execution_count": null,
      "metadata": {
        "colab": {
          "base_uri": "https://localhost:8080/",
          "height": 389
        },
        "id": "flEGxg17DdDe",
        "outputId": "2f7fd538-44a0-4282-ca61-58770b8af31d"
      },
      "outputs": [
        {
          "name": "stdout",
          "output_type": "stream",
          "text": [
            "Epoch 1/10\n"
          ]
        },
        {
          "ename": "KeyboardInterrupt",
          "evalue": "ignored",
          "output_type": "error",
          "traceback": [
            "\u001b[0;31m---------------------------------------------------------------------------\u001b[0m",
            "\u001b[0;31mKeyboardInterrupt\u001b[0m                         Traceback (most recent call last)",
            "\u001b[0;32m<ipython-input-14-bf24f93f669a>\u001b[0m in \u001b[0;36m<cell line: 13>\u001b[0;34m()\u001b[0m\n\u001b[1;32m     11\u001b[0m \u001b[0;34m\u001b[0m\u001b[0m\n\u001b[1;32m     12\u001b[0m \u001b[0mmodel\u001b[0m\u001b[0;34m.\u001b[0m\u001b[0mcompile\u001b[0m\u001b[0;34m(\u001b[0m\u001b[0mloss\u001b[0m\u001b[0;34m=\u001b[0m\u001b[0;34m\"sparse_categorical_crossentropy\"\u001b[0m\u001b[0;34m,\u001b[0m \u001b[0moptimizer\u001b[0m\u001b[0;34m=\u001b[0m\u001b[0;34m\"adam\"\u001b[0m\u001b[0;34m,\u001b[0m \u001b[0mmetrics\u001b[0m\u001b[0;34m=\u001b[0m\u001b[0;34m[\u001b[0m\u001b[0;34m\"accuracy\"\u001b[0m\u001b[0;34m]\u001b[0m\u001b[0;34m)\u001b[0m\u001b[0;34m\u001b[0m\u001b[0;34m\u001b[0m\u001b[0m\n\u001b[0;32m---> 13\u001b[0;31m \u001b[0mmodel\u001b[0m\u001b[0;34m.\u001b[0m\u001b[0mfit\u001b[0m\u001b[0;34m(\u001b[0m\u001b[0mtrain_images\u001b[0m\u001b[0;34m,\u001b[0m \u001b[0mtrain_labels\u001b[0m\u001b[0;34m,\u001b[0m \u001b[0mbatch_size\u001b[0m\u001b[0;34m=\u001b[0m\u001b[0;36m32\u001b[0m\u001b[0;34m,\u001b[0m \u001b[0mepochs\u001b[0m\u001b[0;34m=\u001b[0m\u001b[0;36m10\u001b[0m\u001b[0;34m)\u001b[0m\u001b[0;34m\u001b[0m\u001b[0;34m\u001b[0m\u001b[0m\n\u001b[0m",
            "\u001b[0;32m/usr/local/lib/python3.9/dist-packages/keras/utils/traceback_utils.py\u001b[0m in \u001b[0;36merror_handler\u001b[0;34m(*args, **kwargs)\u001b[0m\n\u001b[1;32m     63\u001b[0m         \u001b[0mfiltered_tb\u001b[0m \u001b[0;34m=\u001b[0m \u001b[0;32mNone\u001b[0m\u001b[0;34m\u001b[0m\u001b[0;34m\u001b[0m\u001b[0m\n\u001b[1;32m     64\u001b[0m         \u001b[0;32mtry\u001b[0m\u001b[0;34m:\u001b[0m\u001b[0;34m\u001b[0m\u001b[0;34m\u001b[0m\u001b[0m\n\u001b[0;32m---> 65\u001b[0;31m             \u001b[0;32mreturn\u001b[0m \u001b[0mfn\u001b[0m\u001b[0;34m(\u001b[0m\u001b[0;34m*\u001b[0m\u001b[0margs\u001b[0m\u001b[0;34m,\u001b[0m \u001b[0;34m**\u001b[0m\u001b[0mkwargs\u001b[0m\u001b[0;34m)\u001b[0m\u001b[0;34m\u001b[0m\u001b[0;34m\u001b[0m\u001b[0m\n\u001b[0m\u001b[1;32m     66\u001b[0m         \u001b[0;32mexcept\u001b[0m \u001b[0mException\u001b[0m \u001b[0;32mas\u001b[0m \u001b[0me\u001b[0m\u001b[0;34m:\u001b[0m\u001b[0;34m\u001b[0m\u001b[0;34m\u001b[0m\u001b[0m\n\u001b[1;32m     67\u001b[0m             \u001b[0mfiltered_tb\u001b[0m \u001b[0;34m=\u001b[0m \u001b[0m_process_traceback_frames\u001b[0m\u001b[0;34m(\u001b[0m\u001b[0me\u001b[0m\u001b[0;34m.\u001b[0m\u001b[0m__traceback__\u001b[0m\u001b[0;34m)\u001b[0m\u001b[0;34m\u001b[0m\u001b[0;34m\u001b[0m\u001b[0m\n",
            "\u001b[0;32m/usr/local/lib/python3.9/dist-packages/keras/engine/training.py\u001b[0m in \u001b[0;36mfit\u001b[0;34m(self, x, y, batch_size, epochs, verbose, callbacks, validation_split, validation_data, shuffle, class_weight, sample_weight, initial_epoch, steps_per_epoch, validation_steps, validation_batch_size, validation_freq, max_queue_size, workers, use_multiprocessing)\u001b[0m\n\u001b[1;32m   1683\u001b[0m                         ):\n\u001b[1;32m   1684\u001b[0m                             \u001b[0mcallbacks\u001b[0m\u001b[0;34m.\u001b[0m\u001b[0mon_train_batch_begin\u001b[0m\u001b[0;34m(\u001b[0m\u001b[0mstep\u001b[0m\u001b[0;34m)\u001b[0m\u001b[0;34m\u001b[0m\u001b[0;34m\u001b[0m\u001b[0m\n\u001b[0;32m-> 1685\u001b[0;31m                             \u001b[0mtmp_logs\u001b[0m \u001b[0;34m=\u001b[0m \u001b[0mself\u001b[0m\u001b[0;34m.\u001b[0m\u001b[0mtrain_function\u001b[0m\u001b[0;34m(\u001b[0m\u001b[0miterator\u001b[0m\u001b[0;34m)\u001b[0m\u001b[0;34m\u001b[0m\u001b[0;34m\u001b[0m\u001b[0m\n\u001b[0m\u001b[1;32m   1686\u001b[0m                             \u001b[0;32mif\u001b[0m \u001b[0mdata_handler\u001b[0m\u001b[0;34m.\u001b[0m\u001b[0mshould_sync\u001b[0m\u001b[0;34m:\u001b[0m\u001b[0;34m\u001b[0m\u001b[0;34m\u001b[0m\u001b[0m\n\u001b[1;32m   1687\u001b[0m                                 \u001b[0mcontext\u001b[0m\u001b[0;34m.\u001b[0m\u001b[0masync_wait\u001b[0m\u001b[0;34m(\u001b[0m\u001b[0;34m)\u001b[0m\u001b[0;34m\u001b[0m\u001b[0;34m\u001b[0m\u001b[0m\n",
            "\u001b[0;32m/usr/local/lib/python3.9/dist-packages/tensorflow/python/util/traceback_utils.py\u001b[0m in \u001b[0;36merror_handler\u001b[0;34m(*args, **kwargs)\u001b[0m\n\u001b[1;32m    148\u001b[0m     \u001b[0mfiltered_tb\u001b[0m \u001b[0;34m=\u001b[0m \u001b[0;32mNone\u001b[0m\u001b[0;34m\u001b[0m\u001b[0;34m\u001b[0m\u001b[0m\n\u001b[1;32m    149\u001b[0m     \u001b[0;32mtry\u001b[0m\u001b[0;34m:\u001b[0m\u001b[0;34m\u001b[0m\u001b[0;34m\u001b[0m\u001b[0m\n\u001b[0;32m--> 150\u001b[0;31m       \u001b[0;32mreturn\u001b[0m \u001b[0mfn\u001b[0m\u001b[0;34m(\u001b[0m\u001b[0;34m*\u001b[0m\u001b[0margs\u001b[0m\u001b[0;34m,\u001b[0m \u001b[0;34m**\u001b[0m\u001b[0mkwargs\u001b[0m\u001b[0;34m)\u001b[0m\u001b[0;34m\u001b[0m\u001b[0;34m\u001b[0m\u001b[0m\n\u001b[0m\u001b[1;32m    151\u001b[0m     \u001b[0;32mexcept\u001b[0m \u001b[0mException\u001b[0m \u001b[0;32mas\u001b[0m \u001b[0me\u001b[0m\u001b[0;34m:\u001b[0m\u001b[0;34m\u001b[0m\u001b[0;34m\u001b[0m\u001b[0m\n\u001b[1;32m    152\u001b[0m       \u001b[0mfiltered_tb\u001b[0m \u001b[0;34m=\u001b[0m \u001b[0m_process_traceback_frames\u001b[0m\u001b[0;34m(\u001b[0m\u001b[0me\u001b[0m\u001b[0;34m.\u001b[0m\u001b[0m__traceback__\u001b[0m\u001b[0;34m)\u001b[0m\u001b[0;34m\u001b[0m\u001b[0;34m\u001b[0m\u001b[0m\n",
            "\u001b[0;32m/usr/local/lib/python3.9/dist-packages/tensorflow/python/eager/polymorphic_function/polymorphic_function.py\u001b[0m in \u001b[0;36m__call__\u001b[0;34m(self, *args, **kwds)\u001b[0m\n\u001b[1;32m    892\u001b[0m \u001b[0;34m\u001b[0m\u001b[0m\n\u001b[1;32m    893\u001b[0m       \u001b[0;32mwith\u001b[0m \u001b[0mOptionalXlaContext\u001b[0m\u001b[0;34m(\u001b[0m\u001b[0mself\u001b[0m\u001b[0;34m.\u001b[0m\u001b[0m_jit_compile\u001b[0m\u001b[0;34m)\u001b[0m\u001b[0;34m:\u001b[0m\u001b[0;34m\u001b[0m\u001b[0;34m\u001b[0m\u001b[0m\n\u001b[0;32m--> 894\u001b[0;31m         \u001b[0mresult\u001b[0m \u001b[0;34m=\u001b[0m \u001b[0mself\u001b[0m\u001b[0;34m.\u001b[0m\u001b[0m_call\u001b[0m\u001b[0;34m(\u001b[0m\u001b[0;34m*\u001b[0m\u001b[0margs\u001b[0m\u001b[0;34m,\u001b[0m \u001b[0;34m**\u001b[0m\u001b[0mkwds\u001b[0m\u001b[0;34m)\u001b[0m\u001b[0;34m\u001b[0m\u001b[0;34m\u001b[0m\u001b[0m\n\u001b[0m\u001b[1;32m    895\u001b[0m \u001b[0;34m\u001b[0m\u001b[0m\n\u001b[1;32m    896\u001b[0m       \u001b[0mnew_tracing_count\u001b[0m \u001b[0;34m=\u001b[0m \u001b[0mself\u001b[0m\u001b[0;34m.\u001b[0m\u001b[0mexperimental_get_tracing_count\u001b[0m\u001b[0;34m(\u001b[0m\u001b[0;34m)\u001b[0m\u001b[0;34m\u001b[0m\u001b[0;34m\u001b[0m\u001b[0m\n",
            "\u001b[0;32m/usr/local/lib/python3.9/dist-packages/tensorflow/python/eager/polymorphic_function/polymorphic_function.py\u001b[0m in \u001b[0;36m_call\u001b[0;34m(self, *args, **kwds)\u001b[0m\n\u001b[1;32m    957\u001b[0m         \u001b[0;31m# Lifting succeeded, so variables are initialized and we can run the\u001b[0m\u001b[0;34m\u001b[0m\u001b[0;34m\u001b[0m\u001b[0m\n\u001b[1;32m    958\u001b[0m         \u001b[0;31m# no_variable_creation function.\u001b[0m\u001b[0;34m\u001b[0m\u001b[0;34m\u001b[0m\u001b[0m\n\u001b[0;32m--> 959\u001b[0;31m         \u001b[0;32mreturn\u001b[0m \u001b[0mself\u001b[0m\u001b[0;34m.\u001b[0m\u001b[0m_no_variable_creation_fn\u001b[0m\u001b[0;34m(\u001b[0m\u001b[0;34m*\u001b[0m\u001b[0margs\u001b[0m\u001b[0;34m,\u001b[0m \u001b[0;34m**\u001b[0m\u001b[0mkwds\u001b[0m\u001b[0;34m)\u001b[0m\u001b[0;34m\u001b[0m\u001b[0;34m\u001b[0m\u001b[0m\n\u001b[0m\u001b[1;32m    960\u001b[0m     \u001b[0;32melse\u001b[0m\u001b[0;34m:\u001b[0m\u001b[0;34m\u001b[0m\u001b[0;34m\u001b[0m\u001b[0m\n\u001b[1;32m    961\u001b[0m       _, _, filtered_flat_args = (\n",
            "\u001b[0;32m/usr/local/lib/python3.9/dist-packages/tensorflow/python/eager/polymorphic_function/tracing_compiler.py\u001b[0m in \u001b[0;36m__call__\u001b[0;34m(self, *args, **kwargs)\u001b[0m\n\u001b[1;32m    141\u001b[0m       (concrete_function,\n\u001b[1;32m    142\u001b[0m        filtered_flat_args) = self._maybe_define_function(args, kwargs)\n\u001b[0;32m--> 143\u001b[0;31m     return concrete_function._call_flat(\n\u001b[0m\u001b[1;32m    144\u001b[0m         filtered_flat_args, captured_inputs=concrete_function.captured_inputs)  # pylint: disable=protected-access\n\u001b[1;32m    145\u001b[0m \u001b[0;34m\u001b[0m\u001b[0m\n",
            "\u001b[0;32m/usr/local/lib/python3.9/dist-packages/tensorflow/python/eager/polymorphic_function/monomorphic_function.py\u001b[0m in \u001b[0;36m_call_flat\u001b[0;34m(self, args, captured_inputs, cancellation_manager)\u001b[0m\n\u001b[1;32m   1755\u001b[0m         and executing_eagerly):\n\u001b[1;32m   1756\u001b[0m       \u001b[0;31m# No tape is watching; skip to running the function.\u001b[0m\u001b[0;34m\u001b[0m\u001b[0;34m\u001b[0m\u001b[0m\n\u001b[0;32m-> 1757\u001b[0;31m       return self._build_call_outputs(self._inference_function.call(\n\u001b[0m\u001b[1;32m   1758\u001b[0m           ctx, args, cancellation_manager=cancellation_manager))\n\u001b[1;32m   1759\u001b[0m     forward_backward = self._select_forward_and_backward_functions(\n",
            "\u001b[0;32m/usr/local/lib/python3.9/dist-packages/tensorflow/python/eager/polymorphic_function/monomorphic_function.py\u001b[0m in \u001b[0;36mcall\u001b[0;34m(self, ctx, args, cancellation_manager)\u001b[0m\n\u001b[1;32m    379\u001b[0m       \u001b[0;32mwith\u001b[0m \u001b[0m_InterpolateFunctionError\u001b[0m\u001b[0;34m(\u001b[0m\u001b[0mself\u001b[0m\u001b[0;34m)\u001b[0m\u001b[0;34m:\u001b[0m\u001b[0;34m\u001b[0m\u001b[0;34m\u001b[0m\u001b[0m\n\u001b[1;32m    380\u001b[0m         \u001b[0;32mif\u001b[0m \u001b[0mcancellation_manager\u001b[0m \u001b[0;32mis\u001b[0m \u001b[0;32mNone\u001b[0m\u001b[0;34m:\u001b[0m\u001b[0;34m\u001b[0m\u001b[0;34m\u001b[0m\u001b[0m\n\u001b[0;32m--> 381\u001b[0;31m           outputs = execute.execute(\n\u001b[0m\u001b[1;32m    382\u001b[0m               \u001b[0mstr\u001b[0m\u001b[0;34m(\u001b[0m\u001b[0mself\u001b[0m\u001b[0;34m.\u001b[0m\u001b[0msignature\u001b[0m\u001b[0;34m.\u001b[0m\u001b[0mname\u001b[0m\u001b[0;34m)\u001b[0m\u001b[0;34m,\u001b[0m\u001b[0;34m\u001b[0m\u001b[0;34m\u001b[0m\u001b[0m\n\u001b[1;32m    383\u001b[0m               \u001b[0mnum_outputs\u001b[0m\u001b[0;34m=\u001b[0m\u001b[0mself\u001b[0m\u001b[0;34m.\u001b[0m\u001b[0m_num_outputs\u001b[0m\u001b[0;34m,\u001b[0m\u001b[0;34m\u001b[0m\u001b[0;34m\u001b[0m\u001b[0m\n",
            "\u001b[0;32m/usr/local/lib/python3.9/dist-packages/tensorflow/python/eager/execute.py\u001b[0m in \u001b[0;36mquick_execute\u001b[0;34m(op_name, num_outputs, inputs, attrs, ctx, name)\u001b[0m\n\u001b[1;32m     50\u001b[0m   \u001b[0;32mtry\u001b[0m\u001b[0;34m:\u001b[0m\u001b[0;34m\u001b[0m\u001b[0;34m\u001b[0m\u001b[0m\n\u001b[1;32m     51\u001b[0m     \u001b[0mctx\u001b[0m\u001b[0;34m.\u001b[0m\u001b[0mensure_initialized\u001b[0m\u001b[0;34m(\u001b[0m\u001b[0;34m)\u001b[0m\u001b[0;34m\u001b[0m\u001b[0;34m\u001b[0m\u001b[0m\n\u001b[0;32m---> 52\u001b[0;31m     tensors = pywrap_tfe.TFE_Py_Execute(ctx._handle, device_name, op_name,\n\u001b[0m\u001b[1;32m     53\u001b[0m                                         inputs, attrs, num_outputs)\n\u001b[1;32m     54\u001b[0m   \u001b[0;32mexcept\u001b[0m \u001b[0mcore\u001b[0m\u001b[0;34m.\u001b[0m\u001b[0m_NotOkStatusException\u001b[0m \u001b[0;32mas\u001b[0m \u001b[0me\u001b[0m\u001b[0;34m:\u001b[0m\u001b[0;34m\u001b[0m\u001b[0;34m\u001b[0m\u001b[0m\n",
            "\u001b[0;31mKeyboardInterrupt\u001b[0m: "
          ]
        }
      ],
      "source": [
        "model = keras.Sequential([\n",
        "  keras.layers.Conv2D(32, 3, activation='relu'),\n",
        "  # keras.layers.MaxPool2D(2,2),\n",
        "  keras.layers.Conv2D(32, 3, activation='relu'),\n",
        "  # keras.layers.MaxPool2D(2,2),\n",
        "  # keras.layers.Dropout(0.5),\n",
        "  keras.layers.Flatten(),\n",
        "  # keras.layers.Dense(64, activation='relu'),\n",
        "  keras.layers.Dense(2, activation='softmax')\n",
        "])\n",
        "\n",
        "model.compile(loss=\"sparse_categorical_crossentropy\", optimizer=\"adam\", metrics=[\"accuracy\"])\n",
        "model.fit(train_images, train_labels, batch_size=32, epochs=10)"
      ]
    },
    {
      "cell_type": "code",
      "execution_count": null,
      "metadata": {
        "id": "SWYsMjClDfEq"
      },
      "outputs": [],
      "source": [
        "loss, accuracy = model.evaluate(test_images, test_labels)\n",
        "print(f\"Accuracy: {accuracy*100:.2f}% \")"
      ]
    },
    {
      "cell_type": "markdown",
      "metadata": {
        "id": "qo_3dt78EakF"
      },
      "source": [
        "### Hyperparameter Tuning using the Keras Tuner"
      ]
    },
    {
      "cell_type": "markdown",
      "metadata": {
        "id": "TqyyDt0MFDWh"
      },
      "source": [
        "#### Experimentation With The Number of Convolutional Layers And Their Size"
      ]
    },
    {
      "cell_type": "code",
      "execution_count": 9,
      "metadata": {
        "colab": {
          "base_uri": "https://localhost:8080/"
        },
        "id": "v9uN1z3OJxUp",
        "outputId": "d329cf14-ecc4-48f0-9b2b-09d221f43395"
      },
      "outputs": [
        {
          "name": "stdout",
          "output_type": "stream",
          "text": [
            "Trial 32 Complete [00h 00m 47s]\n",
            "val_accuracy: 0.7890625\n",
            "\n",
            "Best val_accuracy So Far: 0.8984375\n",
            "Total elapsed time: 00h 44m 40s\n"
          ]
        }
      ],
      "source": [
        "# model = keras.Sequential([\n",
        "#   keras.layers.Conv2D(64, 3, activation='relu'),\n",
        "#   keras.layers.Conv2D(32, 3, activation='relu'),\n",
        "#   keras.layers.Flatten(),\n",
        "#   keras.layers.Dense(2, activation='softmax')\n",
        "# ])\n",
        "\n",
        "from keras import backend\n",
        "\n",
        "def build_model(hp):\n",
        "  backend.clear_session();\n",
        "  model = keras.Sequential()\n",
        "\n",
        "  for i in range(hp.Int(\"Conv2D layers\", min_value=0, max_value=3)):\n",
        "    model.add(keras.layers.Conv2D(hp.Choice(f\"layer {i} filters\", [16, 32, 64, 128]), 3, activation=\"relu\"))\n",
        "\n",
        "  model.add(keras.layers.Flatten())\n",
        "  model.add(keras.layers.Dense(2, activation=\"softmax\"))\n",
        "\n",
        "  model.compile(loss=\"sparse_categorical_crossentropy\", optimizer=\"adam\", metrics=[\"accuracy\"])\n",
        "\n",
        "  return model\n",
        "\n",
        "stop_early = tf.keras.callbacks.EarlyStopping(monitor='val_accuracy', patience=3)\n",
        "\n",
        "tuner = RandomSearch(build_model, objective=\"val_accuracy\", max_trials=32, overwrite=True)\n",
        "tuner.search(train_images, train_labels, validation_data=(test_images, test_labels), epochs=10, batch_size=32, callbacks=[stop_early])\n"
      ]
    },
    {
      "cell_type": "code",
      "execution_count": 10,
      "metadata": {
        "colab": {
          "base_uri": "https://localhost:8080/"
        },
        "id": "V7625IxRHXig",
        "outputId": "64ead8b0-ed15-4a5b-cbc4-a15421ff6249"
      },
      "outputs": [
        {
          "name": "stdout",
          "output_type": "stream",
          "text": [
            "Results summary\n",
            "Results in ./untitled_project\n",
            "Showing 10 best trials\n",
            "<keras_tuner.engine.objective.Objective object at 0x2cb699ab0>\n",
            "Trial summary\n",
            "Hyperparameters:\n",
            "Conv2D layers: 3\n",
            "layer 0 filters: 16\n",
            "layer 1 filters: 32\n",
            "layer 2 filters: 32\n",
            "Score: 0.8984375\n",
            "Trial summary\n",
            "Hyperparameters:\n",
            "Conv2D layers: 1\n",
            "layer 0 filters: 64\n",
            "layer 1 filters: 128\n",
            "layer 2 filters: 32\n",
            "Score: 0.8984375\n",
            "Trial summary\n",
            "Hyperparameters:\n",
            "Conv2D layers: 1\n",
            "layer 0 filters: 16\n",
            "layer 1 filters: 32\n",
            "layer 2 filters: 128\n",
            "Score: 0.8984375\n",
            "Trial summary\n",
            "Hyperparameters:\n",
            "Conv2D layers: 0\n",
            "layer 0 filters: 128\n",
            "layer 1 filters: 32\n",
            "layer 2 filters: 64\n",
            "Score: 0.88671875\n",
            "Trial summary\n",
            "Hyperparameters:\n",
            "Conv2D layers: 2\n",
            "layer 0 filters: 16\n",
            "layer 1 filters: 32\n",
            "layer 2 filters: 32\n",
            "Score: 0.875\n",
            "Trial summary\n",
            "Hyperparameters:\n",
            "Conv2D layers: 1\n",
            "layer 0 filters: 128\n",
            "layer 1 filters: 64\n",
            "layer 2 filters: 128\n",
            "Score: 0.859375\n",
            "Trial summary\n",
            "Hyperparameters:\n",
            "Conv2D layers: 3\n",
            "layer 0 filters: 64\n",
            "layer 1 filters: 32\n",
            "layer 2 filters: 16\n",
            "Score: 0.859375\n",
            "Trial summary\n",
            "Hyperparameters:\n",
            "Conv2D layers: 1\n",
            "layer 0 filters: 16\n",
            "layer 1 filters: 32\n",
            "layer 2 filters: 64\n",
            "Score: 0.85546875\n",
            "Trial summary\n",
            "Hyperparameters:\n",
            "Conv2D layers: 0\n",
            "layer 0 filters: 16\n",
            "layer 1 filters: 32\n",
            "layer 2 filters: 128\n",
            "Score: 0.85546875\n",
            "Trial summary\n",
            "Hyperparameters:\n",
            "Conv2D layers: 2\n",
            "layer 0 filters: 64\n",
            "layer 1 filters: 64\n",
            "layer 2 filters: 32\n",
            "Score: 0.84765625\n"
          ]
        }
      ],
      "source": [
        "tuner.results_summary()\n",
        "best_model = tuner.get_best_models()[0]"
      ]
    },
    {
      "cell_type": "code",
      "execution_count": 11,
      "metadata": {
        "colab": {
          "base_uri": "https://localhost:8080/",
          "height": 336
        },
        "id": "Znoc_t1AHnRU",
        "outputId": "d0db03fc-2688-4743-89ec-c1987ac6a185"
      },
      "outputs": [
        {
          "name": "stdout",
          "output_type": "stream",
          "text": [
            "8/8 [==============================] - 1s 82ms/step - loss: 0.3177 - accuracy: 0.8984\n",
            "Accuracy: 89.84%, Loss: 0.32\n"
          ]
        }
      ],
      "source": [
        "loss, accuracy = best_model.evaluate(test_images, test_labels)\n",
        "print(f\"Accuracy: {accuracy*100:.2f}%, Loss: {loss:.2f}\")"
      ]
    }
  ],
  "metadata": {
    "accelerator": "GPU",
    "colab": {
      "include_colab_link": true,
      "provenance": []
    },
    "gpuClass": "standard",
    "kernelspec": {
      "display_name": "Python 3 (ipykernel)",
      "language": "python",
      "name": "python3"
    },
    "language_info": {
      "codemirror_mode": {
        "name": "ipython",
        "version": 3
      },
      "file_extension": ".py",
      "mimetype": "text/x-python",
      "name": "python",
      "nbconvert_exporter": "python",
      "pygments_lexer": "ipython3",
      "version": "3.10.10"
    }
  },
  "nbformat": 4,
  "nbformat_minor": 0
}
