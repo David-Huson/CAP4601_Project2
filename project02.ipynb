{
  "nbformat": 4,
  "nbformat_minor": 0,
  "metadata": {
    "colab": {
      "provenance": [],
      "collapsed_sections": [
        "sCDCuuXxtqJN",
        "n6OZ7HEC3RYv"
      ],
      "include_colab_link": true
    },
    "kernelspec": {
      "name": "python3",
      "display_name": "Python 3"
    },
    "accelerator": "GPU"
  },
  "cells": [
    {
      "cell_type": "markdown",
      "metadata": {
        "id": "view-in-github",
        "colab_type": "text"
      },
      "source": [
        "<a href=\"https://colab.research.google.com/github/David-Huson/CAP4601_Project2/blob/main/project02.ipynb\" target=\"_parent\"><img src=\"https://colab.research.google.com/assets/colab-badge.svg\" alt=\"Open In Colab\"/></a>"
      ]
    },
    {
      "cell_type": "markdown",
      "source": [
        "# CAP4601-Intro to AI Project 2\n",
        "## Image Classification using Convolutional Neural Networks"
      ],
      "metadata": {
        "id": "Kp1HDtH_oRbj"
      }
    },
    {
      "cell_type": "markdown",
      "source": [
        "### Install and Import Dependencies"
      ],
      "metadata": {
        "id": "y3LOpR2Cp_ia"
      }
    },
    {
      "cell_type": "code",
      "source": [
        "!pip install -q tensorflow tensorflow-datasets"
      ],
      "metadata": {
        "id": "8ZI6eKm8oRIw"
      },
      "execution_count": null,
      "outputs": []
    },
    {
      "cell_type": "code",
      "source": [
        "!pip install -U keras-tuner"
      ],
      "metadata": {
        "id": "jnP2C-KNppfA"
      },
      "execution_count": null,
      "outputs": []
    },
    {
      "cell_type": "code",
      "source": [
        "import matplotlib.pyplot as plt         # used to plot the graphs for the experiments\n",
        "import numpy as np                      # used to format data into a matrix\n",
        "\n",
        "import tensorflow as tf                 # used to evaluate and work with models\n",
        "import tensorflow_datasets as tfds      # used to import datasets from tf\n",
        "\n",
        "from tensorflow import keras            # used to build the network layers"
      ],
      "metadata": {
        "id": "ptIrIOa5p9n6"
      },
      "execution_count": null,
      "outputs": []
    },
    {
      "cell_type": "code",
      "source": [
        "tfds.disable_progress_bar()             #keep the noteboook clean"
      ],
      "metadata": {
        "id": "2azOozm2s6Th"
      },
      "execution_count": null,
      "outputs": []
    },
    {
      "cell_type": "markdown",
      "source": [
        "### Prepare Data"
      ],
      "metadata": {
        "id": "sCDCuuXxtqJN"
      }
    },
    {
      "cell_type": "code",
      "source": [
        "# Load the MNIST dataset.\n",
        "builder = tfds.builder('mnist')\n",
        "info = builder.info\n",
        "\n",
        "ds_train = tfds.load(name=\"mnist\", split=\"train\")\n",
        "ds_test = tfds.load(name=\"mnist\", split=\"test\")"
      ],
      "metadata": {
        "id": "JXTHnoBLtdLQ",
        "colab": {
          "base_uri": "https://localhost:8080/"
        },
        "outputId": "dc499f36-0bd9-49f4-826d-1bed451987ef"
      },
      "execution_count": null,
      "outputs": [
        {
          "output_type": "stream",
          "name": "stdout",
          "text": [
            "Downloading and preparing dataset Unknown size (download: Unknown size, generated: Unknown size, total: Unknown size) to /root/tensorflow_datasets/mnist/3.0.1...\n",
            "Dataset mnist downloaded and prepared to /root/tensorflow_datasets/mnist/3.0.1. Subsequent calls will reuse this data.\n"
          ]
        }
      ]
    },
    {
      "cell_type": "markdown",
      "source": [
        "### Show Examples"
      ],
      "metadata": {
        "id": "p0Ts6clZuUge"
      }
    },
    {
      "cell_type": "code",
      "source": [
        "fig = tfds.show_examples(ds_train, info)"
      ],
      "metadata": {
        "colab": {
          "base_uri": "https://localhost:8080/",
          "height": 534
        },
        "id": "TYJR3h3yuTd-",
        "outputId": "b8a0d426-0cd0-4354-c46f-04dc2a8154ac"
      },
      "execution_count": null,
      "outputs": [
        {
          "output_type": "display_data",
          "data": {
            "text/plain": [
              "<Figure size 648x648 with 9 Axes>"
            ],
            "image/png": "[encoded data removed]"
          },
          "metadata": {}
        }
      ]
    },
    {
      "cell_type": "markdown",
      "source": [
        "### Data Formatting"
      ],
      "metadata": {
        "id": "IVtG_VXWu1g0"
      }
    },
    {
      "cell_type": "code",
      "source": [
        "# Change sets to numpy arrays\n",
        "(train_images, train_labels), (test_images, test_labels) = keras.datasets.mnist.load_data()"
      ],
      "metadata": {
        "id": "mSMbJAfZu_Sq"
      },
      "execution_count": null,
      "outputs": []
    },
    {
      "cell_type": "code",
      "source": [
        "# Change element types to floats for keras\n",
        "train_images = train_images.astype('float32')\n",
        "test_images = test_images.astype('float32')\n",
        "\n",
        "train_images /= 255\n",
        "test_images /= 255\n",
        "\n",
        "train_images = np.expand_dims(train_images, -1)\n",
        "test_images = np.expand_dims(test_images, -1)\n",
        "\n",
        "# Convert class vectors to binary class matrices\n",
        "train_labels = keras.utils.to_categorical(train_labels, 10)\n",
        "test_labels = keras.utils.to_categorical(test_labels, 10)\n",
        "train_labels"
      ],
      "metadata": {
        "id": "QGButeEdvjcX"
      },
      "execution_count": null,
      "outputs": []
    },
    {
      "cell_type": "markdown",
      "source": [
        "### Train a Basic Convolutional Network"
      ],
      "metadata": {
        "id": "0wp7lG8yw9-X"
      }
    },
    {
      "cell_type": "code",
      "source": [
        "# Setup our CNN topology\n",
        "model = keras.Sequential([\n",
        "  keras.layers.Conv2D(64, 3, activation='relu', input_shape=(28,28,1)),\n",
        "  keras.layers.Conv2D(32, 3, activation='relu'),\n",
        "  keras.layers.Flatten(),\n",
        "  keras.layers.Dense(10, activation='softmax')\n",
        "])\n",
        "\n",
        "# Train our CNN\n",
        "model.compile(loss=\"categorical_crossentropy\", optimizer=\"adam\", metrics=[\"accuracy\"])\n",
        "model.fit(train_images, train_labels, batch_size=128, epochs=15)"
      ],
      "metadata": {
        "colab": {
          "base_uri": "https://localhost:8080/"
        },
        "id": "lRvw4nWjxCHb",
        "outputId": "beeea944-77d5-48bf-ac5b-df508764904f"
      },
      "execution_count": null,
      "outputs": [
        {
          "output_type": "stream",
          "name": "stdout",
          "text": [
            "Epoch 1/15\n",
            "469/469 [==============================] - 5s 7ms/step - loss: 0.1930 - accuracy: 0.9438\n",
            "Epoch 2/15\n",
            "469/469 [==============================] - 3s 7ms/step - loss: 0.0593 - accuracy: 0.9820\n",
            "Epoch 3/15\n",
            "469/469 [==============================] - 3s 7ms/step - loss: 0.0409 - accuracy: 0.9880\n",
            "Epoch 4/15\n",
            "469/469 [==============================] - 4s 8ms/step - loss: 0.0301 - accuracy: 0.9905\n",
            "Epoch 5/15\n",
            "469/469 [==============================] - 3s 7ms/step - loss: 0.0226 - accuracy: 0.9928\n",
            "Epoch 6/15\n",
            "469/469 [==============================] - 3s 7ms/step - loss: 0.0189 - accuracy: 0.9937\n",
            "Epoch 7/15\n",
            "469/469 [==============================] - 4s 8ms/step - loss: 0.0145 - accuracy: 0.9953\n",
            "Epoch 8/15\n",
            "469/469 [==============================] - 4s 9ms/step - loss: 0.0112 - accuracy: 0.9963\n",
            "Epoch 9/15\n",
            "469/469 [==============================] - 3s 7ms/step - loss: 0.0081 - accuracy: 0.9973\n",
            "Epoch 10/15\n",
            "469/469 [==============================] - 3s 7ms/step - loss: 0.0067 - accuracy: 0.9979\n",
            "Epoch 11/15\n",
            "469/469 [==============================] - 3s 7ms/step - loss: 0.0059 - accuracy: 0.9981\n",
            "Epoch 12/15\n",
            "469/469 [==============================] - 4s 7ms/step - loss: 0.0058 - accuracy: 0.9981\n",
            "Epoch 13/15\n",
            "469/469 [==============================] - 3s 7ms/step - loss: 0.0044 - accuracy: 0.9985\n",
            "Epoch 14/15\n",
            "469/469 [==============================] - 3s 7ms/step - loss: 0.0067 - accuracy: 0.9977\n",
            "Epoch 15/15\n",
            "469/469 [==============================] - 4s 8ms/step - loss: 0.0043 - accuracy: 0.9987\n"
          ]
        },
        {
          "output_type": "execute_result",
          "data": {
            "text/plain": [
              "<keras.callbacks.History at 0x7f61c6b2d400>"
            ]
          },
          "metadata": {},
          "execution_count": 14
        }
      ]
    },
    {
      "cell_type": "code",
      "source": [
        "# Run our CNN over our test data.\n",
        "loss, accuracy = model.evaluate(test_images, test_labels)\n",
        "print(f\"Accuracy: {accuracy*100:.2f}% \")"
      ],
      "metadata": {
        "colab": {
          "base_uri": "https://localhost:8080/"
        },
        "id": "Dc7p8nFt6CD9",
        "outputId": "6273d2af-4a5d-476c-ad6f-55dfeba4fd74"
      },
      "execution_count": null,
      "outputs": [
        {
          "output_type": "stream",
          "name": "stdout",
          "text": [
            "313/313 [==============================] - 1s 3ms/step - loss: 0.0626 - accuracy: 0.9870\n"
          ]
        },
        {
          "output_type": "execute_result",
          "data": {
            "text/plain": [
              "[0.06261098384857178, 0.9869999885559082]"
            ]
          },
          "metadata": {},
          "execution_count": 15
        }
      ]
    },
    {
      "cell_type": "markdown",
      "source": [
        "### A More Elaborate CNN"
      ],
      "metadata": {
        "id": "36xTtCuj7Zfs"
      }
    },
    {
      "cell_type": "code",
      "source": [
        "# Setup the new CNN topology using 2 pooling layers\n",
        "model = keras.Sequential([\n",
        "  keras.layers.Conv2D(64, 3, activation='relu', input_shape=(28,28,1)),\n",
        "  keras.layers.MaxPool2D(2,2),\n",
        "  keras.layers.Conv2D(32, 3, activation='relu'),\n",
        "  keras.layers.MaxPool2D(2,2),\n",
        "  keras.layers.Flatten(),\n",
        "  keras.layers.Dense(10, activation='softmax')\n",
        "])\n",
        "\n",
        "# Train our CNN\n",
        "model.compile(loss=\"categorical_crossentropy\", optimizer=\"adam\", metrics=[\"accuracy\"])\n",
        "model.fit(train_images, train_labels, batch_size=128, epochs=15)"
      ],
      "metadata": {
        "colab": {
          "base_uri": "https://localhost:8080/"
        },
        "id": "bv8Q6RZv7eO-",
        "outputId": "035b9bb0-351c-48f4-ae81-3c8422182c74"
      },
      "execution_count": null,
      "outputs": [
        {
          "output_type": "stream",
          "name": "stdout",
          "text": [
            "Epoch 1/15\n",
            "469/469 [==============================] - 4s 5ms/step - loss: 0.2964 - accuracy: 0.9131\n",
            "Epoch 2/15\n",
            "469/469 [==============================] - 2s 5ms/step - loss: 0.0793 - accuracy: 0.9762\n",
            "Epoch 3/15\n",
            "469/469 [==============================] - 2s 5ms/step - loss: 0.0579 - accuracy: 0.9821\n",
            "Epoch 4/15\n",
            "469/469 [==============================] - 3s 6ms/step - loss: 0.0480 - accuracy: 0.9850\n",
            "Epoch 5/15\n",
            "469/469 [==============================] - 2s 5ms/step - loss: 0.0417 - accuracy: 0.9872\n",
            "Epoch 6/15\n",
            "469/469 [==============================] - 3s 6ms/step - loss: 0.0357 - accuracy: 0.9893\n",
            "Epoch 7/15\n",
            "469/469 [==============================] - 4s 8ms/step - loss: 0.0312 - accuracy: 0.9906\n",
            "Epoch 8/15\n",
            "469/469 [==============================] - 4s 9ms/step - loss: 0.0284 - accuracy: 0.9912\n",
            "Epoch 9/15\n",
            "469/469 [==============================] - 2s 5ms/step - loss: 0.0250 - accuracy: 0.9922\n",
            "Epoch 10/15\n",
            "469/469 [==============================] - 2s 5ms/step - loss: 0.0225 - accuracy: 0.9933\n",
            "Epoch 11/15\n",
            "469/469 [==============================] - 2s 5ms/step - loss: 0.0206 - accuracy: 0.9937\n",
            "Epoch 12/15\n",
            "469/469 [==============================] - 2s 5ms/step - loss: 0.0173 - accuracy: 0.9949\n",
            "Epoch 13/15\n",
            "469/469 [==============================] - 3s 6ms/step - loss: 0.0155 - accuracy: 0.9950\n",
            "Epoch 14/15\n",
            "469/469 [==============================] - 2s 5ms/step - loss: 0.0148 - accuracy: 0.9955\n",
            "Epoch 15/15\n",
            "469/469 [==============================] - 2s 5ms/step - loss: 0.0136 - accuracy: 0.9958\n"
          ]
        },
        {
          "output_type": "execute_result",
          "data": {
            "text/plain": [
              "<keras.callbacks.History at 0x7f61c6ac4250>"
            ]
          },
          "metadata": {},
          "execution_count": 12
        }
      ]
    },
    {
      "cell_type": "code",
      "source": [
        "loss, accuracy = model.evaluate(test_images, test_labels)\n",
        "print(f\"Accuracy: {accuracy*100:.2f}% \")"
      ],
      "metadata": {
        "colab": {
          "base_uri": "https://localhost:8080/"
        },
        "id": "GiY_RRAY8Zut",
        "outputId": "a5c40e6d-e891-47ec-bedf-77f344f1fa11"
      },
      "execution_count": null,
      "outputs": [
        {
          "output_type": "stream",
          "name": "stdout",
          "text": [
            "313/313 [==============================] - 1s 3ms/step - loss: 0.0626 - accuracy: 0.9870\n",
            "Accuracy: 98.70% \n"
          ]
        }
      ]
    },
    {
      "cell_type": "markdown",
      "source": [
        "### Addressing overfitting with dropout"
      ],
      "metadata": {
        "id": "XUMh1yxy97MV"
      }
    },
    {
      "cell_type": "code",
      "source": [
        "# Setup the new CNN topology using 2 pooling layers\n",
        "model = keras.Sequential([\n",
        "  keras.layers.Conv2D(64, 3, activation='relu'),\n",
        "  keras.layers.MaxPool2D(2,2),\n",
        "  keras.layers.Conv2D(32, 3, activation='relu'),\n",
        "  keras.layers.MaxPool2D(2,2),\n",
        "  keras.layers.Flatten(),\n",
        "  keras.layers.Dropout(0.5),\n",
        "  keras.layers.Dense(1028, activation=\"relu\"),\n",
        "  keras.layers.Dense(10, activation='softmax')\n",
        "])\n",
        "\n",
        "# Train our CNN\n",
        "model.compile(loss=\"categorical_crossentropy\", optimizer=\"adam\", metrics=[\"accuracy\"])\n",
        "model.fit(train_images, train_labels, batch_size=128, epochs=15)"
      ],
      "metadata": {
        "colab": {
          "base_uri": "https://localhost:8080/"
        },
        "id": "DXev6ku--DBW",
        "outputId": "6777ad02-6f85-4cdd-ff0d-6e65037ee428"
      },
      "execution_count": null,
      "outputs": [
        {
          "output_type": "stream",
          "name": "stdout",
          "text": [
            "Epoch 1/15\n",
            "469/469 [==============================] - 5s 6ms/step - loss: 0.2325 - accuracy: 0.9275\n",
            "Epoch 2/15\n",
            "469/469 [==============================] - 3s 5ms/step - loss: 0.0849 - accuracy: 0.9736\n",
            "Epoch 3/15\n",
            "469/469 [==============================] - 2s 5ms/step - loss: 0.0633 - accuracy: 0.9801\n",
            "Epoch 4/15\n",
            "469/469 [==============================] - 2s 5ms/step - loss: 0.0546 - accuracy: 0.9822\n",
            "Epoch 5/15\n",
            "469/469 [==============================] - 3s 6ms/step - loss: 0.0444 - accuracy: 0.9857\n",
            "Epoch 6/15\n",
            "469/469 [==============================] - 3s 6ms/step - loss: 0.0404 - accuracy: 0.9870\n",
            "Epoch 7/15\n",
            "469/469 [==============================] - 2s 5ms/step - loss: 0.0341 - accuracy: 0.9891\n",
            "Epoch 8/15\n",
            "469/469 [==============================] - 2s 5ms/step - loss: 0.0315 - accuracy: 0.9901\n",
            "Epoch 9/15\n",
            "469/469 [==============================] - 3s 5ms/step - loss: 0.0301 - accuracy: 0.9904\n",
            "Epoch 10/15\n",
            "469/469 [==============================] - 3s 6ms/step - loss: 0.0275 - accuracy: 0.9908\n",
            "Epoch 11/15\n",
            "469/469 [==============================] - 3s 6ms/step - loss: 0.0255 - accuracy: 0.9913\n",
            "Epoch 12/15\n",
            "469/469 [==============================] - 3s 5ms/step - loss: 0.0238 - accuracy: 0.9923\n",
            "Epoch 13/15\n",
            "469/469 [==============================] - 2s 5ms/step - loss: 0.0224 - accuracy: 0.9927\n",
            "Epoch 14/15\n",
            "469/469 [==============================] - 3s 5ms/step - loss: 0.0214 - accuracy: 0.9927\n",
            "Epoch 15/15\n",
            "469/469 [==============================] - 3s 6ms/step - loss: 0.0218 - accuracy: 0.9927\n"
          ]
        },
        {
          "output_type": "execute_result",
          "data": {
            "text/plain": [
              "<keras.callbacks.History at 0x7f61bce6d0a0>"
            ]
          },
          "metadata": {},
          "execution_count": 35
        }
      ]
    },
    {
      "cell_type": "code",
      "source": [
        "loss, accuracy = model.evaluate(test_images, test_labels)\n",
        "print(f\"Accuracy: {accuracy*100:.2f}% \")"
      ],
      "metadata": {
        "colab": {
          "base_uri": "https://localhost:8080/"
        },
        "id": "pCXZeAgB-NBV",
        "outputId": "f2e78fef-88f5-44f9-a962-87bd2c33a864"
      },
      "execution_count": null,
      "outputs": [
        {
          "output_type": "stream",
          "name": "stdout",
          "text": [
            "313/313 [==============================] - 1s 4ms/step - loss: 0.0218 - accuracy: 0.9942\n",
            "Accuracy: 99.42% \n"
          ]
        }
      ]
    },
    {
      "cell_type": "markdown",
      "source": [
        "### Hyperparameter tuning using Karas tuner"
      ],
      "metadata": {
        "id": "0FRdw_TrArM_"
      }
    },
    {
      "cell_type": "markdown",
      "source": [
        "#### Experimening with the number of convolution layers and their size"
      ],
      "metadata": {
        "id": "kDNCHC6FB1tP"
      }
    },
    {
      "cell_type": "code",
      "source": [
        "import keras_tuner\n",
        "\n",
        "def build_model(hp):\n",
        "  model = keras.Sequential()\n",
        "\n",
        "  for i in range(hp.Int(\"Conv2D layers\", min_value=0, max_value=3)):\n",
        "    model.add(keras.layers.Conv2D(hp.Choice(f\"layer {i} filters\", [16, 32, 64, 128]), 3, activation=\"relu\"))\n",
        "    \n",
        "  model.add(keras.layers.MaxPool2D(2,2))\n",
        "  model.add(keras.layers.Flatten())\n",
        "  model.add(keras.layers.Dropout(0.5))\n",
        "  model.add(keras.layers.Dense(1028, activation=\"relu\"))\n",
        "  model.add(keras.layers.Dense(10, activation='softmax'))\n",
        "\n",
        "  model.compile(loss=\"categorical_crossentropy\", optimizer=\"adam\", metrics=[\"accuracy\"])\n",
        "\n",
        "  return model\n",
        "\n",
        "tuner = keras_tuner.RandomSearch(build_model, objective='val_accuracy', max_trials=32)\n",
        "\n",
        "tuner.search(train_images, train_labels, validation_data=(test_images, test_labels), epochs=15, batch_size=128)\n"
      ],
      "metadata": {
        "colab": {
          "base_uri": "https://localhost:8080/"
        },
        "id": "q8_PLYhyAvY5",
        "outputId": "3af9ebb9-20dc-42c6-cf6a-e520b9358379"
      },
      "execution_count": null,
      "outputs": [
        {
          "output_type": "stream",
          "name": "stdout",
          "text": [
            "Trial 32 Complete [00h 00m 30s]\n",
            "val_accuracy: 0.9614999890327454\n",
            "\n",
            "Best val_accuracy So Far: 0.9940000176429749\n",
            "Total elapsed time: 00h 39m 13s\n"
          ]
        }
      ]
    },
    {
      "cell_type": "code",
      "source": [
        "# tuner.results_summary()\n",
        "best_model = tuner.get_best_models()[0]\n",
        "best_model.evaluate(test_images, test_labels)\n",
        "best_model.summary()"
      ],
      "metadata": {
        "colab": {
          "base_uri": "https://localhost:8080/"
        },
        "id": "TW6kyi_PMs55",
        "outputId": "430c1148-413f-4286-d18c-a91ef8e41320"
      },
      "execution_count": null,
      "outputs": [
        {
          "output_type": "stream",
          "name": "stdout",
          "text": [
            "313/313 [==============================] - 2s 4ms/step - loss: 0.0190 - accuracy: 0.9940\n",
            "Model: \"sequential\"\n",
            "_________________________________________________________________\n",
            " Layer (type)                Output Shape              Param #   \n",
            "=================================================================\n",
            " conv2d (Conv2D)             (None, 26, 26, 32)        320       \n",
            "                                                                 \n",
            " conv2d_1 (Conv2D)           (None, 24, 24, 64)        18496     \n",
            "                                                                 \n",
            " conv2d_2 (Conv2D)           (None, 22, 22, 16)        9232      \n",
            "                                                                 \n",
            " max_pooling2d (MaxPooling2D  (None, 11, 11, 16)       0         \n",
            " )                                                               \n",
            "                                                                 \n",
            " flatten (Flatten)           (None, 1936)              0         \n",
            "                                                                 \n",
            " dropout (Dropout)           (None, 1936)              0         \n",
            "                                                                 \n",
            " dense (Dense)               (None, 1028)              1991236   \n",
            "                                                                 \n",
            " dense_1 (Dense)             (None, 10)                10290     \n",
            "                                                                 \n",
            "=================================================================\n",
            "Total params: 2,029,574\n",
            "Trainable params: 2,029,574\n",
            "Non-trainable params: 0\n",
            "_________________________________________________________________\n"
          ]
        }
      ]
    },
    {
      "cell_type": "code",
      "source": [
        "class LineBuilder:\n",
        "    def __init__(self, line):\n",
        "        self.line = line\n",
        "        self.xs = list(line.get_xdata())\n",
        "        self.ys = list(line.get_ydata())\n",
        "        self.cid = line.figure.canvas.mpl_connect('button_press_event', self)\n",
        "\n",
        "    def __call__(self, event):\n",
        "        print('click', event)\n",
        "        if event.inaxes!=self.line.axes: return\n",
        "        self.xs.append(event.xdata)\n",
        "        self.ys.append(event.ydata)\n",
        "        self.line.set_data(self.xs, self.ys)\n",
        "        self.line.figure.canvas.draw()\n",
        "\n",
        "fig = plt.figure(figsize=(28,28))\n",
        "ax = fig.add_subplot(111)\n",
        "ax.set_title('click to add points')\n",
        "line, = ax.plot([], [], linestyle=\"none\", marker=\"o\", color=\"r\")\n",
        "linebuilder = LineBuilder(line)\n",
        "\n",
        "plt.show()\n",
        "plt.savefig('./test.jpg')\n",
        "\n",
        "# import imagio\n",
        "\n",
        "# im = imageio.imread('./test.jpg')\n",
        "# im_np = np.asarray(im)\n",
        "\n",
        "# print(im_np.shape)\n",
        "\n",
        "# best_model = tuner.get_best_models()[0]\n",
        "# result = best_model.predict(im)"
      ],
      "metadata": {
        "colab": {
          "base_uri": "https://localhost:8080/",
          "height": 1000
        },
        "id": "8mTNQl-rJ9l4",
        "outputId": "0a7417b0-2011-4ae4-a62d-29776a6a8ac6"
      },
      "execution_count": null,
      "outputs": [
        {
          "output_type": "display_data",
          "data": {
            "text/plain": [
              "<Figure size 2016x2016 with 1 Axes>"
            ],
            "image/png": "[encoded data removed]"
          },
          "metadata": {
            "needs_background": "light"
          }
        },
        {
          "output_type": "error",
          "ename": "ModuleNotFoundError",
          "evalue": "ignored",
          "traceback": [
            "\u001b[0;31m---------------------------------------------------------------------------\u001b[0m",
            "\u001b[0;31mModuleNotFoundError\u001b[0m                       Traceback (most recent call last)",
            "\u001b[0;32m<ipython-input-59-ecd4e93dcaab>\u001b[0m in \u001b[0;36m<module>\u001b[0;34m\u001b[0m\n\u001b[1;32m     23\u001b[0m \u001b[0mplt\u001b[0m\u001b[0;34m.\u001b[0m\u001b[0msavefig\u001b[0m\u001b[0;34m(\u001b[0m\u001b[0;34m'./test.jpg'\u001b[0m\u001b[0;34m)\u001b[0m\u001b[0;34m\u001b[0m\u001b[0;34m\u001b[0m\u001b[0m\n\u001b[1;32m     24\u001b[0m \u001b[0;34m\u001b[0m\u001b[0m\n\u001b[0;32m---> 25\u001b[0;31m \u001b[0;32mimport\u001b[0m \u001b[0mimagio\u001b[0m\u001b[0;34m\u001b[0m\u001b[0;34m\u001b[0m\u001b[0m\n\u001b[0m\u001b[1;32m     26\u001b[0m \u001b[0;34m\u001b[0m\u001b[0m\n\u001b[1;32m     27\u001b[0m \u001b[0mim\u001b[0m \u001b[0;34m=\u001b[0m \u001b[0mimageio\u001b[0m\u001b[0;34m.\u001b[0m\u001b[0mimread\u001b[0m\u001b[0;34m(\u001b[0m\u001b[0;34m'./test.jpg'\u001b[0m\u001b[0;34m)\u001b[0m\u001b[0;34m\u001b[0m\u001b[0;34m\u001b[0m\u001b[0m\n",
            "\u001b[0;31mModuleNotFoundError\u001b[0m: No module named 'imagio'",
            "",
            "\u001b[0;31m---------------------------------------------------------------------------\u001b[0;32m\nNOTE: If your import is failing due to a missing package, you can\nmanually install dependencies using either !pip or !apt.\n\nTo view examples of installing some common dependencies, click the\n\"Open Examples\" button below.\n\u001b[0;31m---------------------------------------------------------------------------\u001b[0m\n"
          ],
          "errorDetails": {
            "actions": [
              {
                "action": "open_url",
                "actionText": "Open Examples",
                "url": "/notebooks/snippets/importing_libraries.ipynb"
              }
            ]
          }
        },
        {
          "output_type": "display_data",
          "data": {
            "text/plain": [
              "<Figure size 432x288 with 0 Axes>"
            ]
          },
          "metadata": {}
        }
      ]
    },
    {
      "cell_type": "markdown",
      "source": [
        "### keras.io example\n",
        "[Simple MNIST convnet](https://keras.io/examples/vision/mnist_convnet/)"
      ],
      "metadata": {
        "id": "n6OZ7HEC3RYv"
      }
    },
    {
      "cell_type": "code",
      "source": [
        "# Model / data parameters\n",
        "num_classes = 10\n",
        "input_shape = (28, 28, 1)\n",
        "\n",
        "# Load the data and split it between train and test sets\n",
        "(x_train, y_train), (x_test, y_test) = keras.datasets.mnist.load_data()\n",
        "\n",
        "# Scale images to the [0, 1] range\n",
        "x_train = x_train.astype(\"float32\") / 255\n",
        "x_test = x_test.astype(\"float32\") / 255\n",
        "# Make sure images have shape (28, 28, 1)\n",
        "x_train = np.expand_dims(x_train, -1)\n",
        "x_test = np.expand_dims(x_test, -1)\n",
        "print(\"x_train shape:\", x_train.shape)\n",
        "print(x_train.shape[0], \"train samples\")\n",
        "print(x_test.shape[0], \"test samples\")\n",
        "\n",
        "\n",
        "# convert class vectors to binary class matrices\n",
        "y_train = keras.utils.to_categorical(y_train, num_classes)\n",
        "y_test = keras.utils.to_categorical(y_test, num_classes)"
      ],
      "metadata": {
        "id": "rUggkj213TZI"
      },
      "execution_count": null,
      "outputs": []
    },
    {
      "cell_type": "code",
      "source": [
        "model = keras.Sequential(\n",
        "    [\n",
        "        keras.Input(shape=input_shape),\n",
        "        keras.layers.Conv2D(32, kernel_size=(3, 3), activation=\"relu\"),\n",
        "        keras.layers.MaxPooling2D(pool_size=(2, 2)),\n",
        "        keras.layers.Conv2D(64, kernel_size=(3, 3), activation=\"relu\"),\n",
        "        keras.layers.MaxPooling2D(pool_size=(2, 2)),\n",
        "        keras.layers.Flatten(),\n",
        "        keras.layers.Dropout(0.5),\n",
        "        keras.layers.Dense(num_classes, activation=\"softmax\"),\n",
        "    ]\n",
        ")\n",
        "\n",
        "model.summary()"
      ],
      "metadata": {
        "id": "YDEOCy6x3VK_"
      },
      "execution_count": null,
      "outputs": []
    },
    {
      "cell_type": "code",
      "source": [
        "batch_size = 128\n",
        "epochs = 15\n",
        "\n",
        "model.compile(loss=\"categorical_crossentropy\", optimizer=\"adam\", metrics=[\"accuracy\"])\n",
        "\n",
        "model.fit(x_train, y_train, batch_size=batch_size, epochs=epochs, validation_split=0.1)"
      ],
      "metadata": {
        "id": "pAsJM9el3r61"
      },
      "execution_count": null,
      "outputs": []
    }
  ]
}