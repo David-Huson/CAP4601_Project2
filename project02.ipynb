{
 "cells": [
  {
   "cell_type": "markdown",
   "metadata": {
    "colab_type": "text",
    "id": "view-in-github"
   },
   "source": [
    "<a href=\"https://colab.research.google.com/github/David-Huson/CAP4601_Project2/blob/main/project02.ipynb\" target=\"_parent\"><img src=\"https://colab.research.google.com/assets/colab-badge.svg\" alt=\"Open In Colab\"/></a>"
   ]
  },
  {
   "cell_type": "markdown",
   "metadata": {
    "id": "B2De5YOEiEpg"
   },
   "source": [
    "# CAP4601-Intro to AI Project 2\n",
    "## Image Classification using Convolutional Neural Networks"
   ]
  },
  {
   "cell_type": "markdown",
   "metadata": {
    "id": "IHt0s_tE6B5-"
   },
   "source": [
    "### Install and Import Project Dependencies"
   ]
  },
  {
   "cell_type": "code",
   "execution_count": 28,
   "metadata": {},
   "outputs": [
    {
     "name": "stdout",
     "output_type": "stream",
     "text": [
      "Note: you may need to restart the kernel to use updated packages.\n",
      "Requirement already satisfied: keras-tuner in /Users/david/miniconda/envs/tensorflow/lib/python3.10/site-packages (1.1.3)\n",
      "Collecting keras-tuner\n",
      "  Using cached keras_tuner-1.3.4-py3-none-any.whl (172 kB)\n",
      "Requirement already satisfied: requests in /Users/david/miniconda/envs/tensorflow/lib/python3.10/site-packages (from keras-tuner) (2.28.2)\n",
      "Requirement already satisfied: kt-legacy in /Users/david/miniconda/envs/tensorflow/lib/python3.10/site-packages (from keras-tuner) (1.0.4)\n",
      "Requirement already satisfied: packaging in /Users/david/miniconda/envs/tensorflow/lib/python3.10/site-packages (from keras-tuner) (23.0)\n",
      "  Using cached keras_tuner-1.3.3-py3-none-any.whl (172 kB)\n",
      "  Using cached keras_tuner-1.3.2-py3-none-any.whl (172 kB)\n",
      "Requirement already satisfied: protobuf<=3.20 in /Users/david/miniconda/envs/tensorflow/lib/python3.10/site-packages (from keras-tuner) (3.19.6)\n",
      "  Using cached keras_tuner-1.3.1-py3-none-any.whl (172 kB)\n",
      "  Using cached keras_tuner-1.3.0-py3-none-any.whl (167 kB)\n",
      "Requirement already satisfied: ipython in /Users/david/miniconda/envs/tensorflow/lib/python3.10/site-packages (from keras-tuner) (8.12.0)\n",
      "  Using cached keras_tuner-1.2.1-py3-none-any.whl (169 kB)\n",
      "  Using cached keras_tuner-1.2.0-py3-none-any.whl (168 kB)\n",
      "Requirement already satisfied: numpy in /Users/david/miniconda/envs/tensorflow/lib/python3.10/site-packages (from keras-tuner) (1.23.5)\n",
      "Requirement already satisfied: tensorboard in /Users/david/miniconda/envs/tensorflow/lib/python3.10/site-packages (from keras-tuner) (2.9.1)\n",
      "Requirement already satisfied: traitlets>=5 in /Users/david/miniconda/envs/tensorflow/lib/python3.10/site-packages (from ipython->keras-tuner) (5.9.0)\n",
      "Requirement already satisfied: decorator in /Users/david/miniconda/envs/tensorflow/lib/python3.10/site-packages (from ipython->keras-tuner) (5.1.1)\n",
      "Requirement already satisfied: pexpect>4.3 in /Users/david/miniconda/envs/tensorflow/lib/python3.10/site-packages (from ipython->keras-tuner) (4.8.0)\n",
      "Requirement already satisfied: prompt-toolkit!=3.0.37,<3.1.0,>=3.0.30 in /Users/david/miniconda/envs/tensorflow/lib/python3.10/site-packages (from ipython->keras-tuner) (3.0.38)\n",
      "Requirement already satisfied: backcall in /Users/david/miniconda/envs/tensorflow/lib/python3.10/site-packages (from ipython->keras-tuner) (0.2.0)\n",
      "Requirement already satisfied: matplotlib-inline in /Users/david/miniconda/envs/tensorflow/lib/python3.10/site-packages (from ipython->keras-tuner) (0.1.6)\n",
      "Requirement already satisfied: pygments>=2.4.0 in /Users/david/miniconda/envs/tensorflow/lib/python3.10/site-packages (from ipython->keras-tuner) (2.14.0)\n",
      "Requirement already satisfied: pickleshare in /Users/david/miniconda/envs/tensorflow/lib/python3.10/site-packages (from ipython->keras-tuner) (0.7.5)\n",
      "Requirement already satisfied: stack-data in /Users/david/miniconda/envs/tensorflow/lib/python3.10/site-packages (from ipython->keras-tuner) (0.6.2)\n",
      "Requirement already satisfied: jedi>=0.16 in /Users/david/miniconda/envs/tensorflow/lib/python3.10/site-packages (from ipython->keras-tuner) (0.18.2)\n",
      "Requirement already satisfied: appnope in /Users/david/miniconda/envs/tensorflow/lib/python3.10/site-packages (from ipython->keras-tuner) (0.1.3)\n",
      "Requirement already satisfied: certifi>=2017.4.17 in /Users/david/miniconda/envs/tensorflow/lib/python3.10/site-packages (from requests->keras-tuner) (2022.12.7)\n",
      "Requirement already satisfied: idna<4,>=2.5 in /Users/david/miniconda/envs/tensorflow/lib/python3.10/site-packages (from requests->keras-tuner) (3.4)\n",
      "Requirement already satisfied: charset-normalizer<4,>=2 in /Users/david/miniconda/envs/tensorflow/lib/python3.10/site-packages (from requests->keras-tuner) (3.1.0)\n",
      "Requirement already satisfied: urllib3<1.27,>=1.21.1 in /Users/david/miniconda/envs/tensorflow/lib/python3.10/site-packages (from requests->keras-tuner) (1.26.15)\n",
      "Requirement already satisfied: tensorboard-data-server<0.7.0,>=0.6.0 in /Users/david/miniconda/envs/tensorflow/lib/python3.10/site-packages (from tensorboard->keras-tuner) (0.6.1)\n",
      "Requirement already satisfied: markdown>=2.6.8 in /Users/david/miniconda/envs/tensorflow/lib/python3.10/site-packages (from tensorboard->keras-tuner) (3.4.3)\n",
      "Requirement already satisfied: absl-py>=0.4 in /Users/david/miniconda/envs/tensorflow/lib/python3.10/site-packages (from tensorboard->keras-tuner) (1.4.0)\n",
      "Requirement already satisfied: setuptools>=41.0.0 in /Users/david/miniconda/envs/tensorflow/lib/python3.10/site-packages (from tensorboard->keras-tuner) (67.6.1)\n",
      "Requirement already satisfied: tensorboard-plugin-wit>=1.6.0 in /Users/david/miniconda/envs/tensorflow/lib/python3.10/site-packages (from tensorboard->keras-tuner) (1.8.1)\n",
      "Requirement already satisfied: werkzeug>=1.0.1 in /Users/david/miniconda/envs/tensorflow/lib/python3.10/site-packages (from tensorboard->keras-tuner) (2.2.3)\n",
      "Requirement already satisfied: grpcio>=1.24.3 in /Users/david/miniconda/envs/tensorflow/lib/python3.10/site-packages (from tensorboard->keras-tuner) (1.53.0)\n",
      "Requirement already satisfied: wheel>=0.26 in /Users/david/miniconda/envs/tensorflow/lib/python3.10/site-packages (from tensorboard->keras-tuner) (0.40.0)\n",
      "Requirement already satisfied: google-auth<3,>=1.6.3 in /Users/david/miniconda/envs/tensorflow/lib/python3.10/site-packages (from tensorboard->keras-tuner) (2.17.1)\n",
      "Requirement already satisfied: google-auth-oauthlib<0.5,>=0.4.1 in /Users/david/miniconda/envs/tensorflow/lib/python3.10/site-packages (from tensorboard->keras-tuner) (0.4.6)\n",
      "Requirement already satisfied: pyasn1-modules>=0.2.1 in /Users/david/miniconda/envs/tensorflow/lib/python3.10/site-packages (from google-auth<3,>=1.6.3->tensorboard->keras-tuner) (0.2.8)\n",
      "Requirement already satisfied: cachetools<6.0,>=2.0.0 in /Users/david/miniconda/envs/tensorflow/lib/python3.10/site-packages (from google-auth<3,>=1.6.3->tensorboard->keras-tuner) (5.3.0)\n",
      "Requirement already satisfied: rsa<5,>=3.1.4 in /Users/david/miniconda/envs/tensorflow/lib/python3.10/site-packages (from google-auth<3,>=1.6.3->tensorboard->keras-tuner) (4.9)\n",
      "Requirement already satisfied: six>=1.9.0 in /Users/david/miniconda/envs/tensorflow/lib/python3.10/site-packages (from google-auth<3,>=1.6.3->tensorboard->keras-tuner) (1.15.0)\n",
      "Requirement already satisfied: requests-oauthlib>=0.7.0 in /Users/david/miniconda/envs/tensorflow/lib/python3.10/site-packages (from google-auth-oauthlib<0.5,>=0.4.1->tensorboard->keras-tuner) (1.3.1)\n",
      "Requirement already satisfied: parso<0.9.0,>=0.8.0 in /Users/david/miniconda/envs/tensorflow/lib/python3.10/site-packages (from jedi>=0.16->ipython->keras-tuner) (0.8.3)\n",
      "Requirement already satisfied: ptyprocess>=0.5 in /Users/david/miniconda/envs/tensorflow/lib/python3.10/site-packages (from pexpect>4.3->ipython->keras-tuner) (0.7.0)\n",
      "Requirement already satisfied: wcwidth in /Users/david/miniconda/envs/tensorflow/lib/python3.10/site-packages (from prompt-toolkit!=3.0.37,<3.1.0,>=3.0.30->ipython->keras-tuner) (0.2.6)\n",
      "Requirement already satisfied: MarkupSafe>=2.1.1 in /Users/david/miniconda/envs/tensorflow/lib/python3.10/site-packages (from werkzeug>=1.0.1->tensorboard->keras-tuner) (2.1.2)\n",
      "Requirement already satisfied: pure-eval in /Users/david/miniconda/envs/tensorflow/lib/python3.10/site-packages (from stack-data->ipython->keras-tuner) (0.2.2)\n",
      "Requirement already satisfied: executing>=1.2.0 in /Users/david/miniconda/envs/tensorflow/lib/python3.10/site-packages (from stack-data->ipython->keras-tuner) (1.2.0)\n",
      "Requirement already satisfied: asttokens>=2.1.0 in /Users/david/miniconda/envs/tensorflow/lib/python3.10/site-packages (from stack-data->ipython->keras-tuner) (2.2.1)\n",
      "Requirement already satisfied: pyasn1<0.5.0,>=0.4.6 in /Users/david/miniconda/envs/tensorflow/lib/python3.10/site-packages (from pyasn1-modules>=0.2.1->google-auth<3,>=1.6.3->tensorboard->keras-tuner) (0.4.8)\n",
      "Requirement already satisfied: oauthlib>=3.0.0 in /Users/david/miniconda/envs/tensorflow/lib/python3.10/site-packages (from requests-oauthlib>=0.7.0->google-auth-oauthlib<0.5,>=0.4.1->tensorboard->keras-tuner) (3.2.2)\n",
      "Note: you may need to restart the kernel to use updated packages.\n"
     ]
    }
   ],
   "source": [
    "%pip install -q tensorflow-datasets\n",
    "%pip install -U keras-tuner"
   ]
  },
  {
   "cell_type": "code",
   "execution_count": 2,
   "metadata": {
    "id": "BntUGBr-kTeq"
   },
   "outputs": [],
   "source": [
    "import matplotlib.pyplot as plt           # used to plot the graphs for the experiments\n",
    "import numpy as np                        # used to format data into a matrix\n",
    "\n",
    "import tensorflow as tf                   # used to evaluate and work with models\n",
    "import tensorflow_datasets as tfds        # used to import datasets from tf\n",
    "\n",
    "from tensorflow import keras              # used to build the network layers\n",
    "\n",
    "from keras_tuner import RandomSearch      # used for hyper tuning\n",
    "\n",
    "import matplotlib.pyplot as plt\n",
    "import matplotlib.ticker as ticker\n",
    "import ipywidgets as widgets \n",
    "import json"
   ]
  },
  {
   "cell_type": "code",
   "execution_count": 3,
   "metadata": {
    "id": "8wNxbes9lucx"
   },
   "outputs": [],
   "source": [
    "tfds.disable_progress_bar()             #keep the noteboook clean"
   ]
  },
  {
   "cell_type": "markdown",
   "metadata": {
    "id": "S7fee9ik6GTB"
   },
   "source": [
    "### Prepare Data for the network"
   ]
  },
  {
   "cell_type": "code",
   "execution_count": 4,
   "metadata": {
    "id": "6z-TIcwplmDq"
   },
   "outputs": [
    {
     "name": "stdout",
     "output_type": "stream",
     "text": [
      "Metal device set to: Apple M2\n"
     ]
    },
    {
     "name": "stderr",
     "output_type": "stream",
     "text": [
      "2023-04-12 13:49:35.170349: W tensorflow/core/platform/profile_utils/cpu_utils.cc:128] Failed to get CPU frequency: 0 Hz\n"
     ]
    }
   ],
   "source": [
    "# tfds.list_builders()\n",
    "dataset = 'horses_or_humans'\n",
    "builder = tfds.builder(dataset)\n",
    "info = builder.info\n",
    "\n",
    "ds_train = tfds.load(\n",
    "    name=dataset,\n",
    "    split='train',\n",
    "    batch_size=-1,\n",
    "    as_supervised=True)\n",
    "\n",
    "ds_test = tfds.load(\n",
    "    name=dataset,\n",
    "    split='test',\n",
    "    batch_size=-1,\n",
    "    as_supervised=True)\n",
    "\n",
    "classes = info.features['label'].num_classes\n",
    "\n",
    "train_images, train_labels = tfds.as_numpy(ds_train)\n",
    "\n",
    "num_training_samples = len(train_images)\n",
    "\n",
    "test_images, test_labels = tfds.as_numpy(ds_test)\n",
    "\n",
    "num_test_samples = len(test_images)\n"
   ]
  },
  {
   "cell_type": "code",
   "execution_count": 5,
   "metadata": {
    "id": "6bhVu8pTQ2BV"
   },
   "outputs": [],
   "source": [
    "train_images = train_images.astype('float32')\n",
    "train_images /= 255\n",
    "\n",
    "test_images = test_images.astype('float32')\n",
    "test_images /= 255"
   ]
  },
  {
   "cell_type": "markdown",
   "metadata": {},
   "source": [
    "## Load the best model we found"
   ]
  },
  {
   "cell_type": "code",
   "execution_count": 6,
   "metadata": {},
   "outputs": [],
   "source": [
    "model = keras.models.load_model('./models/best_model')\n",
    "load_status = model.load_weights(\"./models/ckpt\")"
   ]
  },
  {
   "cell_type": "markdown",
   "metadata": {},
   "source": [
    "### Evaluate the model with the test data"
   ]
  },
  {
   "cell_type": "code",
   "execution_count": 7,
   "metadata": {},
   "outputs": [
    {
     "name": "stdout",
     "output_type": "stream",
     "text": [
      "8/8 [==============================] - 1s 66ms/step - loss: 0.5421 - accuracy: 0.9180\n",
      "Accuracy: 91.80% \n"
     ]
    }
   ],
   "source": [
    "loss, accuracy = model.evaluate(test_images, test_labels)\n",
    "print(f\"Accuracy: {accuracy*100:.2f}% \")"
   ]
  },
  {
   "cell_type": "markdown",
   "metadata": {},
   "source": [
    "### See if it can make a correct prediction"
   ]
  },
  {
   "cell_type": "markdown",
   "metadata": {},
   "source": [
    "#### Choose a random image from the test dataset"
   ]
  },
  {
   "cell_type": "code",
   "execution_count": 8,
   "metadata": {},
   "outputs": [
    {
     "data": {
      "text/plain": [
       "<matplotlib.image.AxesImage at 0x29985cf10>"
      ]
     },
     "execution_count": 8,
     "metadata": {},
     "output_type": "execute_result"
    },
    {
     "data": {
      "image/png": "[encoded data removed]",
      "text/plain": [
       "<Figure size 640x480 with 1 Axes>"
      ]
     },
     "metadata": {},
     "output_type": "display_data"
    }
   ],
   "source": [
    "test_image = np.array([test_images[np.random.randint(0, 100+1)]])\n",
    "rgb_images = np.array(test_image)\n",
    "rgb_image = rgb_images[0]\n",
    "plt.imshow(rgb_image)"
   ]
  },
  {
   "cell_type": "code",
   "execution_count": 60,
   "metadata": {},
   "outputs": [
    {
     "name": "stdout",
     "output_type": "stream",
     "text": [
      "1/1 [==============================] - 0s 11ms/step\n",
      "human - Confidence: 56.18%\n"
     ]
    }
   ],
   "source": [
    "result = model.predict(test_image)\n",
    "predicted_value = np.argmax(result)\n",
    "\n",
    "print((\"horse\" if predicted_value == 0 else \"human\") + f\" - Confidence:{result[0][predicted_value]*100: .2f}%\")"
   ]
  },
  {
   "cell_type": "code",
   "execution_count": 34,
   "metadata": {},
   "outputs": [
    {
     "data": {
      "application/vnd.jupyter.widget-view+json": {
       "model_id": "9569447a6f5645a79c04adf06f534008",
       "version_major": 2,
       "version_minor": 0
      },
      "text/plain": [
       "FileUpload(value=(), accept='image/*', description='Upload')"
      ]
     },
     "metadata": {},
     "output_type": "display_data"
    }
   ],
   "source": [
    "\n",
    "uploader = widgets.FileUpload(\n",
    "    accept= 'image/*',  # Accepted file extension e.g. '.txt', '.pdf', 'image/*', 'image/*,.pdf'\n",
    "    multiple=False  # True to accept multiple files upload else False\n",
    ")\n",
    "display(uploader)"
   ]
  },
  {
   "cell_type": "code",
   "execution_count": 76,
   "metadata": {},
   "outputs": [],
   "source": [
    "image_bytes = uploader.value[0].content.tobytes()"
   ]
  },
  {
   "cell_type": "code",
   "execution_count": 77,
   "metadata": {},
   "outputs": [
    {
     "data": {
      "application/vnd.jupyter.widget-view+json": {
       "model_id": "b25f0970e30c46b1b6b9c58f8d3f06d7",
       "version_major": 2,
       "version_minor": 0
      },
      "text/plain": [
       "Image(value=b'\\xff\\xd8\\xff\\xe0\\x00\\x10JFIF\\x00\\x01\\x01\\x01\\x00\\x01\\x00\\x01\\x00\\x00\\xff\\xe1\\x14\\x17Exif\\x00\\x00…"
      ]
     },
     "execution_count": 77,
     "metadata": {},
     "output_type": "execute_result"
    }
   ],
   "source": [
    "widgets.Image(value=image_bytes)\n"
   ]
  },
  {
   "cell_type": "code",
   "execution_count": 78,
   "metadata": {},
   "outputs": [
    {
     "name": "stdout",
     "output_type": "stream",
     "text": [
      "\n",
      "1/1 [==============================] - 0s 13ms/step\n",
      "horse - Confidence: 53.65%\n"
     ]
    }
   ],
   "source": [
    "import io\n",
    "from PIL import Image\n",
    "im = Image.open(io.BytesIO(image_bytes))\n",
    "image = np.array(im)\n",
    "image = image.astype('float32')\n",
    "image /= 255\n",
    "# print(image.shape)\n",
    "print()\n",
    "# image.resize(1, 976, 976, 3)\n",
    "\n",
    "image_shape = (1,) + image.shape\n",
    "image = image.reshape(image_shape)\n",
    "result = model.predict(image)\n",
    "predicted_value = np.argmax(result)\n",
    "\n",
    "print((\"horse\" if predicted_value == 0 else \"human\") + f\" - Confidence:{result[0][predicted_value]*100: .2f}%\")"
   ]
  },
  {
   "cell_type": "markdown",
   "metadata": {
    "id": "0vV2Zk5J6L_x"
   },
   "source": [
    "### Build a [very] Basic Convolutional Neural Network"
   ]
  },
  {
   "cell_type": "code",
   "execution_count": null,
   "metadata": {
    "colab": {
     "base_uri": "https://localhost:8080/"
    },
    "id": "iQl1ucktJq9W",
    "outputId": "44363a9c-2b43-48ec-e55d-197eecf12664"
   },
   "outputs": [],
   "source": [
    "model = keras.Sequential([\n",
    "  keras.layers.Conv2D(64, 3, activation='relu'),\n",
    "  keras.layers.Conv2D(32, 3, activation='relu'),\n",
    "  keras.layers.Flatten(),\n",
    "  keras.layers.Dense(2, activation='softmax')\n",
    "])\n",
    "\n",
    "model.compile(loss=\"sparse_categorical_crossentropy\", optimizer=\"adam\", metrics=[\"accuracy\"])\n",
    "\n",
    "model.fit(train_images, train_labels, batch_size=32, epochs=10)"
   ]
  },
  {
   "cell_type": "markdown",
   "metadata": {
    "id": "XCg8u0_t6fYm"
   },
   "source": [
    "#### Evaulate the Model using test data"
   ]
  },
  {
   "cell_type": "code",
   "execution_count": null,
   "metadata": {
    "colab": {
     "base_uri": "https://localhost:8080/"
    },
    "id": "SxWXejqjVQZ8",
    "outputId": "85a85719-426a-4f7e-bedd-39cb9eb5e20c"
   },
   "outputs": [],
   "source": [
    "loss, accuracy = model.evaluate(test_images, test_labels)\n",
    "print(f\"Accuracy: {accuracy*100:.2f}% \")"
   ]
  },
  {
   "cell_type": "code",
   "execution_count": null,
   "metadata": {
    "colab": {
     "base_uri": "https://localhost:8080/",
     "height": 453
    },
    "id": "eY-_qF8nYQsh",
    "outputId": "f14d75f5-5b57-4e9d-fbf4-a36f996702d9"
   },
   "outputs": [],
   "source": [
    "test_image = np.array([test_images[np.random.randint(0, 100+1)]])\n",
    "rgb_images = np.array(test_image)\n",
    "rgb_image = rgb_images[0]\n",
    "plt.imshow(rgb_image)"
   ]
  },
  {
   "cell_type": "code",
   "execution_count": null,
   "metadata": {
    "colab": {
     "base_uri": "https://localhost:8080/"
    },
    "id": "cH_5Y3wlZcBM",
    "outputId": "0bece8da-f888-4889-9018-c8e1826355ea"
   },
   "outputs": [],
   "source": [
    "result = model.predict(test_image)\n",
    "predicted_value = np.argmax(result)\n",
    "\n",
    "print(\"horse\" if predicted_value == 0 else \"human\")\n"
   ]
  },
  {
   "cell_type": "markdown",
   "metadata": {
    "id": "HFzYVMYrCM_a"
   },
   "source": [
    "### A more comprehensive CNN"
   ]
  },
  {
   "cell_type": "markdown",
   "metadata": {
    "id": "4TV86QQYCwt3"
   },
   "source": [
    "#### Adding Pooling Layers after each convolution"
   ]
  },
  {
   "cell_type": "code",
   "execution_count": null,
   "metadata": {
    "colab": {
     "base_uri": "https://localhost:8080/"
    },
    "id": "kZYp0Qw9CMf5",
    "outputId": "1967d334-8e36-413e-fab7-077bf1569397"
   },
   "outputs": [],
   "source": [
    "model = keras.Sequential([\n",
    "  keras.layers.Conv2D(64, 3, activation='relu'),\n",
    "  keras.layers.MaxPool2D(2,2),\n",
    "  keras.layers.Conv2D(32, 3, activation='relu'),\n",
    "  keras.layers.MaxPool2D(2,2),\n",
    "  keras.layers.Flatten(),\n",
    "  keras.layers.Dense(2, activation='softmax')\n",
    "])\n",
    "\n",
    "model.compile(loss=\"sparse_categorical_crossentropy\", optimizer=\"adam\", metrics=[\"accuracy\"])\n",
    "model.fit(train_images, train_labels, batch_size=32, epochs=10)"
   ]
  },
  {
   "cell_type": "code",
   "execution_count": null,
   "metadata": {
    "colab": {
     "base_uri": "https://localhost:8080/"
    },
    "id": "AeNFf7aMCrXy",
    "outputId": "abccbb16-52e6-4879-f9f8-0f0a3805af11"
   },
   "outputs": [],
   "source": [
    "loss, accuracy = model.evaluate(test_images, test_labels)\n",
    "print(f\"Accuracy: {accuracy*100:.2f}% \")"
   ]
  },
  {
   "cell_type": "markdown",
   "metadata": {
    "id": "hUf43YbgC1nP"
   },
   "source": [
    "#### Adding Dropout"
   ]
  },
  {
   "cell_type": "code",
   "execution_count": null,
   "metadata": {
    "colab": {
     "base_uri": "https://localhost:8080/"
    },
    "id": "-VCezN8zC1WQ",
    "outputId": "2458e09e-df29-4b4b-eba4-80e27aa150f8"
   },
   "outputs": [],
   "source": [
    "model = keras.Sequential([\n",
    "  keras.layers.Conv2D(64, 3, activation='relu'),\n",
    "  keras.layers.MaxPool2D(2,2),\n",
    "  keras.layers.Conv2D(32, 3, activation='relu'),\n",
    "  keras.layers.MaxPool2D(2,2),\n",
    "  keras.layers.Dropout(0.5),\n",
    "  keras.layers.Flatten(),\n",
    "  keras.layers.Dense(2, activation='softmax')\n",
    "])\n",
    "\n",
    "model.compile(loss=\"sparse_categorical_crossentropy\", optimizer=\"adam\", metrics=[\"accuracy\"])\n",
    "model.fit(train_images, train_labels, batch_size=32, epochs=10)"
   ]
  },
  {
   "cell_type": "code",
   "execution_count": null,
   "metadata": {
    "colab": {
     "base_uri": "https://localhost:8080/"
    },
    "id": "6QGXannwC65p",
    "outputId": "a4e36772-98a5-4ce5-9295-8ffbddd674df"
   },
   "outputs": [],
   "source": [
    "loss, accuracy = model.evaluate(test_images, test_labels)\n",
    "print(f\"Accuracy: {accuracy*100:.2f}% \")"
   ]
  },
  {
   "cell_type": "markdown",
   "metadata": {
    "id": "cUuNzwBgDsT8"
   },
   "source": [
    "#### Adding an intermediate Dense layer after the flattening"
   ]
  },
  {
   "cell_type": "code",
   "execution_count": null,
   "metadata": {
    "colab": {
     "base_uri": "https://localhost:8080/",
     "height": 389
    },
    "id": "flEGxg17DdDe",
    "outputId": "2f7fd538-44a0-4282-ca61-58770b8af31d"
   },
   "outputs": [],
   "source": [
    "model = keras.Sequential([\n",
    "  keras.layers.Conv2D(32, 3, activation='relu'),\n",
    "  keras.layers.MaxPool2D(2,2),\n",
    "  keras.layers.Conv2D(32, 3, activation='relu'),\n",
    "  keras.layers.MaxPool2D(2,2),\n",
    "  keras.layers.Dropout(0.5),\n",
    "  keras.layers.Flatten(),\n",
    "  keras.layers.Dense(64, activation='relu'),\n",
    "  keras.layers.Dense(2, activation='softmax')\n",
    "])\n",
    "\n",
    "model.compile(loss=\"sparse_categorical_crossentropy\", optimizer=\"adam\", metrics=[\"accuracy\"])\n",
    "model.fit(train_images, train_labels, batch_size=32, epochs=10)"
   ]
  },
  {
   "cell_type": "code",
   "execution_count": null,
   "metadata": {
    "id": "SWYsMjClDfEq"
   },
   "outputs": [],
   "source": [
    "loss, accuracy = model.evaluate(test_images, test_labels)\n",
    "print(f\"Accuracy: {accuracy*100:.2f}% \")"
   ]
  },
  {
   "cell_type": "markdown",
   "metadata": {
    "id": "qo_3dt78EakF"
   },
   "source": [
    "### Hyperparameter Tuning using the Keras Tuner"
   ]
  },
  {
   "cell_type": "markdown",
   "metadata": {
    "id": "TqyyDt0MFDWh"
   },
   "source": [
    "#### Experimentation With The Number of Convolutional Layers And Their Size"
   ]
  },
  {
   "cell_type": "code",
   "execution_count": null,
   "metadata": {
    "colab": {
     "base_uri": "https://localhost:8080/"
    },
    "id": "v9uN1z3OJxUp",
    "outputId": "d329cf14-ecc4-48f0-9b2b-09d221f43395"
   },
   "outputs": [],
   "source": [
    "def build_model(hp):\n",
    "\n",
    "  model = keras.Sequential()\n",
    "\n",
    "  for i in range(hp.Int(\"Conv2D layers\", min_value=1, max_value=4)):\n",
    "    model.add(keras.layers.Conv2D(hp.Choice(f\"layer {i} filters\", [16, 32, 64]), 3, activation=\"relu\"))\n",
    "\n",
    "  model.add(keras.layers.Flatten())\n",
    "  model.add(keras.layers.Dense(2, activation=\"softmax\"))\n",
    "\n",
    "  model.compile(loss=\"sparse_categorical_crossentropy\", optimizer=\"adam\", metrics=[\"accuracy\"])\n",
    "\n",
    "  return model\n",
    "\n",
    "stop_early = tf.keras.callbacks.EarlyStopping(monitor='val_accuracy', patience=3)\n",
    "\n",
    "tuner = RandomSearch(\n",
    "                    build_model, \n",
    "                    objective=\"val_accuracy\",\n",
    "                    max_trials=32, \n",
    "                     \n",
    "                    directory='./convLayers',\n",
    "                    project_name='convLayerTests')\n",
    "tuner.search(train_images, train_labels, validation_data=(test_images, test_labels), epochs=10, batch_size=32, callbacks=[stop_early])\n"
   ]
  },
  {
   "cell_type": "code",
   "execution_count": null,
   "metadata": {
    "colab": {
     "base_uri": "https://localhost:8080/"
    },
    "id": "V7625IxRHXig",
    "outputId": "64ead8b0-ed15-4a5b-cbc4-a15421ff6249"
   },
   "outputs": [],
   "source": [
    "tuner.results_summary()\n",
    "best_model = tuner.get_best_models()[0]"
   ]
  },
  {
   "cell_type": "code",
   "execution_count": null,
   "metadata": {
    "colab": {
     "base_uri": "https://localhost:8080/",
     "height": 336
    },
    "id": "Znoc_t1AHnRU",
    "outputId": "d0db03fc-2688-4743-89ec-c1987ac6a185"
   },
   "outputs": [],
   "source": [
    "loss, accuracy = best_model.evaluate(test_images, test_labels)\n",
    "print(f\"Accuracy: {accuracy*100:.2f}%, Loss: {loss:.2f}\")"
   ]
  },
  {
   "cell_type": "markdown",
   "metadata": {},
   "source": [
    "### Experimenting with the kernel size"
   ]
  },
  {
   "cell_type": "code",
   "execution_count": null,
   "metadata": {},
   "outputs": [],
   "source": [
    "def build_model(hp):\n",
    "  model = keras.Sequential()\n",
    "\n",
    "  model.add(keras.layers.Conv2D(32, hp.Int(\"Kernel size\", min_value=2, max_value=6), activation=\"relu\"))\n",
    "\n",
    "  model.add(keras.layers.Flatten())\n",
    "  model.add(keras.layers.Dense(2, activation=\"softmax\"))\n",
    "\n",
    "  model.compile(loss=\"sparse_categorical_crossentropy\", optimizer=\"adam\", metrics=[\"accuracy\"])\n",
    "\n",
    "  return model\n",
    "\n",
    "stop_early = tf.keras.callbacks.EarlyStopping(monitor='val_accuracy', patience=3)\n"
   ]
  },
  {
   "cell_type": "code",
   "execution_count": 288,
   "metadata": {},
   "outputs": [],
   "source": [
    "kernel_size_tuner = RandomSearch(\n",
    "                    build_model, \n",
    "                    objective=\"val_accuracy\",\n",
    "                    max_trials=6, \n",
    "                    directory='./convLayers',\n",
    "                    project_name='kernelSizeTests')"
   ]
  },
  {
   "cell_type": "code",
   "execution_count": null,
   "metadata": {},
   "outputs": [],
   "source": [
    "kernel_size_tuner.search(train_images, train_labels, validation_data=(test_images, test_labels), epochs=10, batch_size=32, callbacks=[stop_early])"
   ]
  },
  {
   "cell_type": "code",
   "execution_count": 289,
   "metadata": {},
   "outputs": [
    {
     "name": "stdout",
     "output_type": "stream",
     "text": [
      "Results summary\n",
      "Results in ./convLayers/kernelSizeTests\n",
      "Showing 10 best trials\n",
      "<keras_tuner.engine.objective.Objective object at 0x4b4bfe950>\n",
      "Trial summary\n",
      "Hyperparameters:\n",
      "Kernel size: 3\n",
      "Score: 0.9140625\n",
      "Trial summary\n",
      "Hyperparameters:\n",
      "Kernel size: 2\n",
      "Score: 0.8515625\n",
      "Trial summary\n",
      "Hyperparameters:\n",
      "Kernel size: 6\n",
      "Score: 0.8359375\n",
      "Trial summary\n",
      "Hyperparameters:\n",
      "Kernel size: 5\n",
      "Score: 0.79296875\n",
      "Trial summary\n",
      "Hyperparameters:\n",
      "Kernel size: 4\n",
      "Score: 0.71484375\n"
     ]
    }
   ],
   "source": [
    "kernel_size_tuner.results_summary()"
   ]
  },
  {
   "cell_type": "markdown",
   "metadata": {},
   "source": [
    "#### Results graph"
   ]
  },
  {
   "cell_type": "code",
   "execution_count": 290,
   "metadata": {},
   "outputs": [
    {
     "name": "stdout",
     "output_type": "stream",
     "text": [
      "[(0.71484375, 4), (0.79296875, 5), (0.8359375, 6), (0.8515625, 2), (0.9140625, 3)]\n"
     ]
    }
   ],
   "source": [
    "params = kernel_size_tuner.get_best_hyperparameters(num_trials=6) #get hyper params best to worst\n",
    "\n",
    "scores = []\n",
    "kernel_size = []\n",
    "for i in range (5):\n",
    "    with open(f\"./convLayers/kernelSizeTests/trial_{i}/trial.json\", 'r') as json_file:\n",
    "        data = json.load(json_file)\n",
    "        scores.append(data[\"score\"])\n",
    "    kernel_size.append(params[i]['Kernel size'])\n",
    "\n",
    "\n",
    "scores = sorted(scores)\n",
    "kernel_size = kernel_size[::-1] # reverse the order of the hyperparameters without sorting the list\n",
    "\n",
    "sortedPairs = sorted(list(zip(scores, kernel_size)), key=lambda x: x[0])\n",
    "print(sortedPairs)"
   ]
  },
  {
   "cell_type": "code",
   "execution_count": 294,
   "metadata": {},
   "outputs": [
    {
     "data": {
      "image/png": "[encoded data removed]",
      "text/plain": [
       "<Figure size 750x350 with 1 Axes>"
      ]
     },
     "metadata": {},
     "output_type": "display_data"
    }
   ],
   "source": [
    "accuracies = [x[0] for x in sortedPairs]\n",
    "kernel_sizes = [x[1] for x in sortedPairs]\n",
    "\n",
    "for i in range(len(kernel_sizes)):\n",
    "    plt.annotate(f\"{accuracies[i]*100: .2f}%\", xy=(kernel_sizes[i], accuracies[i]), xytext=(kernel_sizes[i], accuracies[i]), ha='center')\n",
    "\n",
    "plt.yscale(\"log\")\n",
    "ax = plt.subplot()\n",
    "ax.yaxis.set_minor_formatter(ticker.PercentFormatter(xmax=1))\n",
    "plt.title(\"Kernel Size vs. Accuracy\")\n",
    "plt.xlabel('Kernel Size')\n",
    "plt.ylabel('Accuracy')\n",
    "plt.bar(kernel_sizes, accuracies, width=0.4)\n",
    "plt.savefig('graphs/kernelSize.png')\n",
    "plt.show()"
   ]
  },
  {
   "cell_type": "markdown",
   "metadata": {},
   "source": [
    "### Max Pooling Experiments\n",
    "Experiment to find the best cofiguration of pooling kernel size and stride"
   ]
  },
  {
   "cell_type": "code",
   "execution_count": null,
   "metadata": {},
   "outputs": [],
   "source": [
    "def build_model(hp):\n",
    "  \n",
    "  model = keras.Sequential()\n",
    "\n",
    "  model.add(keras.layers.Conv2D(32, 4))\n",
    "  model.add(keras.layers.MaxPool2D(hp.Int(\"Kernel Size\", min_value=2, max_value=6), hp.Int(\"Kernel Stride\", min_value=1, max_value=3)))\n",
    "\n",
    "  model.add(keras.layers.Flatten())\n",
    "  model.add(keras.layers.Dense(2, activation=\"softmax\"))\n",
    "\n",
    "  model.compile(loss=\"sparse_categorical_crossentropy\", optimizer=\"adam\", metrics=[\"accuracy\"])\n",
    "\n",
    "  return model\n",
    "\n",
    "stop_early = tf.keras.callbacks.EarlyStopping(monitor='val_accuracy', patience=3)\n",
    "\n",
    "tuner = RandomSearch(\n",
    "                    build_model, \n",
    "                    objective=\"val_accuracy\",\n",
    "                    max_trials=10, \n",
    "                     \n",
    "                    directory='./convLayers',\n",
    "                    project_name='maxPoolKernelTests')\n",
    "tuner.search(train_images, train_labels, validation_data=(test_images, test_labels), epochs=10, batch_size=32, callbacks=[stop_early])"
   ]
  },
  {
   "cell_type": "code",
   "execution_count": null,
   "metadata": {},
   "outputs": [],
   "source": [
    "tuner.results_summary()\n",
    "best_model = tuner.get_best_models()[0]\n"
   ]
  },
  {
   "cell_type": "markdown",
   "metadata": {},
   "source": [
    "### Experimenting with the configuration of convolutions and pooling"
   ]
  },
  {
   "cell_type": "code",
   "execution_count": null,
   "metadata": {},
   "outputs": [],
   "source": [
    "def build_model(hp):\n",
    "  model = keras.Sequential()\n",
    "\n",
    "  for i in range(hp.Int(\"Convolution Layers\", min_value=1, max_value=4)):\n",
    "    model.add(keras.layers.Conv2D(hp.Choice(f\"layer {i} filters\", [16, 32, 64]), 3, activation=\"relu\"))\n",
    "    kernelSize = hp.Int(\"Kernel Size\", min_value=0, max_value=6)\n",
    "    if(kernelSize > 1):\n",
    "      model.add(keras.layers.MaxPool2D(kernelSize, hp.Int(\"Kernel Stride\", min_value=1, max_value=3)))\n",
    "\n",
    "  model.add(keras.layers.Flatten())\n",
    "  model.add(keras.layers.Dense(2, activation=\"softmax\"))\n",
    "\n",
    "  model.compile(loss=\"sparse_categorical_crossentropy\", optimizer=\"adam\", metrics=[\"accuracy\"])\n",
    "\n",
    "  return model\n",
    "\n",
    "stop_early = tf.keras.callbacks.EarlyStopping(monitor='val_accuracy', patience=3)\n",
    "\n",
    "tuner = RandomSearch(\n",
    "                    build_model, \n",
    "                    objective=\"val_accuracy\",\n",
    "                    max_trials=10, \n",
    "                     \n",
    "                    directory='./convLayers',\n",
    "                    project_name='convolutionModuleTests')\n",
    "tuner.search(train_images, train_labels, validation_data=(test_images, test_labels), epochs=10, batch_size=32, callbacks=[stop_early])"
   ]
  },
  {
   "cell_type": "markdown",
   "metadata": {},
   "source": [
    "### Experimenting with the number of layers, number of filters per layer, number of max pooling layers, kernel size, and kernel stride"
   ]
  },
  {
   "cell_type": "code",
   "execution_count": null,
   "metadata": {},
   "outputs": [],
   "source": [
    "def build_model(hp):\n",
    "  model = keras.Sequential()\n",
    "\n",
    "  for i in range(hp.Int(\"Convolution Layers\", min_value=1, max_value=4)):\n",
    "    model.add(keras.layers.Conv2D(hp.Choice(f\"layer {i} filters\", [16, 32, 64]), 3, activation=hp.Choice(f\"layer {i} activation\", [\"relu\", \"tanh\", \"softmax\"])))\n",
    "    kernelSize = hp.Int(\"Kernel Size\", min_value=0, max_value=6)\n",
    "    if(kernelSize > 1):\n",
    "      model.add(keras.layers.MaxPool2D(kernelSize, hp.Int(\"Kernel Stride\", min_value=1, max_value=3)))\n",
    "\n",
    "  model.add(keras.layers.Flatten())\n",
    "  model.add(keras.layers.Dense(2, activation=\"softmax\"))\n",
    "\n",
    "  model.compile(loss=\"sparse_categorical_crossentropy\", optimizer=\"adam\", metrics=[\"accuracy\"])\n",
    "\n",
    "  return model"
   ]
  },
  {
   "cell_type": "code",
   "execution_count": null,
   "metadata": {},
   "outputs": [],
   "source": [
    "tuner = RandomSearch(\n",
    "                    build_model, \n",
    "                    objective=\"val_accuracy\",\n",
    "                    max_trials=100, \n",
    "                    directory='./convLayers',\n",
    "                    project_name='convolutionModuleTestsWithActivation')"
   ]
  },
  {
   "cell_type": "code",
   "execution_count": null,
   "metadata": {},
   "outputs": [],
   "source": [
    "stop_early = tf.keras.callbacks.EarlyStopping(monitor='val_accuracy', patience=3)\n",
    "\n",
    "tuner.search(train_images, train_labels, validation_data=(test_images, test_labels), epochs=10, batch_size=32, callbacks=[stop_early])"
   ]
  },
  {
   "cell_type": "code",
   "execution_count": 23,
   "metadata": {},
   "outputs": [
    {
     "name": "stdout",
     "output_type": "stream",
     "text": [
      "Results summary\n",
      "Results in ./convLayers/convolutionModuleTestsWithActivation\n",
      "Showing 10 best trials\n",
      "<keras_tuner.engine.objective.Objective object at 0x3ad391000>\n",
      "Trial summary\n",
      "Hyperparameters:\n",
      "Convolution Layers: 4\n",
      "layer 0 filters: 64\n",
      "layer 0 activation: softmax\n",
      "Kernel Size: 4\n",
      "layer 1 filters: 16\n",
      "layer 1 activation: softmax\n",
      "layer 2 filters: 32\n",
      "layer 2 activation: tanh\n",
      "layer 3 filters: 16\n",
      "layer 3 activation: tanh\n",
      "Kernel Stride: 3\n",
      "Score: 0.91796875\n",
      "Trial summary\n",
      "Hyperparameters:\n",
      "Convolution Layers: 3\n",
      "layer 0 filters: 64\n",
      "layer 0 activation: softmax\n",
      "Kernel Size: 2\n",
      "layer 1 filters: 32\n",
      "layer 1 activation: relu\n",
      "layer 2 filters: 32\n",
      "layer 2 activation: tanh\n",
      "layer 3 filters: 16\n",
      "layer 3 activation: tanh\n",
      "Kernel Stride: 3\n",
      "Score: 0.9140625\n",
      "Trial summary\n",
      "Hyperparameters:\n",
      "Convolution Layers: 3\n",
      "layer 0 filters: 32\n",
      "layer 0 activation: tanh\n",
      "Kernel Size: 2\n",
      "layer 1 filters: 16\n",
      "layer 1 activation: tanh\n",
      "layer 2 filters: 64\n",
      "layer 2 activation: softmax\n",
      "layer 3 filters: 64\n",
      "layer 3 activation: softmax\n",
      "Kernel Stride: 2\n",
      "Score: 0.90625\n",
      "Trial summary\n",
      "Hyperparameters:\n",
      "Convolution Layers: 3\n",
      "layer 0 filters: 64\n",
      "layer 0 activation: softmax\n",
      "Kernel Size: 5\n",
      "layer 1 filters: 64\n",
      "layer 1 activation: relu\n",
      "layer 2 filters: 16\n",
      "layer 2 activation: tanh\n",
      "layer 3 filters: 64\n",
      "layer 3 activation: tanh\n",
      "Kernel Stride: 3\n",
      "Score: 0.90625\n",
      "Trial summary\n",
      "Hyperparameters:\n",
      "Convolution Layers: 2\n",
      "layer 0 filters: 16\n",
      "layer 0 activation: softmax\n",
      "Kernel Size: 4\n",
      "layer 1 filters: 64\n",
      "layer 1 activation: relu\n",
      "layer 2 filters: 64\n",
      "layer 2 activation: softmax\n",
      "layer 3 filters: 16\n",
      "layer 3 activation: relu\n",
      "Kernel Stride: 3\n",
      "Score: 0.90625\n",
      "Trial summary\n",
      "Hyperparameters:\n",
      "Convolution Layers: 3\n",
      "layer 0 filters: 16\n",
      "layer 0 activation: softmax\n",
      "Kernel Size: 4\n",
      "layer 1 filters: 64\n",
      "layer 1 activation: tanh\n",
      "layer 2 filters: 16\n",
      "layer 2 activation: relu\n",
      "layer 3 filters: 64\n",
      "layer 3 activation: relu\n",
      "Kernel Stride: 2\n",
      "Score: 0.90625\n",
      "Trial summary\n",
      "Hyperparameters:\n",
      "Convolution Layers: 4\n",
      "layer 0 filters: 64\n",
      "layer 0 activation: relu\n",
      "Kernel Size: 5\n",
      "layer 1 filters: 32\n",
      "layer 1 activation: softmax\n",
      "layer 2 filters: 32\n",
      "layer 2 activation: tanh\n",
      "layer 3 filters: 32\n",
      "layer 3 activation: relu\n",
      "Kernel Stride: 2\n",
      "Score: 0.90234375\n",
      "Trial summary\n",
      "Hyperparameters:\n",
      "Convolution Layers: 3\n",
      "layer 0 filters: 16\n",
      "layer 0 activation: tanh\n",
      "Kernel Size: 3\n",
      "layer 1 filters: 16\n",
      "layer 1 activation: softmax\n",
      "layer 2 filters: 64\n",
      "layer 2 activation: relu\n",
      "layer 3 filters: 64\n",
      "layer 3 activation: relu\n",
      "Kernel Stride: 2\n",
      "Score: 0.90234375\n",
      "Trial summary\n",
      "Hyperparameters:\n",
      "Convolution Layers: 3\n",
      "layer 0 filters: 32\n",
      "layer 0 activation: softmax\n",
      "Kernel Size: 3\n",
      "layer 1 filters: 32\n",
      "layer 1 activation: tanh\n",
      "layer 2 filters: 16\n",
      "layer 2 activation: relu\n",
      "layer 3 filters: 32\n",
      "layer 3 activation: softmax\n",
      "Kernel Stride: 2\n",
      "Score: 0.8984375\n",
      "Trial summary\n",
      "Hyperparameters:\n",
      "Convolution Layers: 2\n",
      "layer 0 filters: 64\n",
      "layer 0 activation: tanh\n",
      "Kernel Size: 1\n",
      "layer 1 filters: 16\n",
      "layer 1 activation: softmax\n",
      "layer 2 filters: 32\n",
      "layer 2 activation: softmax\n",
      "layer 3 filters: 32\n",
      "layer 3 activation: softmax\n",
      "Kernel Stride: 2\n",
      "Score: 0.89453125\n",
      "None\n"
     ]
    }
   ],
   "source": [
    "tuner = RandomSearch(\n",
    "                    build_model, \n",
    "                    objective=\"val_accuracy\",\n",
    "                    max_trials=100, \n",
    "                    directory='./convLayers',\n",
    "                    overwrite=False,\n",
    "                    project_name='convolutionModuleTestsWithActivation')\n",
    "print(tuner.results_summary())\n",
    "best_model = tuner.get_best_models()[0]"
   ]
  },
  {
   "cell_type": "markdown",
   "metadata": {},
   "source": [
    "### Experimenting with the number of Conv2D layers with the same number of filters"
   ]
  },
  {
   "cell_type": "code",
   "execution_count": 104,
   "metadata": {},
   "outputs": [],
   "source": [
    "def build_model(hp):\n",
    "  model = keras.Sequential()\n",
    "\n",
    "  for i in range(hp.Int(\"Conv2D layers\", min_value=1, max_value=6)):\n",
    "    model.add(keras.layers.Conv2D(32, 3, activation=\"relu\"))\n",
    "\n",
    "  model.add(keras.layers.Flatten())\n",
    "  model.add(keras.layers.Dense(2, activation=\"softmax\"))\n",
    "\n",
    "  model.compile(loss=\"sparse_categorical_crossentropy\", optimizer=\"adam\", metrics=[\"accuracy\"])\n",
    "\n",
    "  return model\n",
    "\n",
    "stop_early = tf.keras.callbacks.EarlyStopping(monitor='val_accuracy', patience=3)"
   ]
  },
  {
   "cell_type": "code",
   "execution_count": 295,
   "metadata": {},
   "outputs": [],
   "source": [
    "num_trials = 32\n",
    "conv2d_layers_tuner = RandomSearch(\n",
    "                    build_model, \n",
    "                    objective=\"val_accuracy\",\n",
    "                    max_trials=num_trials, \n",
    "                    directory='./convLayers',\n",
    "                    project_name='convLayerTests-number-of-layers')\n"
   ]
  },
  {
   "cell_type": "code",
   "execution_count": 106,
   "metadata": {},
   "outputs": [
    {
     "name": "stdout",
     "output_type": "stream",
     "text": [
      "Trial 6 Complete [00h 00m 14s]\n",
      "val_accuracy: 0.87109375\n",
      "\n",
      "Best val_accuracy So Far: 0.8828125\n",
      "Total elapsed time: 00h 07m 32s\n"
     ]
    }
   ],
   "source": [
    "conv2d_layers_tuner.search(train_images, train_labels, validation_data=(test_images, test_labels), epochs=10, batch_size=32, callbacks=[stop_early])"
   ]
  },
  {
   "cell_type": "code",
   "execution_count": 296,
   "metadata": {},
   "outputs": [
    {
     "name": "stdout",
     "output_type": "stream",
     "text": [
      "Results summary\n",
      "Results in ./convLayers/convLayerTests-number-of-layers\n",
      "Showing 10 best trials\n",
      "<keras_tuner.engine.objective.Objective object at 0x4b6f7b6d0>\n",
      "Trial summary\n",
      "Hyperparameters:\n",
      "Conv2D layers: 6\n",
      "Score: 0.8828125\n",
      "Trial summary\n",
      "Hyperparameters:\n",
      "Conv2D layers: 4\n",
      "Score: 0.875\n",
      "Trial summary\n",
      "Hyperparameters:\n",
      "Conv2D layers: 1\n",
      "Score: 0.87109375\n",
      "Trial summary\n",
      "Hyperparameters:\n",
      "Conv2D layers: 5\n",
      "Score: 0.83984375\n",
      "Trial summary\n",
      "Hyperparameters:\n",
      "Conv2D layers: 2\n",
      "Score: 0.83203125\n",
      "Trial summary\n",
      "Hyperparameters:\n",
      "Conv2D layers: 3\n",
      "Score: 0.78515625\n",
      "None\n"
     ]
    }
   ],
   "source": [
    "print(conv2d_layers_tuner.results_summary())"
   ]
  },
  {
   "cell_type": "markdown",
   "metadata": {},
   "source": [
    "#### Results graph"
   ]
  },
  {
   "cell_type": "code",
   "execution_count": 297,
   "metadata": {},
   "outputs": [
    {
     "name": "stdout",
     "output_type": "stream",
     "text": [
      "[(0.78515625, 3), (0.83203125, 2), (0.83984375, 5), (0.87109375, 1), (0.875, 4), (0.8828125, 6)]\n"
     ]
    }
   ],
   "source": [
    "num_completed_trials = 6\n",
    "params = conv2d_layers_tuner.get_best_hyperparameters(num_trials=num_completed_trials) #get hyper params best to worst\n",
    "\n",
    "scores = []\n",
    "layers_count = []\n",
    "for i in range (num_completed_trials):\n",
    "    with open(f\"./convLayers/convLayerTests-number-of-layers/trial_{i:02d}/trial.json\", 'r') as json_file:\n",
    "        data = json.load(json_file)\n",
    "        scores.append(data[\"score\"])\n",
    "    layers_count.append(params[i]['Conv2D layers'])\n",
    "\n",
    "scores = sorted(scores)\n",
    "layers_count = layers_count[::-1] # reverse the order of the hyperparameters without sorting the list\n",
    "\n",
    "sortedPairs = sorted(list(zip(scores, layers_count)), key=lambda x: x[0])\n",
    "print(sortedPairs)"
   ]
  },
  {
   "cell_type": "code",
   "execution_count": 299,
   "metadata": {},
   "outputs": [
    {
     "data": {
      "image/png": "[encoded data removed]",
      "text/plain": [
       "<Figure size 750x350 with 1 Axes>"
      ]
     },
     "metadata": {},
     "output_type": "display_data"
    }
   ],
   "source": [
    "accuracies = [x[0] for x in sortedPairs]\n",
    "layers_count = [x[1] for x in sortedPairs]\n",
    "\n",
    "for i in range(len(layers_count)):\n",
    "    plt.annotate(f\"{accuracies[i]*100: .2f}%\", xy=(layers_count[i], accuracies[i]), xytext=(layers_count[i], accuracies[i]), ha='center')\n",
    "\n",
    "plt.yscale(\"log\")\n",
    "ax = plt.subplot()\n",
    "ax.yaxis.set_minor_formatter(ticker.PercentFormatter(xmax=1))\n",
    "plt.title(\"Number of Convolutional Layers vs. Accuracy\")\n",
    "plt.xlabel('Convolutional Layers')\n",
    "plt.ylabel('Accuracy')\n",
    "plt.bar(layers_count, accuracies, width=0.4)\n",
    "plt.savefig('graphs/numFilters.png')\n",
    "plt.show()"
   ]
  },
  {
   "cell_type": "markdown",
   "metadata": {},
   "source": [
    "### Experimenting with only the number of filters in each Convolution"
   ]
  },
  {
   "cell_type": "code",
   "execution_count": 87,
   "metadata": {},
   "outputs": [],
   "source": [
    "def build_model(hp):\n",
    "  model = keras.Sequential()\n",
    "\n",
    "  filterNum = hp.Choice(\"NumFilters\", [16, 32, 64, 128])\n",
    "  model.add(keras.layers.Conv2D(filterNum, 3, activation=\"relu\"))\n",
    "  model.add(keras.layers.Conv2D(filterNum, 3, activation=\"relu\"))\n",
    "  model.add(keras.layers.Conv2D(filterNum, 3, activation=\"relu\"))\n",
    "  model.add(keras.layers.Conv2D(filterNum, 3, activation=\"relu\"))\n",
    "  model.add(keras.layers.Conv2D(filterNum, 3, activation=\"relu\"))\n",
    "  model.add(keras.layers.Conv2D(filterNum, 3, activation=\"relu\"))\n",
    "\n",
    "  model.add(keras.layers.Flatten())\n",
    "  model.add(keras.layers.Dense(2, activation=\"softmax\"))\n",
    "\n",
    "  model.compile(loss=\"sparse_categorical_crossentropy\", optimizer=\"adam\", metrics=[\"accuracy\"])\n",
    "\n",
    "  return model\n",
    "\n",
    "stop_early = tf.keras.callbacks.EarlyStopping(monitor='val_accuracy', patience=3)"
   ]
  },
  {
   "cell_type": "code",
   "execution_count": 272,
   "metadata": {},
   "outputs": [],
   "source": [
    "num_filters_tuner = RandomSearch(\n",
    "                    build_model, \n",
    "                    objective=\"val_accuracy\",\n",
    "                    max_trials=32, \n",
    "                    directory='./convLayers',\n",
    "                    project_name='convLayerTests-FilterSize')"
   ]
  },
  {
   "cell_type": "code",
   "execution_count": 89,
   "metadata": {},
   "outputs": [
    {
     "name": "stdout",
     "output_type": "stream",
     "text": [
      "Trial 4 Complete [00h 01m 34s]\n",
      "val_accuracy: 0.91015625\n",
      "\n",
      "Best val_accuracy So Far: 0.91015625\n",
      "Total elapsed time: 00h 29m 01s\n"
     ]
    }
   ],
   "source": [
    "num_filters_tuner.search(train_images, train_labels, validation_data=(test_images, test_labels), epochs=10, batch_size=32, callbacks=[stop_early])"
   ]
  },
  {
   "cell_type": "code",
   "execution_count": 273,
   "metadata": {},
   "outputs": [
    {
     "name": "stdout",
     "output_type": "stream",
     "text": [
      "Results summary\n",
      "Results in ./convLayers/convLayerTests-FilterSize\n",
      "Showing 10 best trials\n",
      "<keras_tuner.engine.objective.Objective object at 0x4b3594ac0>\n",
      "Trial summary\n",
      "Hyperparameters:\n",
      "NumFilters: 32\n",
      "Score: 0.91015625\n",
      "Trial summary\n",
      "Hyperparameters:\n",
      "NumFilters: 128\n",
      "Score: 0.8671875\n",
      "Trial summary\n",
      "Hyperparameters:\n",
      "NumFilters: 16\n",
      "Score: 0.85546875\n",
      "Trial summary\n",
      "Hyperparameters:\n",
      "NumFilters: 64\n",
      "Score: 0.8046875\n",
      "None\n"
     ]
    }
   ],
   "source": [
    "print(num_filters_tuner.results_summary())"
   ]
  },
  {
   "cell_type": "markdown",
   "metadata": {},
   "source": [
    "#### Results graph"
   ]
  },
  {
   "cell_type": "code",
   "execution_count": 274,
   "metadata": {},
   "outputs": [
    {
     "name": "stdout",
     "output_type": "stream",
     "text": [
      "[(0.8046875, 64), (0.85546875, 16), (0.8671875, 128), (0.91015625, 32)]\n"
     ]
    }
   ],
   "source": [
    "params = num_filters_tuner.get_best_hyperparameters(num_trials=4) #get hyper params best to worst\n",
    "\n",
    "scores = []\n",
    "filter_count = []\n",
    "for i in range(4):\n",
    "    with open(f\"./convLayers/convLayerTests-FilterSize/trial_{i:02d}/trial.json\", 'r') as json_file:\n",
    "        data = json.load(json_file)\n",
    "        scores.append(data[\"score\"])\n",
    "    filter_count.append(params[i]['NumFilters'])\n",
    "\n",
    "\n",
    "scores = sorted(scores)\n",
    "filter_count = filter_count[::-1] # reverse the order of the hyperparameters without sorting the list\n",
    "\n",
    "sortedPairs = sorted(list(zip(scores, filter_count)), key=lambda x: x[0])\n",
    "print(sortedPairs)"
   ]
  },
  {
   "cell_type": "code",
   "execution_count": 275,
   "metadata": {},
   "outputs": [
    {
     "data": {
      "image/png": "[encoded data removed]",
      "text/plain": [
       "<Figure size 750x350 with 1 Axes>"
      ]
     },
     "metadata": {},
     "output_type": "display_data"
    }
   ],
   "source": [
    "accuracies = [x[0] for x in sortedPairs]\n",
    "filter_count = [x[1] for x in sortedPairs]\n",
    "\n",
    "for i in range(len(filter_count)):\n",
    "    plt.annotate(f\"{accuracies[i]*100: .2f}%\", xy=(filter_count[i], accuracies[i]), xytext=(filter_count[i], accuracies[i]), ha='center')\n",
    "plt.yscale(\"log\")\n",
    "ax = plt.subplot()\n",
    "ax.yaxis.set_minor_formatter(ticker.PercentFormatter(xmax=1))\n",
    "plt.xticks(filter_count)\n",
    "plt.title(\"Number of Convolutional Layer Filters vs. Accuracy\")\n",
    "plt.xlabel('Convolutional Layer Filters')\n",
    "plt.ylabel('Accuracy')\n",
    "plt.bar(filter_count, accuracies, width=10)\n",
    "plt.show()"
   ]
  },
  {
   "cell_type": "markdown",
   "metadata": {},
   "source": [
    "### Experimenting with the pool kernel size"
   ]
  },
  {
   "cell_type": "code",
   "execution_count": 262,
   "metadata": {},
   "outputs": [],
   "source": [
    "def build_model(hp):\n",
    "  model = keras.Sequential()\n",
    "\n",
    "  stride = 2\n",
    "  poolSize = hp.Int(\"Pooling Kernel Size\", min_value=2, max_value=8) \n",
    "\n",
    "  model.add(keras.layers.Conv2D(32, 3, activation=\"relu\"))\n",
    "  model.add(keras.layers.MaxPool2D(poolSize,stride))\n",
    "  model.add(keras.layers.Conv2D(32, 3, activation=\"relu\"))\n",
    "  model.add(keras.layers.MaxPool2D(poolSize,stride))\n",
    "  model.add(keras.layers.Conv2D(32, 3, activation=\"relu\"))\n",
    "  model.add(keras.layers.MaxPool2D(poolSize,stride))\n",
    "\n",
    "  model.add(keras.layers.Flatten())\n",
    "  model.add(keras.layers.Dense(2, activation=\"softmax\"))\n",
    "\n",
    "  model.compile(loss=\"sparse_categorical_crossentropy\", optimizer=\"adam\", metrics=[\"accuracy\"])\n",
    "\n",
    "  return model\n",
    "\n",
    "stop_early = tf.keras.callbacks.EarlyStopping(monitor='val_accuracy', patience=3)"
   ]
  },
  {
   "cell_type": "code",
   "execution_count": 300,
   "metadata": {},
   "outputs": [],
   "source": [
    "pooling_kernel_size_tuner = RandomSearch(\n",
    "                    build_model, \n",
    "                    objective=\"val_accuracy\",\n",
    "                    max_trials=20, \n",
    "                    directory='./convLayers',\n",
    "                    project_name='poolingLayerTests_kernelSize')"
   ]
  },
  {
   "cell_type": "code",
   "execution_count": 267,
   "metadata": {},
   "outputs": [
    {
     "name": "stdout",
     "output_type": "stream",
     "text": [
      "Trial 7 Complete [00h 01m 24s]\n",
      "val_accuracy: 0.85546875\n",
      "\n",
      "Best val_accuracy So Far: 0.85546875\n",
      "Total elapsed time: 00h 05m 44s\n"
     ]
    }
   ],
   "source": [
    "pooling_kernel_size_tuner.search(train_images, train_labels, validation_data=(test_images, test_labels), epochs=10, batch_size=32, callbacks=[stop_early])"
   ]
  },
  {
   "cell_type": "code",
   "execution_count": 301,
   "metadata": {},
   "outputs": [
    {
     "name": "stdout",
     "output_type": "stream",
     "text": [
      "Results summary\n",
      "Results in ./convLayers/poolingLayerTests_kernelSize\n",
      "Showing 10 best trials\n",
      "<keras_tuner.engine.objective.Objective object at 0x4b39863b0>\n",
      "Trial summary\n",
      "Hyperparameters:\n",
      "Pooling Kernel Size: 6\n",
      "Score: 0.85546875\n",
      "Trial summary\n",
      "Hyperparameters:\n",
      "Pooling Kernel Size: 8\n",
      "Score: 0.8515625\n",
      "Trial summary\n",
      "Hyperparameters:\n",
      "Pooling Kernel Size: 2\n",
      "Score: 0.84765625\n",
      "Trial summary\n",
      "Hyperparameters:\n",
      "Pooling Kernel Size: 3\n",
      "Score: 0.8359375\n",
      "Trial summary\n",
      "Hyperparameters:\n",
      "Pooling Kernel Size: 7\n",
      "Score: 0.83203125\n",
      "Trial summary\n",
      "Hyperparameters:\n",
      "Pooling Kernel Size: 4\n",
      "Score: 0.81640625\n",
      "Trial summary\n",
      "Hyperparameters:\n",
      "Pooling Kernel Size: 5\n",
      "Score: 0.79296875\n",
      "None\n"
     ]
    }
   ],
   "source": [
    "print(pooling_kernel_size_tuner.results_summary())"
   ]
  },
  {
   "cell_type": "markdown",
   "metadata": {},
   "source": [
    "#### Results Graph"
   ]
  },
  {
   "cell_type": "code",
   "execution_count": 302,
   "metadata": {},
   "outputs": [
    {
     "name": "stdout",
     "output_type": "stream",
     "text": [
      "[(0.79296875, 5), (0.81640625, 4), (0.83203125, 7), (0.8359375, 3), (0.84765625, 2), (0.8515625, 8), (0.85546875, 6)]\n"
     ]
    }
   ],
   "source": [
    "numTrials = 7\n",
    "params = pooling_kernel_size_tuner.get_best_hyperparameters(num_trials=numTrials) #get hyper params best to worst\n",
    "\n",
    "scores = []\n",
    "pool_size = []\n",
    "for i in range(numTrials):\n",
    "    with open(f\"./convLayers/poolingLayerTests_kernelSize/trial_{i:02d}/trial.json\", 'r') as json_file:\n",
    "        data = json.load(json_file)\n",
    "        scores.append(data[\"score\"])\n",
    "    pool_size.append(params[i]['Pooling Kernel Size'])\n",
    "\n",
    "\n",
    "scores = sorted(scores)\n",
    "pool_size = pool_size[::-1] # reverse the order of the hyperparameters without sorting the list\n",
    "\n",
    "sortedPairs = sorted(list(zip(scores, pool_size)), key=lambda x: x[0])\n",
    "print(sortedPairs)"
   ]
  },
  {
   "cell_type": "code",
   "execution_count": 303,
   "metadata": {},
   "outputs": [
    {
     "data": {
      "image/png": "[encoded data removed]",
      "text/plain": [
       "<Figure size 750x350 with 1 Axes>"
      ]
     },
     "metadata": {},
     "output_type": "display_data"
    }
   ],
   "source": [
    "accuracies = [x[0] for x in sortedPairs]\n",
    "pool_sizes = [x[1] for x in sortedPairs]\n",
    "\n",
    "for i in range(numTrials):\n",
    "    plt.annotate(f\"{accuracies[i]*100: .2f}%\", xy=(pool_sizes[i], accuracies[i]), xytext=(pool_sizes[i], accuracies[i]), ha='center')\n",
    "\n",
    "plt.yscale(\"log\")\n",
    "ax = plt.subplot()\n",
    "ax.yaxis.set_minor_formatter(ticker.PercentFormatter(xmax=1))\n",
    "\n",
    "plt.title(\"Max Pooling Layer Kernel Size vs. Accuracy\")\n",
    "plt.xlabel('Max Pool Kernel Size')\n",
    "plt.ylabel('Accuracy')\n",
    "plt.bar(pool_size, accuracies, width=0.4)\n",
    "plt.savefig('graphs/poolingSize.png')\n",
    "plt.show()"
   ]
  },
  {
   "cell_type": "markdown",
   "metadata": {},
   "source": [
    "### Experimenting with the pool stride"
   ]
  },
  {
   "cell_type": "code",
   "execution_count": 95,
   "metadata": {},
   "outputs": [],
   "source": [
    "def build_model(hp):\n",
    "  \n",
    "  model = keras.Sequential()\n",
    "\n",
    "  model.add(keras.layers.Conv2D(32, 3, activation=\"relu\"))\n",
    "  stride = hp.Int(\"Kernel Stride\", min_value=1, max_value=5)\n",
    "  poolSize = 6\n",
    "  model.add(keras.layers.Conv2D(32, 3, activation=\"relu\"))\n",
    "  model.add(keras.layers.MaxPool2D(poolSize,stride))\n",
    "  model.add(keras.layers.Conv2D(32, 3, activation=\"relu\"))\n",
    "  model.add(keras.layers.MaxPool2D(poolSize,stride))\n",
    "  model.add(keras.layers.Conv2D(32, 3, activation=\"relu\"))\n",
    "  model.add(keras.layers.MaxPool2D(poolSize,stride))\n",
    "\n",
    "  model.add(keras.layers.Flatten())\n",
    "  model.add(keras.layers.Dense(2, activation=\"softmax\"))\n",
    "\n",
    "  model.compile(loss=\"sparse_categorical_crossentropy\", optimizer=\"adam\", metrics=[\"accuracy\"])\n",
    "\n",
    "  return model\n",
    "\n",
    "stop_early = tf.keras.callbacks.EarlyStopping(monitor='val_accuracy', patience=3)"
   ]
  },
  {
   "cell_type": "code",
   "execution_count": 304,
   "metadata": {},
   "outputs": [],
   "source": [
    "\n",
    "pool_stride_tuner = RandomSearch(\n",
    "                    build_model, \n",
    "                    objective=\"val_accuracy\",\n",
    "                    max_trials=10,\n",
    "                    directory='./convLayers',\n",
    "                    project_name='poolingLayerTests-stride-tests')"
   ]
  },
  {
   "cell_type": "code",
   "execution_count": 101,
   "metadata": {},
   "outputs": [
    {
     "name": "stdout",
     "output_type": "stream",
     "text": [
      "Trial 5 Complete [00h 00m 33s]\n",
      "val_accuracy: 0.875\n",
      "\n",
      "Best val_accuracy So Far: 0.8984375\n",
      "Total elapsed time: 08h 28m 43s\n"
     ]
    }
   ],
   "source": [
    "pool_stride_tuner.search(train_images, train_labels, validation_data=(test_images, test_labels), epochs=10, batch_size=32, callbacks=[stop_early])"
   ]
  },
  {
   "cell_type": "code",
   "execution_count": 305,
   "metadata": {},
   "outputs": [
    {
     "name": "stdout",
     "output_type": "stream",
     "text": [
      "Results summary\n",
      "Results in ./convLayers/poolingLayerTests-stride-tests\n",
      "Showing 10 best trials\n",
      "<keras_tuner.engine.objective.Objective object at 0x4b4841a50>\n",
      "Trial summary\n",
      "Hyperparameters:\n",
      "Kernel Stride: 5\n",
      "Score: 0.8984375\n",
      "Trial summary\n",
      "Hyperparameters:\n",
      "Kernel Stride: 4\n",
      "Score: 0.890625\n",
      "Trial summary\n",
      "Hyperparameters:\n",
      "Kernel Stride: 3\n",
      "Score: 0.875\n",
      "Trial summary\n",
      "Hyperparameters:\n",
      "Kernel Stride: 2\n",
      "Score: 0.85546875\n",
      "Trial summary\n",
      "Hyperparameters:\n",
      "Kernel Stride: 1\n",
      "Score: 0.8125\n",
      "None\n"
     ]
    }
   ],
   "source": [
    "print(pool_stride_tuner.results_summary())"
   ]
  },
  {
   "cell_type": "markdown",
   "metadata": {},
   "source": [
    "#### Results Graph"
   ]
  },
  {
   "cell_type": "code",
   "execution_count": 306,
   "metadata": {},
   "outputs": [
    {
     "name": "stdout",
     "output_type": "stream",
     "text": [
      "[(0.8125, 1), (0.85546875, 2), (0.875, 3), (0.890625, 4), (0.8984375, 5)]\n"
     ]
    }
   ],
   "source": [
    "numTrials = 5\n",
    "params = pool_stride_tuner.get_best_hyperparameters(num_trials=numTrials) #get hyper params best to worst\n",
    "\n",
    "scores = []\n",
    "pool_stride = []\n",
    "for i in range(numTrials):\n",
    "    with open(f\"./convLayers/poolingLayerTests-stride-tests/trial_{i:02d}/trial.json\", 'r') as json_file:\n",
    "        data = json.load(json_file)\n",
    "        scores.append(data[\"score\"])\n",
    "    pool_stride.append(params[i]['Kernel Stride'])\n",
    "\n",
    "\n",
    "scores = sorted(scores)\n",
    "pool_stride = pool_stride[::-1] # reverse the order of the hyperparameters without sorting the list\n",
    "\n",
    "sortedPairs = sorted(list(zip(scores, pool_stride)), key=lambda x: x[0])\n",
    "print(sortedPairs)"
   ]
  },
  {
   "cell_type": "code",
   "execution_count": 307,
   "metadata": {},
   "outputs": [
    {
     "data": {
      "image/png": "[encoded data removed]",
      "text/plain": [
       "<Figure size 750x350 with 1 Axes>"
      ]
     },
     "metadata": {},
     "output_type": "display_data"
    }
   ],
   "source": [
    "accuracies = [x[0] for x in sortedPairs]\n",
    "pool_stride = [x[1] for x in sortedPairs]\n",
    "\n",
    "for i in range(numTrials):\n",
    "    plt.annotate(f\"{accuracies[i]*100: .2f}%\", xy=(pool_stride[i], accuracies[i]), xytext=(pool_stride[i], accuracies[i]), ha='center')\n",
    "\n",
    "plt.yscale(\"log\")\n",
    "ax = plt.subplot()\n",
    "ax.yaxis.set_minor_formatter(ticker.PercentFormatter(xmax=1))\n",
    "\n",
    "plt.title(\"Max Pooling Layer Kernel Stride vs. Accuracy\")\n",
    "plt.xlabel('Max Pool Kernel Stride')\n",
    "plt.ylabel('Accuracy')\n",
    "plt.bar(pool_stride, accuracies, width=0.4)\n",
    "plt.savefig('graphs/poolStride.png')\n",
    "plt.show()\n"
   ]
  },
  {
   "cell_type": "markdown",
   "metadata": {},
   "source": [
    "### Experimenting with additional Dense layers prior to the output layer"
   ]
  },
  {
   "cell_type": "code",
   "execution_count": 14,
   "metadata": {},
   "outputs": [],
   "source": [
    "def build_model(hp):\n",
    "  model = keras.Sequential()\n",
    "  poolSize = 5\n",
    "  stride = 4\n",
    "  model.add(keras.layers.Conv2D(32, 3, activation=\"relu\"))\n",
    "  model.add(keras.layers.Conv2D(32, 3, activation=\"relu\"))\n",
    "  model.add(keras.layers.MaxPool2D(poolSize,stride))\n",
    "  model.add(keras.layers.Conv2D(32, 3, activation=\"relu\"))\n",
    "  model.add(keras.layers.MaxPool2D(poolSize,stride))\n",
    "  model.add(keras.layers.Conv2D(32, 3, activation=\"relu\"))\n",
    "  model.add(keras.layers.MaxPool2D(poolSize,stride))\n",
    "\n",
    "  model.add(keras.layers.Flatten())\n",
    "  model.add(keras.layers.Dense(hp.Choice(\"Dense Layer Size\", [2, 4, 8, 16, 32,64, 128, 256, 512, 1028]), activation=\"softmax\"))\n",
    "  model.add(keras.layers.Dense(2, activation=\"sigmoid\"))\n",
    "\n",
    "  model.compile(loss=\"sparse_categorical_crossentropy\", optimizer=\"adam\", metrics=[\"accuracy\"])\n",
    "  \n",
    "  return model\n",
    "\n",
    "stop_early = tf.keras.callbacks.EarlyStopping(monitor='val_accuracy', patience=3)"
   ]
  },
  {
   "cell_type": "code",
   "execution_count": 15,
   "metadata": {},
   "outputs": [
    {
     "name": "stdout",
     "output_type": "stream",
     "text": [
      "INFO:tensorflow:Reloading Oracle from existing project ./convLayers/dense_layer_tests/oracle.json\n",
      "INFO:tensorflow:Reloading Tuner from ./convLayers/dense_layer_tests/chief.json\n"
     ]
    }
   ],
   "source": [
    "dense_layer_tuner = RandomSearch(\n",
    "                    build_model, \n",
    "                    objective=\"val_accuracy\",\n",
    "                    max_trials=10, \n",
    "                    directory='./convLayers',\n",
    "                    project_name='dense_layer_tests')"
   ]
  },
  {
   "cell_type": "code",
   "execution_count": 115,
   "metadata": {},
   "outputs": [
    {
     "name": "stdout",
     "output_type": "stream",
     "text": [
      "Trial 10 Complete [00h 01m 13s]\n",
      "val_accuracy: 0.87890625\n",
      "\n",
      "Best val_accuracy So Far: 0.91796875\n",
      "Total elapsed time: 00h 09m 43s\n"
     ]
    }
   ],
   "source": [
    "dense_layer_tuner.search(train_images, train_labels, validation_data=(test_images, test_labels), epochs=10, batch_size=32, callbacks=[stop_early])"
   ]
  },
  {
   "cell_type": "code",
   "execution_count": 16,
   "metadata": {},
   "outputs": [
    {
     "name": "stdout",
     "output_type": "stream",
     "text": [
      "Results summary\n",
      "Results in ./convLayers/dense_layer_tests\n",
      "Showing 10 best trials\n",
      "<keras_tuner.engine.objective.Objective object at 0x28d63f400>\n",
      "Trial summary\n",
      "Hyperparameters:\n",
      "Dense Layer Size: 512\n",
      "Score: 0.91796875\n",
      "Trial summary\n",
      "Hyperparameters:\n",
      "Dense Layer Size: 4\n",
      "Score: 0.91015625\n",
      "Trial summary\n",
      "Hyperparameters:\n",
      "Dense Layer Size: 1028\n",
      "Score: 0.89453125\n",
      "Trial summary\n",
      "Hyperparameters:\n",
      "Dense Layer Size: 8\n",
      "Score: 0.89453125\n",
      "Trial summary\n",
      "Hyperparameters:\n",
      "Dense Layer Size: 2\n",
      "Score: 0.890625\n",
      "Trial summary\n",
      "Hyperparameters:\n",
      "Dense Layer Size: 64\n",
      "Score: 0.890625\n",
      "Trial summary\n",
      "Hyperparameters:\n",
      "Dense Layer Size: 16\n",
      "Score: 0.88671875\n",
      "Trial summary\n",
      "Hyperparameters:\n",
      "Dense Layer Size: 256\n",
      "Score: 0.87890625\n",
      "Trial summary\n",
      "Hyperparameters:\n",
      "Dense Layer Size: 32\n",
      "Score: 0.875\n",
      "Trial summary\n",
      "Hyperparameters:\n",
      "Dense Layer Size: 128\n",
      "Score: 0.8671875\n"
     ]
    }
   ],
   "source": [
    "dense_layer_tuner.results_summary()"
   ]
  },
  {
   "cell_type": "markdown",
   "metadata": {},
   "source": [
    "#### Results Graph"
   ]
  },
  {
   "cell_type": "code",
   "execution_count": 8,
   "metadata": {},
   "outputs": [
    {
     "name": "stdout",
     "output_type": "stream",
     "text": [
      "[(0.890625, 2), (0.91015625, 4), (0.89453125, 8), (0.88671875, 16), (0.875, 32), (0.890625, 64), (0.8671875, 128), (0.87890625, 256), (0.91796875, 512), (0.89453125, 1028)]\n"
     ]
    }
   ],
   "source": [
    "numTrials = 10\n",
    "params = dense_layer_tuner.get_best_hyperparameters(num_trials=numTrials) #get hyper params best to worst\n",
    "\n",
    "scores = []\n",
    "dense_layer_size = []\n",
    "for i in range(numTrials):\n",
    "    with open(f\"./convLayers/dense_layer_tests/trial_{i:02d}/trial.json\", 'r') as json_file:\n",
    "        data = json.load(json_file)\n",
    "        scores.append(data[\"score\"])\n",
    "    dense_layer_size.append(params[i]['Dense Layer Size'])\n",
    "\n",
    "\n",
    "scores = sorted(scores)\n",
    "dense_layer_size = dense_layer_size[::-1] # reverse the order of the hyperparameters without sorting the list\n",
    "\n",
    "\n",
    "sortedPairs = sorted(list(zip(scores, dense_layer_size)), key=lambda x: x[1])\n",
    "print(sortedPairs)"
   ]
  },
  {
   "cell_type": "code",
   "execution_count": 9,
   "metadata": {},
   "outputs": [
    {
     "data": {
      "image/png": "[encoded data removed]",
      "text/plain": [
       "<Figure size 700x700 with 1 Axes>"
      ]
     },
     "metadata": {},
     "output_type": "display_data"
    }
   ],
   "source": [
    "n = 10\n",
    "a = np.arange(n)\n",
    "# tuples = sorted(list(zip(accuracies, dense_layer_size, a)), key=lambda x: x[1])\n",
    "accuracies = [x[0] for x in sortedPairs]\n",
    "dense_layer_sizes = [x[1] for x in sortedPairs]\n",
    "\n",
    "x = dense_layer_sizes\n",
    "y = accuracies\n",
    "# z  = [x[2] for x in tuples]\n",
    "\n",
    "fig = plt.figure(1, figsize=(7,7))\n",
    "ax  = fig.add_subplot(212)\n",
    "\n",
    "for i in range(numTrials):\n",
    "    ax.annotate(f\"{accuracies[i]*100: .2f}%\", xy=(a[i], accuracies[i]), xytext=(a[i], accuracies[i]), ha='center')\n",
    "\n",
    "ax.bar(a, y, width=0.4) #we plot y as a function of a, which parametrizes x\n",
    "plt.yscale(\"log\")\n",
    "ax.yaxis.set_minor_formatter(ticker.PercentFormatter(xmax=1))\n",
    "ax.xaxis.set_ticks(a) #set the ticks to be a\n",
    "\n",
    "ax.xaxis.set_ticklabels(x) # change the ticks' names to x\n",
    "plt.title(\"Dense Layer Size vs. Accuracy\")\n",
    "plt.xlabel('Dense Layer Size (number of nodes)')\n",
    "plt.ylabel('Accuracy')\n",
    "plt.savefig('graphs/denseLayerSizes.png')\n",
    "plt.show()"
   ]
  },
  {
   "cell_type": "markdown",
   "metadata": {},
   "source": [
    "### Save the best Model"
   ]
  },
  {
   "cell_type": "code",
   "execution_count": 22,
   "metadata": {},
   "outputs": [
    {
     "name": "stdout",
     "output_type": "stream",
     "text": [
      "8/8 [==============================] - 1s 70ms/step - loss: 0.5421 - accuracy: 0.9180\n",
      "Accuracy: 91.80% \n"
     ]
    }
   ],
   "source": [
    "best_model = dense_layer_tuner.get_best_models()[0]\n",
    "loss, accuracy = best_model.evaluate(test_images, test_labels)\n",
    "print(f\"Accuracy: {accuracy*100:.2f}% \")\n",
    "# best_model.summary()"
   ]
  },
  {
   "cell_type": "code",
   "execution_count": 23,
   "metadata": {},
   "outputs": [
    {
     "name": "stdout",
     "output_type": "stream",
     "text": [
      "Model: \"sequential\"\n",
      "_________________________________________________________________\n",
      " Layer (type)                Output Shape              Param #   \n",
      "=================================================================\n",
      " conv2d (Conv2D)             (32, 298, 298, 32)        896       \n",
      "                                                                 \n",
      " conv2d_1 (Conv2D)           (32, 296, 296, 32)        9248      \n",
      "                                                                 \n",
      " max_pooling2d (MaxPooling2D  (32, 73, 73, 32)         0         \n",
      " )                                                               \n",
      "                                                                 \n",
      " conv2d_2 (Conv2D)           (32, 71, 71, 32)          9248      \n",
      "                                                                 \n",
      " max_pooling2d_1 (MaxPooling  (32, 17, 17, 32)         0         \n",
      " 2D)                                                             \n",
      "                                                                 \n",
      " conv2d_3 (Conv2D)           (32, 15, 15, 32)          9248      \n",
      "                                                                 \n",
      " max_pooling2d_2 (MaxPooling  (32, 3, 3, 32)           0         \n",
      " 2D)                                                             \n",
      "                                                                 \n",
      " flatten (Flatten)           (32, 288)                 0         \n",
      "                                                                 \n",
      " dense (Dense)               (32, 512)                 147968    \n",
      "                                                                 \n",
      " dense_1 (Dense)             (32, 2)                   1026      \n",
      "                                                                 \n",
      "=================================================================\n",
      "Total params: 177,634\n",
      "Trainable params: 177,634\n",
      "Non-trainable params: 0\n",
      "_________________________________________________________________\n"
     ]
    }
   ],
   "source": [
    "best_model.summary()"
   ]
  },
  {
   "cell_type": "code",
   "execution_count": 33,
   "metadata": {},
   "outputs": [
    {
     "name": "stderr",
     "output_type": "stream",
     "text": [
      "WARNING:absl:Found untraced functions such as _jit_compiled_convolution_op, _jit_compiled_convolution_op, _jit_compiled_convolution_op, _jit_compiled_convolution_op while saving (showing 4 of 4). These functions will not be directly callable after loading.\n"
     ]
    },
    {
     "name": "stdout",
     "output_type": "stream",
     "text": [
      "INFO:tensorflow:Assets written to: ./models/best_model/assets\n"
     ]
    },
    {
     "name": "stderr",
     "output_type": "stream",
     "text": [
      "INFO:tensorflow:Assets written to: ./models/best_model/assets\n"
     ]
    }
   ],
   "source": [
    "best_model.save_weights(\"./models/ckpt\")\n",
    "best_model.save(\"./models/best_model\")"
   ]
  },
  {
   "cell_type": "code",
   "execution_count": null,
   "metadata": {},
   "outputs": [],
   "source": []
  }
 ],
 "metadata": {
  "accelerator": "GPU",
  "colab": {
   "include_colab_link": true,
   "provenance": []
  },
  "gpuClass": "standard",
  "kernelspec": {
   "display_name": "Python 3 (ipykernel)",
   "language": "python",
   "name": "python3"
  },
  "language_info": {
   "codemirror_mode": {
    "name": "ipython",
    "version": 3
   },
   "file_extension": ".py",
   "mimetype": "text/x-python",
   "name": "python",
   "nbconvert_exporter": "python",
   "pygments_lexer": "ipython3",
   "version": "3.10.10"
  }
 },
 "nbformat": 4,
 "nbformat_minor": 1
}
