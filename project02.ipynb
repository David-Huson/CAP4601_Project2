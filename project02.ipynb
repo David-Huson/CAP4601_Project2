{
  "nbformat": 4,
  "nbformat_minor": 0,
  "metadata": {
    "colab": {
      "provenance": []
    },
    "kernelspec": {
      "name": "python3",
      "display_name": "Python 3"
    },
    "accelerator": "GPU"
  },
  "cells": [
    {
      "cell_type": "markdown",
      "source": [
        "# CAP4601-Intro to AI Project 2\n",
        "## Image Classification using Convolutional Neural Networks"
      ],
      "metadata": {
        "id": "Kp1HDtH_oRbj"
      }
    },
    {
      "cell_type": "code",
      "source": [
        "pip install -q tensorflow tensorflow-datasets"
      ],
      "metadata": {
        "id": "8ZI6eKm8oRIw",
        "outputId": "dddb966c-3cd1-4d4c-d3d3-cdf82666bb93",
        "colab": {
          "base_uri": "https://localhost:8080/",
          "height": 131
        }
      },
      "execution_count": null,
      "outputs": [
        {
          "output_type": "error",
          "ename": "SyntaxError",
          "evalue": "ignored",
          "traceback": [
            "\u001b[0;36m  File \u001b[0;32m\"<ipython-input-1-95c37c01f51c>\"\u001b[0;36m, line \u001b[0;32m1\u001b[0m\n\u001b[0;31m    pip install -q tensorflow tensorflow-datasets\u001b[0m\n\u001b[0m        ^\u001b[0m\n\u001b[0;31mSyntaxError\u001b[0m\u001b[0;31m:\u001b[0m invalid syntax\n"
          ]
        }
      ]
    }
  ]
}